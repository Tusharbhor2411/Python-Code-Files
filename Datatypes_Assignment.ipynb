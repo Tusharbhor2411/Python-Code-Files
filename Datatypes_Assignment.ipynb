{
 "cells": [
  {
   "cell_type": "code",
   "execution_count": null,
   "id": "a9d8a527",
   "metadata": {},
   "outputs": [],
   "source": [
    "#1. Write a Python program to enter two numbers and find their sum.\n",
    "num1=int(input(\"Enter 1st number:-\"))\n",
    "num2=int(input(\"Enter 2nd number:-\"))\n",
    "num3=num1+num2\n",
    "print(\"Sum of\",num1,\"&\",num2,\"is:-\",num3)"
   ]
  },
  {
   "cell_type": "code",
   "execution_count": null,
   "id": "628bbc5f",
   "metadata": {},
   "outputs": [],
   "source": [
    "#2. Write a Python program to enter two numbers and perform all arithmetic operations.\n",
    "num1=int(input(\"Enter 1st number:-\"))\n",
    "num2=int(input(\"Enter 2nd number:-\"))\n",
    "add=num1+num2\n",
    "print(\"Addition is:-\",add)\n",
    "sub=num1-num2\n",
    "print(\"Subtraction is:-\",sub)\n",
    "div=num1/num2\n",
    "print(\"Division is:-\",div)\n",
    "mult=num1*num2\n",
    "print(\"Multiplication is:-\",mult)\n",
    "mod=num1%num2\n",
    "print(\"Remainder is:-\",mod)\n",
    "floor=num1//num2\n",
    "print(\"Floor division is:-\",floor)\n",
    "#print(\"\\nAddition is:-\",add,\"\\nSubtraction is:-\",sub,\"\\nDivision is:-\",div,\"\\nMultiplication is:-\",mult,\"\\nRemainder is:-\",mod,\"\\nFloor division is:-\",floor)"
   ]
  },
  {
   "cell_type": "code",
   "execution_count": null,
   "id": "836752c0",
   "metadata": {},
   "outputs": [],
   "source": [
    "#3. Write a Python program to enter length and breadth of a rectangle and find its Area\n",
    "length=int(input(\"Enter the length:-\"))\n",
    "breadth=int(input(\"Enter the breadth:-\"))\n",
    "area=length*breadth\n",
    "print(\"Area of rectangle is:-\",area)"
   ]
  },
  {
   "cell_type": "code",
   "execution_count": null,
   "id": "22aee680",
   "metadata": {},
   "outputs": [],
   "source": [
    "#4. Write a Python program to enter base and height of a triangle and find its area.\n",
    "base=int(input(\"Enter the base:-\"))\n",
    "height=int(input(\"Enter the height:-\"))\n",
    "area=1/2*base*height\n",
    "print(\"Area of triangle is:-\",area)"
   ]
  },
  {
   "cell_type": "code",
   "execution_count": null,
   "id": "9a35f02e",
   "metadata": {},
   "outputs": [],
   "source": [
    "#5. Write a python Program to calculate Square of given number.\n",
    "num=int(input(\"Enter the number:-\"))\n",
    "square=num**2\n",
    "print(\"Square of\",num,\"is:-\",square)"
   ]
  },
  {
   "cell_type": "code",
   "execution_count": null,
   "id": "c6119ebb",
   "metadata": {},
   "outputs": [],
   "source": [
    "#6. Write a python Program to calculate cube of given number.\n",
    "num=int(input(\"Enter the number:-\"))\n",
    "cube=num**3\n",
    "print(\"Cube of\",num,\"is:-\",cube)"
   ]
  },
  {
   "cell_type": "code",
   "execution_count": null,
   "id": "49b73709",
   "metadata": {},
   "outputs": [],
   "source": [
    "#7. Write a Python program to enter marks of five subjects and calculate total, average and percentage.\n",
    "marks=int(input(\"Enter the out of marks:-\"))\n",
    "sub=int(input(\"Enter the number of subjects:-\"))\n",
    "out_of=marks*sub\n",
    "sub1=int(input(\"Enter the marks of subject1:-\"))\n",
    "sub2=int(input(\"Enter the marks of subject2:-\"))\n",
    "sub3=int(input(\"Enter the marks of subject3:-\"))\n",
    "sub4=int(input(\"Enter the marks of subject4:-\"))\n",
    "sub5=int(input(\"Enter the marks of subject5:-\"))\n",
    "total=sub1+sub2+sub3+sub4+sub5\n",
    "average=total/sub\n",
    "percentage=total/out_of*100\n",
    "print(\"Total of marks of all subjects:-\",total)\n",
    "print(\"Average of marks of all subjects\",average)\n",
    "print(\"Percentage is:-\",percentage)"
   ]
  },
  {
   "cell_type": "code",
   "execution_count": null,
   "id": "8106b5fe",
   "metadata": {},
   "outputs": [],
   "source": [
    "#8. Write a Python program to enter P, T, R and calculate Simple Interest.\n",
    "principal=int(input(\"Enter the principal amount:-\"))\n",
    "rate=int(input(\"Enter the interest rate:-\"))\n",
    "time=int(input(\"Enter the time/period:-\"))\n",
    "si=principal*rate*time/100\n",
    "print(\"Simple interest is:-\",si)"
   ]
  },
  {
   "cell_type": "code",
   "execution_count": null,
   "id": "e29e3277",
   "metadata": {},
   "outputs": [],
   "source": [
    "#9. Write a Python program to enter length and breadth of a rectangle and find its perimeter\n",
    "length=int(input(\"Enter the length:-\"))\n",
    "breadth=int(input(\"Enter the breadth:-\"))\n",
    "perimeter=2*length*breadth\n",
    "print(\"Area of rectangle is:-\",perimeter)"
   ]
  },
  {
   "cell_type": "code",
   "execution_count": null,
   "id": "d3a51472",
   "metadata": {},
   "outputs": [],
   "source": [
    "#10. Swap values of two integer variables\n",
    "num1=int(input(\"Enter 1st number:-\"))\n",
    "num2=int(input(\"Enter 2nd number:-\"))\n",
    "print(\"before swapping num1 is:-\",num1,\"&\",\"num2 is:-\",num2)\n",
    "num1,num2=num2,num1\n",
    "print(\"after swapping num1 is:-\",num1,\"&\",\"num2 is:-\",num2)"
   ]
  },
  {
   "cell_type": "code",
   "execution_count": null,
   "id": "667284d7",
   "metadata": {},
   "outputs": [],
   "source": [
    "#11. Write a program to find a raise to b accept a and b from user\n",
    "a=int(input(\"Enter 1st number:-\"))\n",
    "b=int(input(\"Enter 2nd number:-\"))\n",
    "power=a**b\n",
    "print(\"Power of a raise to b is:-\",power)"
   ]
  },
  {
   "cell_type": "code",
   "execution_count": null,
   "id": "d9a51b6a",
   "metadata": {},
   "outputs": [],
   "source": [
    "#12. Write a program to accept 2 number and find greatest\n",
    "num1=int(input(\"Enter 1st number:-\"))\n",
    "num2=int(input(\"Enter 2nd number:-\"))\n",
    "if num1>num2:\n",
    "    print(\"num1 is greatest\")\n",
    "elif num1==num2:\n",
    "    print(\"both are same\")\n",
    "else:\n",
    "    print(\"num2 is greatest\")"
   ]
  },
  {
   "cell_type": "code",
   "execution_count": null,
   "id": "82aa89d1",
   "metadata": {},
   "outputs": [],
   "source": [
    "#13. Write a program to accept number and check whether positive or negative\n",
    "number=int(input(\"Enter number:-\"))\n",
    "if number>0:\n",
    "    print(\"number is positive\")\n",
    "elif number==0:\n",
    "    print(\"number is zero\")\n",
    "else:\n",
    "    print(\"number is negative\")"
   ]
  },
  {
   "cell_type": "code",
   "execution_count": null,
   "id": "97b6ef2e",
   "metadata": {},
   "outputs": [],
   "source": [
    "#14. WAP to check whether given number is three digit if yes check whether armstrong or not.\n",
    "num=int(input(\"Enter the number:-\"))\n",
    "num1=str(num)\n",
    "temp=num\n",
    "length=len(num1)\n",
    "sum=0\n",
    "while temp>0:\n",
    "    rem=temp%10\n",
    "    sum=sum+rem**length\n",
    "    temp=temp//10\n",
    "print(sum)\n",
    "\n",
    "if num==sum:\n",
    "    print(num,\"is armstrong number\")\n",
    "else:\n",
    "    print(num,\"is not armstrong number\")"
   ]
  },
  {
   "cell_type": "code",
   "execution_count": null,
   "id": "e3eb7561",
   "metadata": {},
   "outputs": [],
   "source": [
    "#15. WAP to accept four digit number and do sum of digits\n",
    "num=int(input(\"Enter four digit number:-\"))\n",
    "num1=str(num)\n",
    "temp=num\n",
    "length=len(num1)\n",
    "sum=0\n",
    "if length>=4:\n",
    "    while temp>0:\n",
    "        rem=temp%10\n",
    "        sum=sum+rem\n",
    "        temp=temp//10\n",
    "    print(sum)\n",
    "else:\n",
    "    print(\"Please enter four digit number only!!!\")"
   ]
  },
  {
   "cell_type": "code",
   "execution_count": null,
   "id": "1f70e3eb",
   "metadata": {},
   "outputs": [],
   "source": [
    "#16. Write a python program to check whether a number is even or odd\n",
    "num=int(input(\"Enter teh number:-\"))\n",
    "if num%2==0:\n",
    "    print(num,\"is even\")\n",
    "else:\n",
    "    print(num,\"is odd\")"
   ]
  },
  {
   "cell_type": "code",
   "execution_count": null,
   "id": "170433ee",
   "metadata": {},
   "outputs": [],
   "source": [
    "#17. Write a program to check whether a year is leap year or not\n",
    "year=int(input(\"Enter the year:-\"))\n",
    "if year%400==0 and year%100==0 or year%4==0:\n",
    "    print(year,\"is Leap year\")\n",
    "else:\n",
    "    print(year,\"is not Leap year\")"
   ]
  },
  {
   "cell_type": "code",
   "execution_count": null,
   "id": "9e413436",
   "metadata": {},
   "outputs": [],
   "source": [
    "#18. Write a program to check whether a number is divisible by 5 and 11 or not\n",
    "num=int(input(\"Enter the number:-\"))\n",
    "if num%5==0 and num%11==0:\n",
    "    print(num,\"is divisible by 5 & 11\")\n",
    "else:\n",
    "    print(num,\"is not divisible by 5 & 11\")"
   ]
  },
  {
   "cell_type": "code",
   "execution_count": 2,
   "id": "2bf9861a",
   "metadata": {},
   "outputs": [
    {
     "name": "stdout",
     "output_type": "stream",
     "text": [
      "Enter the number:-29\n",
      "29 is special number\n"
     ]
    }
   ],
   "source": [
    "#19. WAP to check whether given number is special 2 digit number or not\n",
    "#A special two-digit number is a number such that when the sum of the digits of the number is added to the product of its digits,\n",
    "#the result is equal to the original two-digit number.\n",
    "num=int(input(\"Enter the number:-\"))\n",
    "sum=0\n",
    "prod=1\n",
    "temp=num\n",
    "while temp>0:\n",
    "    rem=temp%10\n",
    "    sum=sum+rem\n",
    "    prod=prod*rem\n",
    "    temp=temp//10\n",
    "total=sum+prod\n",
    "\n",
    "if num==total:\n",
    "    print(num,\"is special number\")\n",
    "else:\n",
    "    print(num,\"is not special number\")"
   ]
  },
  {
   "cell_type": "code",
   "execution_count": 3,
   "id": "063b0f40",
   "metadata": {},
   "outputs": [
    {
     "name": "stdout",
     "output_type": "stream",
     "text": [
      "Enter employee name:-t\n",
      "Enter employee's basic salary:-10000\n",
      "The gross salary of t is 10000\n",
      "The gross salary of t is 14250.0\n",
      "The gross salary of t is 13250.0\n"
     ]
    }
   ],
   "source": [
    "#20. Write a program to input name and basic salary of an employee. Calculate and\n",
    "#display the gross salary and net salary when : da = 30% of basic, hra = 12.5% of basic, pf = 10% of basic,\n",
    "#gross= basic+ da+ hra,\n",
    "#net pay = gross - pf\n",
    "\n",
    "name=input(\"Enter employee name:-\")\n",
    "basic=int(input(\"Enter employee's basic salary:-\"))\n",
    "da=basic*(0.30)\n",
    "hra=basic*(0.125)\n",
    "pf=basic*(0.10)\n",
    "gross=basic+da+hra\n",
    "net_pay=gross-pf\n",
    "print(\"The gross salary of\",name,\"is\",basic)\n",
    "print(\"The gross salary of\",name,\"is\",gross)\n",
    "print(\"The gross salary of\",name,\"is\",net_pay)"
   ]
  }
 ],
 "metadata": {
  "kernelspec": {
   "display_name": "Python 3 (ipykernel)",
   "language": "python",
   "name": "python3"
  },
  "language_info": {
   "codemirror_mode": {
    "name": "ipython",
    "version": 3
   },
   "file_extension": ".py",
   "mimetype": "text/x-python",
   "name": "python",
   "nbconvert_exporter": "python",
   "pygments_lexer": "ipython3",
   "version": "3.11.0"
  }
 },
 "nbformat": 4,
 "nbformat_minor": 5
}
