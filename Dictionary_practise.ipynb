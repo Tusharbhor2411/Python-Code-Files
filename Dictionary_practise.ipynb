{
 "cells": [
  {
   "cell_type": "code",
   "execution_count": 1,
   "id": "eceba595",
   "metadata": {},
   "outputs": [
    {
     "name": "stdout",
     "output_type": "stream",
     "text": [
      "Dictionary: {'Name': 'Tushar', 'Age': 24, 'Designation': 'Programmer'}\n",
      "Length of dictionary: 3\n"
     ]
    }
   ],
   "source": [
    "#1.Find the length of the dictionary\n",
    "dict1={'Name':'Tushar', 'Age':24, 'Designation':'Programmer'}\n",
    "print(\"Dictionary:\",dict1)\n",
    "print(\"Length of dictionary:\",len(dict1))"
   ]
  },
  {
   "cell_type": "code",
   "execution_count": 5,
   "id": "d0f550cc",
   "metadata": {},
   "outputs": [
    {
     "name": "stdout",
     "output_type": "stream",
     "text": [
      "{'Age': 24, 'Designation': 'Programmer', 'Name': 'Tushar', 'Surname': 'Bhor'}\n"
     ]
    }
   ],
   "source": [
    "#2.Print the dictionary in sorted manner\n",
    "dict1={'Name':'Tushar', 'Surname':'Bhor', 'Age':24, 'Designation':'Programmer'}\n",
    "keys=list(dict1.keys())\n",
    "sort1=keys.sort()\n",
    "sorted_dict={i: dict1[i] for i in keys}\n",
    "print(sorted_dict)"
   ]
  },
  {
   "cell_type": "code",
   "execution_count": null,
   "id": "0b4189d0",
   "metadata": {},
   "outputs": [],
   "source": [
    "#3.Check whether the value is present in dictionary-create-print-print"
   ]
  },
  {
   "cell_type": "code",
   "execution_count": 6,
   "id": "8823dd3e",
   "metadata": {},
   "outputs": [
    {
     "name": "stdout",
     "output_type": "stream",
     "text": [
      "{'A': 1, 'B': 2, 'C': 3, 'D': 4, 'E': 5}\n"
     ]
    }
   ],
   "source": [
    "#4.Convert a tuple in dictionary\n",
    "tuple1=[('A',1),('B',2),('C',3),('D',4),('E',5)]\n",
    "dict1=dict(tuple1)\n",
    "print(dict1)"
   ]
  },
  {
   "cell_type": "code",
   "execution_count": null,
   "id": "e05b9d00",
   "metadata": {},
   "outputs": [],
   "source": [
    "#5.Create a dictionary student with student details\n",
    "#Add elelments to students dictionary\n",
    "#Delete one elements from student dictionary\n",
    "#Return a element with key 101 from student dictionary\n",
    "#Print only the keys from dictionary student\n",
    "#Print only the values from dictionary students"
   ]
  },
  {
   "cell_type": "code",
   "execution_count": 6,
   "id": "eaccea5d",
   "metadata": {},
   "outputs": [
    {
     "name": "stdout",
     "output_type": "stream",
     "text": [
      "{'Tushar': 24000, 'Bhau': 17000, 'Adesh': 10000, 'Amar': 29000, 'Suyash': 20000, 'Aniket': 9000}\n",
      "{'Tushar': 24000, 'Bhau': 17000, 'Amar': 29000, 'Suyash': 20000}\n"
     ]
    }
   ],
   "source": [
    "#6.Create a dict employee with ename as key and salary as value.\n",
    "#.Print the employee dict\n",
    "#.Delete the employee with salary 10000\n",
    "dict1={\"Tushar\":24000,\"Bhau\":17000,\"Adesh\":10000,\"Amar\":29000,\"Suyash\":20000,\"Aniket\":9000}\n",
    "print(dict1)\n",
    "for keys,values in list(dict1.items()):\n",
    "    if values<=10000:\n",
    "        del dict1[keys]\n",
    "print(dict1)\n"
   ]
  },
  {
   "cell_type": "code",
   "execution_count": 14,
   "id": "3cb7a501",
   "metadata": {},
   "outputs": [
    {
     "name": "stdout",
     "output_type": "stream",
     "text": [
      "Original dictionary is:- {'Name': 'Tushar', 'Surname': 'Bhor', 'Designation': 'Programmer'}\n",
      "After adding elements:- {'Name': 'Tushar', 'Surname': 'Bhor', 'Designation': 'Programmer', 'Age': 24}\n",
      "After removing element:- {'Name': 'Tushar', 'Designation': 'Programmer', 'Age': 24}\n",
      "Elements of the dictionary are:-\n",
      "Name - Tushar\n",
      "Designation - Programmer\n",
      "Age - 24\n"
     ]
    }
   ],
   "source": [
    "dict1={'Name':'Tushar', 'Surname':'Bhor', 'Designation':'Programmer'}\n",
    "print(\"Original dictionary is:-\",dict1)\n",
    "dict1['Age'] = 24\n",
    "print(\"After adding elements:-\",dict1)\n",
    "del dict1[\"Surname\"]\n",
    "print(\"After removing element:-\",dict1)\n",
    "print(\"Elements of the dictionary are:-\")\n",
    "for i in dict1:\n",
    "    print(i,\"-\",dict1[i])"
   ]
  },
  {
   "cell_type": "code",
   "execution_count": null,
   "id": "3ae2eae0",
   "metadata": {},
   "outputs": [],
   "source": []
  }
 ],
 "metadata": {
  "kernelspec": {
   "display_name": "Python 3 (ipykernel)",
   "language": "python",
   "name": "python3"
  },
  "language_info": {
   "codemirror_mode": {
    "name": "ipython",
    "version": 3
   },
   "file_extension": ".py",
   "mimetype": "text/x-python",
   "name": "python",
   "nbconvert_exporter": "python",
   "pygments_lexer": "ipython3",
   "version": "3.11.0"
  }
 },
 "nbformat": 4,
 "nbformat_minor": 5
}
