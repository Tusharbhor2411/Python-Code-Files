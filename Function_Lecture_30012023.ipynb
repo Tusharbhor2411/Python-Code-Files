{
 "cells": [
  {
   "cell_type": "code",
   "execution_count": null,
   "id": "ba0a8800",
   "metadata": {},
   "outputs": [],
   "source": []
  },
  {
   "cell_type": "code",
   "execution_count": null,
   "id": "03f15a50",
   "metadata": {},
   "outputs": [],
   "source": [
    "number=int(input(\"Enter the number:-\"))\n",
    "fact=1\n",
    "sum=0\n",
    "for i in range(1,number+1):\n",
    "    fact*=i\n",
    "    sum+=fact\n",
    "print(\"Factorial of\",number,\"is:-\",fact)\n",
    "print(\"Sum of factorial of\",number,\"is:-\",sum)"
   ]
  },
  {
   "cell_type": "code",
   "execution_count": null,
   "id": "90c22b9b",
   "metadata": {},
   "outputs": [],
   "source": [
    "num=int(input(\"Enter the number:-\"))\n",
    "str1=str(num)\n",
    "str2=list(str1)\n",
    "temp=num\n",
    "digit=sum=0\n",
    "for i in str2:\n",
    "    digit=temp%10\n",
    "    sum=sum+digit\n",
    "    temp=temp//10\n",
    "if num%sum==0:\n",
    "    print(num,\"is harshad number\")\n",
    "else:\n",
    "    print(num,\"is not harshad number\")"
   ]
  },
  {
   "cell_type": "markdown",
   "id": "fb2a6a13",
   "metadata": {},
   "source": [
    "# Function"
   ]
  },
  {
   "cell_type": "code",
   "execution_count": null,
   "id": "87000ca9",
   "metadata": {},
   "outputs": [],
   "source": [
    "def calculator():\n",
    "    num1=int(input(\"Enter the number1:-\"))\n",
    "    num2=int(input(\"Enter the number2:-\"))\n",
    "    op=input(\"Enter your operation:-\")\n",
    "    \n",
    "    if op==\"+\":\n",
    "        add=num1+num2\n",
    "        print(\"Addition is:-\",add)\n",
    "    elif op==\"-\":\n",
    "        sub=num1-num2\n",
    "        print(\"Subtraction is:-\",sub)\n",
    "    elif op==\"*\":\n",
    "        mult=num1*num2\n",
    "        print(\"Multiplication is:-\",mult)\n",
    "    elif op==\"/\":\n",
    "        div=num1/num2\n",
    "        print(\"Division is:-\",div)\n",
    "    elif op==\"**\":\n",
    "        power=num1**num2\n",
    "        print(\"Power is:-\",power)\n",
    "    elif op==\"%\":\n",
    "        mod=num1%num2\n",
    "        print(\"Remainder is:-\",mod)\n",
    "    elif op==\"//\":\n",
    "        floor=num1//num2\n",
    "        print(\"Quotient is:-\",floor)\n",
    "    else:\n",
    "        print(\"Enter valid operator\")\n",
    "        \n",
    "calculator()"
   ]
  },
  {
   "cell_type": "code",
   "execution_count": null,
   "id": "44ad9a70",
   "metadata": {},
   "outputs": [],
   "source": [
    "def factorial():\n",
    "    num=int(input(\"Enter factorial number:-\"))\n",
    "    fact=1\n",
    "    if num>0:\n",
    "        for i in range(1,num+1):\n",
    "            fact=fact*i\n",
    "        print(fact)\n",
    "    else:\n",
    "        print(\"Enter positive values only!!!\")\n",
    "    \n",
    "factorial()"
   ]
  },
  {
   "cell_type": "code",
   "execution_count": null,
   "id": "5e8c7a74",
   "metadata": {},
   "outputs": [],
   "source": [
    "def fact1(num):\n",
    "    if num>=1:\n",
    "        return num*fact1(num-1)\n",
    "    else:\n",
    "         return 1\n",
    "\n",
    "num=int(input(\"Enter factorial number:-\"))\n",
    "fact1(num)"
   ]
  },
  {
   "cell_type": "code",
   "execution_count": null,
   "id": "c87919fa",
   "metadata": {},
   "outputs": [],
   "source": [
    "def pallindrome():\n",
    "    word=input(\"Enter the value:-\")\n",
    "    if word==word[::-1]:\n",
    "        print(\"String is palindrome\")\n",
    "    else:\n",
    "        print(\"String is not palindrome\")\n",
    "        \n",
    "pallindrome()"
   ]
  },
  {
   "cell_type": "code",
   "execution_count": null,
   "id": "1888e6d3",
   "metadata": {},
   "outputs": [],
   "source": [
    "def ispalindrome(word):\n",
    "    if pallindrome(word)==True:\n",
    "        print(\"String is palindrome\")\n",
    "    else:\n",
    "        print(\"String is not palindrome\")\n",
    "        \n",
    "        \n",
    "#word=input(\"Enter the value:-\")\n",
    "   "
   ]
  },
  {
   "cell_type": "code",
   "execution_count": null,
   "id": "4bf2a848",
   "metadata": {},
   "outputs": [],
   "source": [
    "def sum_numbers(n=0):\n",
    "    sum1=0\n",
    "    for i in range(n+1):\n",
    "        sum1+=i\n",
    "    print(sum1)\n",
    "\n",
    "n=int(input(\"Enter the number:-\"))\n",
    "sum_numbers(n)"
   ]
  },
  {
   "cell_type": "code",
   "execution_count": null,
   "id": "155fa712",
   "metadata": {},
   "outputs": [],
   "source": [
    "def sum_1(n=0):\n",
    "    if n>=1:\n",
    "        return n+sum_1(n-1)\n",
    "    else:\n",
    "        return 0\n",
    "\n",
    "n=int(input(\"Enter the number:-\"))\n",
    "sum_1(n)"
   ]
  },
  {
   "cell_type": "code",
   "execution_count": null,
   "id": "acd71a3d",
   "metadata": {},
   "outputs": [],
   "source": [
    "x=\"Tushar\"\n",
    "y=(lambda x : print(x,\"Hello\"))(x)\n",
    "y"
   ]
  },
  {
   "cell_type": "code",
   "execution_count": 4,
   "id": "6443a24f",
   "metadata": {},
   "outputs": [
    {
     "data": {
      "text/plain": [
       "[2.154434690031884,\n",
       " 2.3513346877207573,\n",
       " 2.46621207433047,\n",
       " 2.7144176165949063,\n",
       " 2.924017738212866,\n",
       " 2.8844991406148166,\n",
       " 2.8844991406148166,\n",
       " 3.5568933044900626,\n",
       " 3.2710663101885897]"
      ]
     },
     "execution_count": 4,
     "metadata": {},
     "output_type": "execute_result"
    }
   ],
   "source": [
    "list1=[10,13,15,20,25,24,24,45,35]\n",
    "def cube_root(n):\n",
    "    return n**(1/3)\n",
    "\n",
    "x=map(cube_root,list1)\n",
    "list(x)"
   ]
  },
  {
   "cell_type": "code",
   "execution_count": 2,
   "id": "110175cc",
   "metadata": {},
   "outputs": [
    {
     "name": "stdout",
     "output_type": "stream",
     "text": [
      "211\n"
     ]
    }
   ],
   "source": [
    "from functools import *\n",
    "def add(a,b):\n",
    "    return a+b\n",
    "list1=[10,13,15,20,25,24,24,45,35]\n",
    "x=reduce(add,list1)\n",
    "print(x)"
   ]
  },
  {
   "cell_type": "code",
   "execution_count": 7,
   "id": "94c80439",
   "metadata": {},
   "outputs": [
    {
     "name": "stdout",
     "output_type": "stream",
     "text": [
      "5698\n"
     ]
    }
   ],
   "source": [
    "list1=[10000,124,500,134,435,500,567,235,533,642,632]\n",
    "def withdraw(a,b):\n",
    "    return a-b\n",
    "x=reduce(withdraw,list1)\n",
    "print(x)"
   ]
  }
 ],
 "metadata": {
  "kernelspec": {
   "display_name": "Python 3 (ipykernel)",
   "language": "python",
   "name": "python3"
  },
  "language_info": {
   "codemirror_mode": {
    "name": "ipython",
    "version": 3
   },
   "file_extension": ".py",
   "mimetype": "text/x-python",
   "name": "python",
   "nbconvert_exporter": "python",
   "pygments_lexer": "ipython3",
   "version": "3.11.0"
  }
 },
 "nbformat": 4,
 "nbformat_minor": 5
}
