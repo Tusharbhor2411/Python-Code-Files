{
 "cells": [
  {
   "cell_type": "code",
   "execution_count": 38,
   "id": "8a4906be",
   "metadata": {},
   "outputs": [
    {
     "name": "stdout",
     "output_type": "stream",
     "text": [
      "Enter the string:- HELLO MY NAME IS JOHN\n",
      " OLLEH YM EMAN SI NHOJ\n"
     ]
    }
   ],
   "source": [
    "#1. Given s string of words separated by spaces, write a function to reverse the order of the letters in each words.\n",
    "#input: HELLO MY NAME IS JOHN\n",
    "#Output: OLLEH YM EMAN SI NOJH\n",
    "\n",
    "str1=input(\"Enter the string:- \")\n",
    "split_value = []\n",
    "tmp = ''\n",
    "for i in str1:\n",
    "    if i==' ':\n",
    "        split_value.append(tmp)\n",
    "        tmp = ''\n",
    "    else:\n",
    "        tmp += i\n",
    "if tmp:\n",
    "    split_value.append(tmp)\n",
    "\n",
    "string1=[]\n",
    "string2=''\n",
    "for word1 in split_value:\n",
    "    string1.append(word1[::-1])\n",
    "    \n",
    "for word2 in string1:\n",
    "    string2=string2+' '+word2\n",
    "print(string2)"
   ]
  },
  {
   "cell_type": "code",
   "execution_count": 66,
   "id": "052545f8",
   "metadata": {},
   "outputs": [
    {
     "name": "stdout",
     "output_type": "stream",
     "text": [
      "Enter the value: 6\n",
      "Enter number of elements : 4\n",
      "2\n",
      "5\n",
      "7\n",
      "9\n",
      "a:- 6 \n",
      "b:- [2, 5, 7, 9]\n",
      "Enter the sum of expression:-15\n",
      "3\n"
     ]
    }
   ],
   "source": [
    "#2.write a program to find the value of x where x is the index of the array element\n",
    "#Input: a = 6, b = [2,5,7,9]\n",
    "#Expression: 15 = a + b[x]\n",
    "#output: 3, where b[3] = 9 so that 15 = 6 + 9\n",
    "a=int(input(\"Enter the value: \"))\n",
    "b=[]\n",
    "n=int(input(\"Enter number of elements : \"))\n",
    "for i in range(n):\n",
    "    ele=int(input())\n",
    "    b.append(ele)\n",
    "print(\"a:-\",a,\"\\nb:-\",b)\n",
    "\n",
    "c=int(input(\"Enter the sum of expression:-\"))\n",
    "for idx,x in enumerate(b):\n",
    "    temp=a+b[idx]\n",
    "    if c==temp:\n",
    "        print(idx)"
   ]
  },
  {
   "cell_type": "code",
   "execution_count": 87,
   "id": "2d0f9961",
   "metadata": {},
   "outputs": [
    {
     "name": "stdout",
     "output_type": "stream",
     "text": [
      "Enter how many numbers you want:-5\n",
      "10\n",
      "10\n",
      "1\n",
      "3\n",
      "2\n",
      "The maximum product of three elements is:- 1\n"
     ]
    }
   ],
   "source": [
    "#3.Given an array of integers, write a function to find the maximum product of any three elements in the array.\n",
    "#input: [10, 10, 1, 3, 2]\n",
    "#output: 300\n",
    "num1=[]\n",
    "n=int(input('Enter how many numbers you want:-'))\n",
    "for i in range(n):\n",
    "    ele=int(input())\n",
    "    num1.append(ele)\n",
    "\n",
    "for i in range(n):\n",
    "    for j in range(i+1,n):\n",
    "        if num1[i]<num1[j]:\n",
    "            num1[i],num1[j]=num1[j],num1[i]\n",
    "\n",
    "prod=1\n",
    "for i in enumerate(num1):\n",
    "    if idx<3:\n",
    "        prod=prod*num1[idx]\n",
    "print(\"The maximum product of three elements is:-\",prod)"
   ]
  },
  {
   "cell_type": "code",
   "execution_count": 89,
   "id": "a242069b",
   "metadata": {},
   "outputs": [
    {
     "data": {
      "text/plain": [
       "0"
      ]
     },
     "execution_count": 89,
     "metadata": {},
     "output_type": "execute_result"
    }
   ],
   "source": [
    "# 3. Write a program to round up and round down the given number to the nearest 50.\n",
    "# \tInput\t: 34\t\tOutput : 50\n",
    "# \tInput\t: 1276\tOutput : 1300\n",
    "# \tInput : 1274      Output : 1250\n",
    "num=int(input(\"Enter the number:- \"))\n"
   ]
  }
 ],
 "metadata": {
  "kernelspec": {
   "display_name": "Python 3 (ipykernel)",
   "language": "python",
   "name": "python3"
  },
  "language_info": {
   "codemirror_mode": {
    "name": "ipython",
    "version": 3
   },
   "file_extension": ".py",
   "mimetype": "text/x-python",
   "name": "python",
   "nbconvert_exporter": "python",
   "pygments_lexer": "ipython3",
   "version": "3.11.0"
  }
 },
 "nbformat": 4,
 "nbformat_minor": 5
}
