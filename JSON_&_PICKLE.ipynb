{
 "cells": [
  {
   "cell_type": "code",
   "execution_count": 15,
   "id": "e2a9c2b9",
   "metadata": {},
   "outputs": [
    {
     "name": "stdout",
     "output_type": "stream",
     "text": [
      "{'Name': 'Shantanu', 'Address': '123,Janpath,East Andheri', 'Age': 21, 'Height': '170 cm', 'Weight': '55 kgs'}\n",
      "Shantanu\n",
      "[{'Name': 'Shantanu', 'Address': '123,Janpath,East Andheri', 'Age': 21, 'Height': '170 cm', 'Weight': '55 kgs'}, {'Name': 'Shantanu', 'Address': '123,Janpath,East Andheri', 'Age': 21, 'Height': '170 cm', 'Weight': '55 kgs'}]\n",
      "{'name': 'Ceaser', 'animal_type': 'Dog'}\n",
      "Json dumps:  {\"name\": \"Ceaser\", \"animal_type\": \"Dog\"} <class 'str'>\n",
      "{'name': 'Ceaser', 'animal_type': 'Dog'} <class 'dict'>\n"
     ]
    },
    {
     "ename": "AttributeError",
     "evalue": "'Animal' object has no attribute 'print_attr'",
     "output_type": "error",
     "traceback": [
      "\u001b[1;31m---------------------------------------------------------------------------\u001b[0m",
      "\u001b[1;31mAttributeError\u001b[0m                            Traceback (most recent call last)",
      "Cell \u001b[1;32mIn[15], line 71\u001b[0m\n\u001b[0;32m     69\u001b[0m \u001b[38;5;28mprint\u001b[39m(animal_obj_deser,\u001b[38;5;28mtype\u001b[39m(animal_obj_deser))\n\u001b[0;32m     70\u001b[0m new_animal_obj\u001b[38;5;241m=\u001b[39mAnimal(\u001b[38;5;241m*\u001b[39m\u001b[38;5;241m*\u001b[39manimal_obj_deser)\n\u001b[1;32m---> 71\u001b[0m \u001b[43mnew_animal_obj\u001b[49m\u001b[38;5;241;43m.\u001b[39;49m\u001b[43mprint_attr\u001b[49m()\n\u001b[0;32m     73\u001b[0m animal_dog\u001b[38;5;241m=\u001b[39mAnimal(\u001b[38;5;124m\"\u001b[39m\u001b[38;5;124mCeaser\u001b[39m\u001b[38;5;124m\"\u001b[39m,\u001b[38;5;124m\"\u001b[39m\u001b[38;5;124mDog\u001b[39m\u001b[38;5;124m\"\u001b[39m)\n\u001b[0;32m     74\u001b[0m animal_cat\u001b[38;5;241m=\u001b[39mAnimal(\u001b[38;5;124m\"\u001b[39m\u001b[38;5;124mMandu\u001b[39m\u001b[38;5;124m\"\u001b[39m,\u001b[38;5;124m\"\u001b[39m\u001b[38;5;124mCat\u001b[39m\u001b[38;5;124m\"\u001b[39m)\n",
      "\u001b[1;31mAttributeError\u001b[0m: 'Animal' object has no attribute 'print_attr'"
     ]
    }
   ],
   "source": [
    "import json\n",
    "import codecs\n",
    "\n",
    "person={}\n",
    "person['Name']='Shantanu'\n",
    "person['Address']='123,Janpath,East Andheri'\n",
    "person['Age']=21\n",
    "person['Height']='170 cm'\n",
    "person['Weight']='55 kgs'\n",
    "\n",
    "\n",
    "#Javascript Object Notation\n",
    "#Serialization\n",
    "with open('person.json','w') as f:\n",
    "    json.dump(person,f)\n",
    "\n",
    "\n",
    "#Deserialization\n",
    "with open('person.json','r') as f:\n",
    "    person_dict=json.load(f)\n",
    "    \n",
    "print(person_dict)\n",
    "print(person_dict['Name'])\n",
    "\n",
    "person_list=[person_dict,person_dict]\n",
    "with open('person_list.json','w') as f:\n",
    "    json.dump(person_list,f)\n",
    "    \n",
    "with open('person_list.json','r') as f:\n",
    "    person_list_from_file=json.load(f)\n",
    "    \n",
    "print(person_list_from_file)\n",
    "\n",
    "class Animal:\n",
    "    def __init__(self,name,animal_type):\n",
    "        self.name=name\n",
    "        self.animal_type=animal_type\n",
    "        \n",
    "        def print_attr(self):\n",
    "            print(\"Animal attributes are: \",self.name,self.animal_type)\n",
    "            \n",
    "class Zoo:\n",
    "    def __init__(self,animals):\n",
    "        self.animals=animals\n",
    "        \n",
    "        def print_attr(self):\n",
    "            print(\"Zoo attributes are: \",self.animals)\n",
    "            for _animal in self.animals:\n",
    "                _animal.print_attr()\n",
    "                \n",
    "        @statismethod\n",
    "        def from_json(zoo_json):\n",
    "            zoo_dict=json.loads(zoo_json)\n",
    "            zoo_obj_new=Zoo(**zoo_dict)\n",
    "            animal_lst=[]\n",
    "            for _animal in zoo_obj_new.animals:\n",
    "                animal_lst.append(Animal(**_animal))\n",
    "            zoo_obj_new.animals=animal_lst\n",
    "            return zoo_obj_new\n",
    "        \n",
    "animal=Animal(\"Ceaser\",\"Dog\")\n",
    "print(animal.__dict__)\n",
    "#In a memory Serialization\n",
    "animal_obj_ser=json.dumps(animal.__dict__)\n",
    "print(\"Json dumps: \",animal_obj_ser,type(animal_obj_ser))\n",
    "\n",
    "#Deserialization\n",
    "animal_obj_deser=json.loads(animal_obj_ser)\n",
    "print(animal_obj_deser,type(animal_obj_deser))\n",
    "new_animal_obj=Animal(**animal_obj_deser)\n",
    "new_animal_obj.print_attr()\n",
    "\n",
    "animal_dog=Animal(\"Ceaser\",\"Dog\")\n",
    "animal_cat=Animal(\"Mandu\",\"Cat\")\n",
    "\n",
    "animal_list=[animal_cat,animal_dog]\n",
    "zoo=Zoo(animal_list)\n",
    "zoo.print_attr()\n",
    "\n",
    "zoo_json=json.dumps(zoo.__dict__,default=lambda o:o.__dict__)\n",
    "print(zoo_json)\n",
    "\n",
    "\"\"\"\n",
    "zoo_dict=json.loads(zoo_json)\n",
    "print(zoo_dict)\n",
    "zoo_obj_new=Zoo(**zoo_dict)\n",
    "zoo_obj_new.print_attr()\n",
    "\"\"\"\n",
    "\n",
    "zoo_obj_new=Zoo.from_json(zoo_json)\n",
    "zoo_obj_new.print_attr()\n",
    "\n",
    "if __name__=='__main__':\n",
    "    main()"
   ]
  },
  {
   "cell_type": "code",
   "execution_count": 19,
   "id": "49b50614",
   "metadata": {},
   "outputs": [
    {
     "ename": "TypeError",
     "evalue": "a bytes-like object is required, not 'str'",
     "output_type": "error",
     "traceback": [
      "\u001b[1;31m---------------------------------------------------------------------------\u001b[0m",
      "\u001b[1;31mTypeError\u001b[0m                                 Traceback (most recent call last)",
      "Cell \u001b[1;32mIn[19], line 17\u001b[0m\n\u001b[0;32m     13\u001b[0m     json\u001b[38;5;241m.\u001b[39mdump(person,f)\n\u001b[0;32m     16\u001b[0m \u001b[38;5;28;01mwith\u001b[39;00m \u001b[38;5;28mopen\u001b[39m(\u001b[38;5;124m\"\u001b[39m\u001b[38;5;124mdict.pkl\u001b[39m\u001b[38;5;124m\"\u001b[39m,\u001b[38;5;124m\"\u001b[39m\u001b[38;5;124mr\u001b[39m\u001b[38;5;124m\"\u001b[39m) \u001b[38;5;28;01mas\u001b[39;00m f:\n\u001b[1;32m---> 17\u001b[0m     person_dict\u001b[38;5;241m=\u001b[39m\u001b[43mpickle\u001b[49m\u001b[38;5;241;43m.\u001b[39;49m\u001b[43mload\u001b[49m\u001b[43m(\u001b[49m\u001b[43mf\u001b[49m\u001b[43m)\u001b[49m\n\u001b[0;32m     19\u001b[0m \u001b[38;5;28mprint\u001b[39m(person_dict,\u001b[38;5;28mtype\u001b[39m(person_dict))\n\u001b[0;32m     21\u001b[0m \u001b[38;5;28;01mclass\u001b[39;00m \u001b[38;5;21;01mAnimal\u001b[39;00m:\n",
      "\u001b[1;31mTypeError\u001b[0m: a bytes-like object is required, not 'str'"
     ]
    }
   ],
   "source": [
    "import pickle\n",
    "\n",
    "person={}\n",
    "person['Name']='Shantanu'\n",
    "person['Address']='123,Janpath,East Andheri'\n",
    "person['Age']=21\n",
    "person['Height']='170 cm'\n",
    "person['Weight']='55 kgs'\n",
    "\n",
    "person_list=[person,person]\n",
    "\n",
    "with open('dict.pkl','w') as f:\n",
    "    json.dump(person,f)\n",
    "\n",
    "\n",
    "with open(\"dict.pkl\",\"r\") as f:\n",
    "    person_dict=pickle.load(f)\n",
    "    \n",
    "print(person_dict,type(person_dict))\n",
    "\n",
    "class Animal:\n",
    "    def __init__(self,name,animal_type):\n",
    "        self.name=name\n",
    "        self.animal_type=animal_type\n",
    "        \n",
    "        def print_attr(self):\n",
    "            print(\"Animal attributes are: \",self.name,self.animal_type)\n",
    "            \n",
    "animal=Animal(\"Caeser\",\"Dog\")\n",
    "with open(\"animal.pkl\",\"wb\") as f:\n",
    "    pickle.dump(animal,f)\n",
    "    \n",
    "with open(\"animal.pkl\",\"rb\") as f:\n",
    "    animal_obj=pickle.load(f)\n",
    "    animal_obj.print_attr()\n",
    "    \n",
    "list_mem_ser=pickle.dumps(person_list)\n",
    "print(type(list_mem_ser))\n",
    "new_lst=pickle.loads(list_mem_ser)\n",
    "print(new_lst)\n",
    "print(new_lst==person_list)\n",
    "\n",
    "if __name__=='__main__':\n",
    "    pass"
   ]
  },
  {
   "cell_type": "markdown",
   "id": "211ec141",
   "metadata": {},
   "source": [
    "# Practise "
   ]
  },
  {
   "cell_type": "code",
   "execution_count": null,
   "id": "a73e9eec",
   "metadata": {},
   "outputs": [],
   "source": [
    "#1.Create a short program that prompts the user for a list of grades separated by commas. Split the string into individual \n",
    "#grades and use a list comprehension to convert each string to an integer. You should use a try statement to inform the \n",
    "#user when the values they entered cannot be converted.\n",
    "\n",
    "\n"
   ]
  },
  {
   "cell_type": "code",
   "execution_count": null,
   "id": "5418dd84",
   "metadata": {},
   "outputs": [],
   "source": [
    "#2.Investigate what happens when there is a return statement in both the try clause and finally clause of a try statement.\n"
   ]
  },
  {
   "cell_type": "code",
   "execution_count": null,
   "id": "6fbc35a0",
   "metadata": {},
   "outputs": [],
   "source": [
    "#3.Ask the user for an integer between 1 and 10 (inclusive). If the number they give is outside of the specified range, \n",
    "#raise a ValueError and inform them that their choice was invalid.\n"
   ]
  },
  {
   "cell_type": "code",
   "execution_count": null,
   "id": "d1a56a05",
   "metadata": {},
   "outputs": [],
   "source": [
    "#4.Write a function division() that accepts two arguments. The function should be able to catch an exception such as \n",
    "#ZeroDivisionError, ValueError, or any unknown error you might come across when you are doing a division operation.\n"
   ]
  },
  {
   "cell_type": "code",
   "execution_count": null,
   "id": "e7ae73df",
   "metadata": {},
   "outputs": [],
   "source": [
    "#5.Modify the earlier division function in such a way that the function division() has a clean-up action using finally"
   ]
  }
 ],
 "metadata": {
  "kernelspec": {
   "display_name": "Python 3 (ipykernel)",
   "language": "python",
   "name": "python3"
  },
  "language_info": {
   "codemirror_mode": {
    "name": "ipython",
    "version": 3
   },
   "file_extension": ".py",
   "mimetype": "text/x-python",
   "name": "python",
   "nbconvert_exporter": "python",
   "pygments_lexer": "ipython3",
   "version": "3.11.0"
  }
 },
 "nbformat": 4,
 "nbformat_minor": 5
}
