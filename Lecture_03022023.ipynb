{
 "cells": [
  {
   "cell_type": "code",
   "execution_count": 1,
   "id": "38c313b6",
   "metadata": {},
   "outputs": [
    {
     "name": "stdout",
     "output_type": "stream",
     "text": [
      "tushar\n",
      "bhor\n",
      "from\n",
      " bhorwadi\n",
      "\n",
      "Sorted list is:- ['bhor', 'from', 'tushar', ' bhorwadi']\n"
     ]
    }
   ],
   "source": [
    "list1=[]\n",
    "while True:\n",
    "    str1=input()\n",
    "    if str1==\"\":\n",
    "        break\n",
    "    else:\n",
    "        list1.append(str1)\n",
    "        \n",
    "list1\n",
    "for i in list1:\n",
    "    list1.sort(key=len)\n",
    "print(\"Sorted list is:-\",list1)"
   ]
  }
 ],
 "metadata": {
  "kernelspec": {
   "display_name": "Python 3 (ipykernel)",
   "language": "python",
   "name": "python3"
  },
  "language_info": {
   "codemirror_mode": {
    "name": "ipython",
    "version": 3
   },
   "file_extension": ".py",
   "mimetype": "text/x-python",
   "name": "python",
   "nbconvert_exporter": "python",
   "pygments_lexer": "ipython3",
   "version": "3.11.0"
  }
 },
 "nbformat": 4,
 "nbformat_minor": 5
}
