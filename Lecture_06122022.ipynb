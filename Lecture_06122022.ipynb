{
 "cells": [
  {
   "cell_type": "code",
   "execution_count": 5,
   "id": "ed5a2d67",
   "metadata": {},
   "outputs": [
    {
     "name": "stdout",
     "output_type": "stream",
     "text": [
      "Enter no.:- 4\n",
      "4\n",
      "8\n",
      "12\n",
      "16\n",
      "20\n",
      "24\n",
      "28\n",
      "32\n",
      "36\n",
      "40\n"
     ]
    }
   ],
   "source": [
    "a=int(input(\"Enter no.:- \"))\n",
    "i=1\n",
    "while i<=10:\n",
    "    b=a*i\n",
    "    i+=1\n",
    "    print(b)"
   ]
  },
  {
   "cell_type": "code",
   "execution_count": 19,
   "id": "9cee5409",
   "metadata": {},
   "outputs": [
    {
     "name": "stdout",
     "output_type": "stream",
     "text": [
      "Enter no.:- 5\n",
      "5\n",
      "10\n",
      "15\n",
      "20\n",
      "25\n",
      "30\n",
      "35\n",
      "40\n",
      "45\n",
      "50\n"
     ]
    }
   ],
   "source": [
    "a=int(input(\"Enter no.:- \"))\n",
    "for i in range(1,11):\n",
    "    print(a*i)"
   ]
  },
  {
   "cell_type": "code",
   "execution_count": 27,
   "id": "010ac600",
   "metadata": {},
   "outputs": [
    {
     "name": "stdout",
     "output_type": "stream",
     "text": [
      "Enter 1st no.:- 3\n",
      "Enter 2nd no.:- 2\n",
      "Enter 3rd no.:- 4\n",
      "4 is largest\n",
      "1423696750960\n"
     ]
    }
   ],
   "source": [
    "a=int(input(\"Enter 1st no.:- \"))\n",
    "b=int(input(\"Enter 2nd no.:- \"))\n",
    "c=int(input(\"Enter 3rd no.:- \"))\n",
    "if(a>b and a>c):\n",
    "    print(a,\" is largest\")\n",
    "    print(id(a))\n",
    "elif(b>c):\n",
    "    print(b,\" is largest\")\n",
    "    print(id(a))\n",
    "else:\n",
    "    print(c,\"is largest\")\n",
    "    print(id(a))"
   ]
  }
 ],
 "metadata": {
  "kernelspec": {
   "display_name": "Python 3 (ipykernel)",
   "language": "python",
   "name": "python3"
  },
  "language_info": {
   "codemirror_mode": {
    "name": "ipython",
    "version": 3
   },
   "file_extension": ".py",
   "mimetype": "text/x-python",
   "name": "python",
   "nbconvert_exporter": "python",
   "pygments_lexer": "ipython3",
   "version": "3.11.0"
  }
 },
 "nbformat": 4,
 "nbformat_minor": 5
}
