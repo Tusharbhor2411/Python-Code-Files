{
 "cells": [
  {
   "cell_type": "code",
   "execution_count": 15,
   "id": "d09afd0a",
   "metadata": {},
   "outputs": [
    {
     "name": "stdout",
     "output_type": "stream",
     "text": [
      "Enter your name:- DIPAK\n",
      "Hello DIPAK Welcome to the course\n"
     ]
    }
   ],
   "source": [
    "name=input(\"Enter your name:- \")\n",
    "print(\"Hello\",name,\"Welcome to the course\")"
   ]
  },
  {
   "cell_type": "code",
   "execution_count": 14,
   "id": "40610c6b",
   "metadata": {},
   "outputs": [
    {
     "name": "stdout",
     "output_type": "stream",
     "text": [
      "Enter the number:-56\n",
      "Entered number is:- 56\n",
      "Converted number is:- 56.0\n"
     ]
    }
   ],
   "source": [
    "num=int(input(\"Enter the number:-\"))\n",
    "print(\"Entered number is:-\",num)\n",
    "num=float(num)\n",
    "print(\"Converted number is:-\",num)"
   ]
  }
 ],
 "metadata": {
  "kernelspec": {
   "display_name": "Python 3 (ipykernel)",
   "language": "python",
   "name": "python3"
  },
  "language_info": {
   "codemirror_mode": {
    "name": "ipython",
    "version": 3
   },
   "file_extension": ".py",
   "mimetype": "text/x-python",
   "name": "python",
   "nbconvert_exporter": "python",
   "pygments_lexer": "ipython3",
   "version": "3.11.0"
  }
 },
 "nbformat": 4,
 "nbformat_minor": 5
}
