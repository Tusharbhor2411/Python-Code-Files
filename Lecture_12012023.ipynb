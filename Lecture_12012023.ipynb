{
 "cells": [
  {
   "cell_type": "code",
   "execution_count": null,
   "id": "81171b9a",
   "metadata": {},
   "outputs": [],
   "source": [
    "radius=int(input(\"Enter the radius:- \"))\n",
    "pi=3.14\n",
    "area=pi*radius**2\n",
    "print(\"Area of circle with\",radius,\"is\",area)"
   ]
  },
  {
   "cell_type": "code",
   "execution_count": null,
   "id": "53bc918c",
   "metadata": {},
   "outputs": [],
   "source": [
    "emp_name=input(\"Enter employee name:-\")\n",
    "emp_id=int(input(\"Enter employee id:-\"))\n",
    "basic_salary=int(input(\"Enter the salary:-\"))\n",
    "hra=0.20*basic_salary\n",
    "dra=0.30*basic_salary\n",
    "gross_salary=basic_salary+hra+dra\n",
    "print(\"Gross salary of employee\",emp_name,\"with employee id\",emp_id,\"is\",gross_salary)"
   ]
  },
  {
   "cell_type": "code",
   "execution_count": null,
   "id": "ce1348c1",
   "metadata": {},
   "outputs": [],
   "source": [
    "print(\"Welcome to the bank\")\n",
    "name=input(\"May I have your name?\")\n",
    "ac_no=int(input(\"May I have your account number?\"))\n",
    "ac_bal=int(input(\"Please enter the account balance:-\"))\n",
    "print(\"Initial account balace of\",ac_no,\"with name\",name,\"is:-\",ac_bal)\n",
    "transaction=int(input(\"Enter the amount:-\"))\n",
    "new_bal=ac_bal+transaction\n",
    "print(\"Thanks for choosing the bank!\")\n",
    "print(\"Transaction is completed\",new_bal,\"is updated balance.\")"
   ]
  },
  {
   "cell_type": "code",
   "execution_count": null,
   "id": "03feb179",
   "metadata": {},
   "outputs": [],
   "source": [
    "#conditional statements\n",
    "marks=int(input(\"Enter the marks:-\"))\n",
    "if marks>35:\n",
    "    print(\"Congratulations you have passed!\")\n",
    "else:\n",
    "    print(\"Unfortunately you have failed\")"
   ]
  },
  {
   "cell_type": "markdown",
   "id": "5fcc043c",
   "metadata": {},
   "source": [
    "# types of conditional statements\n",
    "#if--> one conditon\n",
    "#if-else--> two condition\n",
    "#elif--> else if\n",
    "#nested if-else\n"
   ]
  },
  {
   "cell_type": "code",
   "execution_count": null,
   "id": "fdca6a9a",
   "metadata": {},
   "outputs": [],
   "source": [
    "num=int(input(\"Enter the number:-\"))\n",
    "if num%2==0:\n",
    "    print(num,\"is even number\")\n",
    "else:\n",
    "    print(num,\"is odd number\")"
   ]
  },
  {
   "cell_type": "code",
   "execution_count": null,
   "id": "a8b09604",
   "metadata": {},
   "outputs": [],
   "source": [
    "num=int(input(\"Enter the number:-\"))\n",
    "if num>0:\n",
    "    print(num,\"is positive number\")\n",
    "elif num==0:\n",
    "    print(num,\"is zero\")\n",
    "else:\n",
    "    print(num,\"is negative\")"
   ]
  },
  {
   "cell_type": "code",
   "execution_count": null,
   "id": "1e4f4ecf",
   "metadata": {},
   "outputs": [],
   "source": [
    "marks=int(input(\"Enter the marks:-\"))\n",
    "if marks>=90:\n",
    "    print(\"Grade A\")\n",
    "elif marks>=75:\n",
    "    print(\"Grade B\")\n",
    "elif marks>=60:\n",
    "    print(\"Grade C\")\n",
    "elif marks>=35:\n",
    "    print(\"Grade D\")\n",
    "else:\n",
    "    print(\"Grade F\")"
   ]
  },
  {
   "cell_type": "code",
   "execution_count": 3,
   "id": "1c2118db",
   "metadata": {},
   "outputs": [
    {
     "name": "stdout",
     "output_type": "stream",
     "text": [
      "Enter the number1:-17\n",
      "Enter the number2:-5\n",
      "Options are-->1-Addition, 2-Subtraction, 3-Multiplication, 4-Division\n",
      "Enter the option:-3\n",
      "Multiplication of 17 & 5 is 85\n"
     ]
    }
   ],
   "source": [
    "#Simple calculator\n",
    "num1=int(input(\"Enter the number1:-\"))\n",
    "num2=int(input(\"Enter the number2:-\"))\n",
    "print(\"Options are-->1-Addition, 2-Subtraction, 3-Multiplication, 4-Division\")\n",
    "choice=int(input(\"Enter the option:-\"))\n",
    "if choice==1:\n",
    "    print(\"Addition of\",num1,\"&\",num2,\"is\",num1+num2)\n",
    "elif choice==2:\n",
    "    print(\"Subtraction of\",num1,\"&\",num2,\"is\",num1-num2)\n",
    "elif choice==3:\n",
    "    print(\"Multiplication of\",num1,\"&\",num2,\"is\",num1*num2)\n",
    "elif choice==4:\n",
    "    print(\"Division of\",num1,\"&\",num2,\"is\",num1/num2)\n",
    "else:\n",
    "    print(\"Invalid option\")"
   ]
  },
  {
   "cell_type": "code",
   "execution_count": null,
   "id": "8a15e6d5",
   "metadata": {},
   "outputs": [],
   "source": [
    "marks=int(input(\"Enter the marks:-\"))\n",
    "if marks>=35:\n",
    "    if marks>=90:\n",
    "        print(\"Your grade A\")\n",
    "    elif marks>=75:\n",
    "        print(\"Your grade B\")\n",
    "    elif marks>=60:\n",
    "        print(\"Your grade C\")\n",
    "    else:\n",
    "        print(\"Your grade D\")\n",
    "    print(\"Congratulations you have passed\")\n",
    "else:\n",
    "    print(\"Hard Luck! You failed!\")"
   ]
  }
 ],
 "metadata": {
  "kernelspec": {
   "display_name": "Python 3 (ipykernel)",
   "language": "python",
   "name": "python3"
  },
  "language_info": {
   "codemirror_mode": {
    "name": "ipython",
    "version": 3
   },
   "file_extension": ".py",
   "mimetype": "text/x-python",
   "name": "python",
   "nbconvert_exporter": "python",
   "pygments_lexer": "ipython3",
   "version": "3.11.0"
  }
 },
 "nbformat": 4,
 "nbformat_minor": 5
}
