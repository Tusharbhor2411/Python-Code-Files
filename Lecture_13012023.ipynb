{
 "cells": [
  {
   "cell_type": "code",
   "execution_count": null,
   "id": "2c43e136",
   "metadata": {},
   "outputs": [],
   "source": [
    "print(\"Welcome to the bank\")\n",
    "name=input(\"May I have your name?\")\n",
    "ac_no=int(input(\"May I have your account number?\"))\n",
    "ac_bal=int(input(\"Please enter the account balance:-\"))\n",
    "choice=int(input(\"Choice 1 for credit and 2 for debit\"))\n",
    "print(\"Initial account balace of\",ac_no,\"with name\",name,\"is:-\",ac_bal)\n",
    "transaction=int(input(\"Enter the amount:-\"))\n",
    "if choice==1:\n",
    "    new_bal=ac_bal+transaction\n",
    "else:\n",
    "    new_bal=ac_bal-transaction\n",
    "print(\"Thanks for choosing the bank!\")\n",
    "print(\"Transaction is completed\",new_bal,\"is updated balance.\")"
   ]
  },
  {
   "cell_type": "code",
   "execution_count": null,
   "id": "5f1c00fc",
   "metadata": {},
   "outputs": [],
   "source": [
    "age=int(input(\"How many years you old are:-\"))\n",
    "nationality=input(\"Which nation you are belongs from:-\")\n",
    "stay_time=int(input(\"How many years you have been staying in india:-\"))\n",
    "if age>=18 and nationality==\"indian\":\n",
    "    if stay_time>=5:\n",
    "        print(\"You are eligible for voting!\")\n",
    "    else:\n",
    "        print(\"You need to spend\",5-stay_time,\"years in India to eligible for voting\")\n",
    "else:\n",
    "    print(\"You are not eligible for voting!\")"
   ]
  },
  {
   "cell_type": "code",
   "execution_count": null,
   "id": "ae707c8c",
   "metadata": {},
   "outputs": [],
   "source": [
    "age=int(input(\"How many years you old are:-\"))\n",
    "if age>=18:\n",
    "    nationality=input(\"Which nation you are belongs from:-\")\n",
    "    if nationality==\"indian\" or nationality==\"Indian\":\n",
    "        print(\"Congratulations!You are eligible for voting\")\n",
    "    else:\n",
    "        stay=input(\"Enter your current location:-\")\n",
    "        if stay==\"India\" and stay=\"india\":\n",
    "            print(\"How many years you had been staying in india?\")\n",
    "            if years>=5:\n",
    "                print(\"Congratulations you are eligible for voting\")\n",
    "            else:\n",
    "                print(\"You are not eligible for voting\")\n",
    "        else:\n",
    "            print(\"You are not eligible for voting\")\n",
    "else:\n",
    "    print(\"Sorry but you are not eligible for voting\")"
   ]
  },
  {
   "cell_type": "code",
   "execution_count": null,
   "id": "d73e6b64",
   "metadata": {},
   "outputs": [],
   "source": [
    "num=int(input(\"Enter the number:-\"))\n",
    "if num%2==0:\n",
    "    print(num,\"is even\")\n",
    "else:\n",
    "    print(num,\"is odd\")"
   ]
  },
  {
   "cell_type": "code",
   "execution_count": null,
   "id": "e9525ee6",
   "metadata": {},
   "outputs": [],
   "source": [
    "s=[1,2,3,4,5,6,7,8,9,10]\n",
    "for i in s:\n",
    "    if i%2==0:\n",
    "        print(i,\"is even\")\n",
    "    else:\n",
    "        print(i,\"is odd\")"
   ]
  },
  {
   "cell_type": "code",
   "execution_count": null,
   "id": "79c93c8d",
   "metadata": {},
   "outputs": [],
   "source": [
    "i=1\n",
    "while i<=10:\n",
    "    if i%2==0:\n",
    "        print(i,\"is even\")\n",
    "    else:\n",
    "        print(i,\"is odd\")\n",
    "    i=i+1"
   ]
  },
  {
   "cell_type": "code",
   "execution_count": null,
   "id": "95d8293b",
   "metadata": {},
   "outputs": [],
   "source": [
    "#Average number\n",
    "n=int(input(\"Total no of values you want to enter:-\"))\n",
    "sum=0\n",
    "for i in range(n+1):\n",
    "    sum+=i\n",
    "average=sum/n\n",
    "print(\"Average of the first n natural numbers is:-\",average)"
   ]
  },
  {
   "cell_type": "code",
   "execution_count": null,
   "id": "655ceecb",
   "metadata": {},
   "outputs": [],
   "source": [
    "for i in range(1,20,3):\n",
    "    print(i)"
   ]
  },
  {
   "cell_type": "code",
   "execution_count": null,
   "id": "778e77ec",
   "metadata": {},
   "outputs": [],
   "source": [
    "l1=[]\n",
    "sum=0\n",
    "n=int(input(\"Enter no of iterations:-\"))\n",
    "print(\"Enter the numbers:-\")\n",
    "for i in range(n):\n",
    "    num=int(input())\n",
    "    l1.append(num)\n",
    "print(l1)\n",
    "for i in l1:\n",
    "    sum+=i\n",
    "print(\"Sum of numbers are:-\",sum)\n",
    "print(\"Number of iterations are:-\",n)\n",
    "average=sum/n\n",
    "print(\"Average of the numbers is:-\",average)"
   ]
  },
  {
   "cell_type": "code",
   "execution_count": null,
   "id": "57824a78",
   "metadata": {},
   "outputs": [],
   "source": [
    "n=int(input(\"Enter no of iterations:-\"))\n",
    "count=0\n",
    "sum=0\n",
    "print(\"Enter the numbers:-\")\n",
    "while count<n:\n",
    "    num=int(input())\n",
    "    sum+=num\n",
    "    count+=1\n",
    "print(\"Sum of numbers are:-\",sum)\n",
    "print(\"Number of iterations are:-\",n)\n",
    "average=sum/n\n",
    "print(\"Average of the numbers is:-\",average)"
   ]
  },
  {
   "cell_type": "code",
   "execution_count": null,
   "id": "cab414c2",
   "metadata": {},
   "outputs": [],
   "source": [
    "#Average number\n",
    "n=int(input(\"Total no of values you want to enter:-\"))\n",
    "sum=0\n",
    "for i in range(1,n,2):\n",
    "    sum+=i\n",
    "    print(i)\n",
    "average=sum/n\n",
    "print(\"Average of the first n natural numbers is:-\",average)"
   ]
  },
  {
   "cell_type": "code",
   "execution_count": null,
   "id": "2f73227f",
   "metadata": {},
   "outputs": [],
   "source": [
    "#Factorial\n",
    "num=int(input(\"Enter the number which for factorial:-\"))\n",
    "fact=1\n",
    "for i in range(1,num+1):\n",
    "    fact=fact*i\n",
    "print(\"Factorial of\",num,\"is:-\",fact)"
   ]
  },
  {
   "cell_type": "code",
   "execution_count": null,
   "id": "06a4f9ef",
   "metadata": {},
   "outputs": [],
   "source": [
    "#Factorial\n",
    "num=int(input(\"Enter the number which for factorial:-\"))\n",
    "fact=1\n",
    "count=1\n",
    "while count<=num:\n",
    "    fact=fact*count\n",
    "    count+=1\n",
    "print(\"Factorial of\",num,\"is:-\",fact)"
   ]
  },
  {
   "cell_type": "code",
   "execution_count": null,
   "id": "8d3fe14c",
   "metadata": {},
   "outputs": [],
   "source": [
    "num=int(input(\"Enter the number:-\"))\n",
    "if num>=10:\n",
    "    for i in range(num+1):\n",
    "        if i%2!=0:\n",
    "            print(i)\n",
    "else:\n",
    "    print(\"Number below 10 are not accepted\")"
   ]
  }
 ],
 "metadata": {
  "kernelspec": {
   "display_name": "Python 3 (ipykernel)",
   "language": "python",
   "name": "python3"
  },
  "language_info": {
   "codemirror_mode": {
    "name": "ipython",
    "version": 3
   },
   "file_extension": ".py",
   "mimetype": "text/x-python",
   "name": "python",
   "nbconvert_exporter": "python",
   "pygments_lexer": "ipython3",
   "version": "3.11.0"
  }
 },
 "nbformat": 4,
 "nbformat_minor": 5
}
