{
 "cells": [
  {
   "cell_type": "code",
   "execution_count": 19,
   "id": "f00cb417",
   "metadata": {},
   "outputs": [
    {
     "name": "stdout",
     "output_type": "stream",
     "text": [
      "Enter the password:- Tushar@2411\n",
      "Strong password\n"
     ]
    }
   ],
   "source": [
    "password=input(\"Enter the password:- \")\n",
    "digit=[]\n",
    "upper=[]\n",
    "lower=[]\n",
    "space=[]\n",
    "special=[]\n",
    "for letter in password:\n",
    "    if letter.isdigit():\n",
    "        digit.append(letter)\n",
    "    elif letter.isupper():\n",
    "        upper.append(letter)\n",
    "    elif letter.islower():\n",
    "        lower.append(letter)\n",
    "    elif letter.isspace():\n",
    "        space.append(letter)\n",
    "    else:\n",
    "        special.append(letter)\n",
    "\n",
    "if len(digit)>=1 and len(upper)>=1 and len(lower)>=1 and len(space)==0 and len(special)>=1 and len(password)>=8:\n",
    "    print(\"Strong password\")\n",
    "else:\n",
    "    print(\"Weak password\")\n",
    "    if len(digit)==0:\n",
    "        print(\"Please enter digit\")\n",
    "    if len(upper)==0:\n",
    "        print(\"Please enter upper case letter\")\n",
    "    if len(lower)==0:\n",
    "        print(\"Please enter lower case letter\")\n",
    "    if len(space)>=1:\n",
    "        print(\"Please remove space\")\n",
    "    if len(special)==0:\n",
    "        print(\"Please enter special character\")\n",
    "    if len(password)<8:\n",
    "        print(\"Please enter at least 8 characters\")"
   ]
  },
  {
   "cell_type": "code",
   "execution_count": 30,
   "id": "a7e40024",
   "metadata": {},
   "outputs": [
    {
     "name": "stdout",
     "output_type": "stream",
     "text": [
      "['t', 'u', 's', 'h', 'a', 'r', 'b', 'h', 'o', 'r']\n"
     ]
    }
   ],
   "source": [
    "#shift+tab--> docstring\n",
    "str='tusharbhor'\n",
    "l1=[]\n",
    "l1.extend(str)\n",
    "print(l1)"
   ]
  },
  {
   "cell_type": "code",
   "execution_count": 31,
   "id": "2df48e2f",
   "metadata": {},
   "outputs": [
    {
     "name": "stdout",
     "output_type": "stream",
     "text": [
      "['t', 'u', 's', 'h', 'a', 'r', 'b', 'h', 'o', 'r']\n"
     ]
    }
   ],
   "source": [
    "str='tusharbhor'\n",
    "l1=[]\n",
    "for letter in str:\n",
    "    l1.append(letter)\n",
    "print(l1)"
   ]
  },
  {
   "cell_type": "code",
   "execution_count": 32,
   "id": "75ccb94c",
   "metadata": {},
   "outputs": [
    {
     "name": "stdout",
     "output_type": "stream",
     "text": [
      "['t', 'u', 's', 'h', 'a', 'r', 'b', 'h', 'o', 'r']\n"
     ]
    }
   ],
   "source": [
    "str='tusharbhor'\n",
    "print([*str])"
   ]
  }
 ],
 "metadata": {
  "kernelspec": {
   "display_name": "Python 3 (ipykernel)",
   "language": "python",
   "name": "python3"
  },
  "language_info": {
   "codemirror_mode": {
    "name": "ipython",
    "version": 3
   },
   "file_extension": ".py",
   "mimetype": "text/x-python",
   "name": "python",
   "nbconvert_exporter": "python",
   "pygments_lexer": "ipython3",
   "version": "3.11.0"
  }
 },
 "nbformat": 4,
 "nbformat_minor": 5
}
