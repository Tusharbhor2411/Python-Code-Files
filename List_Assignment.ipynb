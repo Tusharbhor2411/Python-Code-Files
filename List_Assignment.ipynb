{
 "cells": [
  {
   "cell_type": "code",
   "execution_count": null,
   "id": "d0ead871",
   "metadata": {},
   "outputs": [],
   "source": [
    "#1. WAP to remove to find duplicates elements in list\n",
    "list1=[1,2,3,1,2,4,5,1,2,3]\n",
    "print(\"Original list:-\",list1)\n",
    "list2=set(list1)\n",
    "print(\"After removing duplicates:-\",list(list2))"
   ]
  },
  {
   "cell_type": "code",
   "execution_count": null,
   "id": "cadd47e4",
   "metadata": {},
   "outputs": [],
   "source": [
    "#2. WAP to sort the given list\n",
    "list1=[1,2,3,1,5,6,9,2,4,7,9,12,3654,88]\n",
    "print(\"Original list:-\",list1)\n",
    "list1.sort()\n",
    "print(\"Sorted list:-\",list1)"
   ]
  },
  {
   "cell_type": "code",
   "execution_count": null,
   "id": "632193c2",
   "metadata": {},
   "outputs": [],
   "source": [
    "#3. WAP to create a list such that new list contains alternate even and odd from given list\n",
    "list1=[1,2,3,4,6,7,8,91,1,33,24,6,4,2,2,45]\n",
    "even=[]\n",
    "odd=[]\n",
    "for i in list1:\n",
    "    if i%2==0:\n",
    "        even.append(i)\n",
    "    else:\n",
    "        odd.append(i)\n",
    "print(\"Even in list:-\",even)\n",
    "print(\"Odd in list:-\",odd)"
   ]
  },
  {
   "cell_type": "code",
   "execution_count": null,
   "id": "6d2286d1",
   "metadata": {},
   "outputs": [],
   "source": [
    "#4. Write a Python program to get the largest number from a list\n",
    "list1=[1,23,54,3,5,6,32,4,6,5,3,99,43,2,54,32,15,43]\n",
    "list1.sort()\n",
    "print(\"Greatest number in the list is:-\",list1[-1])"
   ]
  },
  {
   "cell_type": "code",
   "execution_count": null,
   "id": "96384535",
   "metadata": {},
   "outputs": [],
   "source": [
    "#5. Write a Python program to count the number of strings where the string length is 2 or more\n",
    "# and the first and last character are same from a given list of strings.\n",
    "string=input(\"Enter the string:-\")\n",
    "str1=list(string)\n",
    "counter=0\n",
    "for i in string:\n",
    "    if len(str1)>=2 and str1[0]==str1[-1]:\n",
    "        counter+=1\n",
    "    else:\n",
    "        print(\"Enter valid string\")\n",
    "        i==1\n",
    "        break\n",
    "print(\"Number of strings are:-\",counter)"
   ]
  },
  {
   "cell_type": "code",
   "execution_count": null,
   "id": "2382a8a3",
   "metadata": {},
   "outputs": [],
   "source": [
    "#6. Write a Python program to remove duplicates from a list.\n",
    "list1=[1,2,3,5,1,2,4,6,7,5,1,8,2,3]\n",
    "print(\"Original list:-\",list1)\n",
    "list2=set(list1)\n",
    "print(\"After removing duplicates:-\",list(list2))"
   ]
  },
  {
   "cell_type": "code",
   "execution_count": 1,
   "id": "c4aa1692",
   "metadata": {},
   "outputs": [
    {
     "name": "stdout",
     "output_type": "stream",
     "text": [
      "Enter the string:-tushar bhor from bhorwadi.\n",
      "The longer word in string is:- bhorwadi. & its length is:- 9\n"
     ]
    }
   ],
   "source": [
    "#7. Write a Python program to find the list of words that are longer than given words\n",
    "string=input(\"Enter the string:-\")\n",
    "word=string.split()\n",
    "list1=[]\n",
    "for i in word:\n",
    "    list1.append((len(i),i))\n",
    "list1.sort()\n",
    "print(\"The longer word in string is:-\",list1[-1][1],\"& its length is:-\",list1[-1][0])"
   ]
  },
  {
   "cell_type": "code",
   "execution_count": null,
   "id": "ee03f996",
   "metadata": {},
   "outputs": [],
   "source": [
    "#8. Write a Python function that takes two lists and returns True if they have at least one common member\n",
    "string1=input(\"Enter 1st string:-\")\n",
    "string2=input(\"Enter 2nd string:-\")\n",
    "list1=string1.split()\n",
    "list2=string2.split()\n",
    "result=False\n",
    "for i in list1:\n",
    "    for j in list2:\n",
    "        if i==j:\n",
    "            result=True\n",
    "print(result)"
   ]
  },
  {
   "cell_type": "code",
   "execution_count": null,
   "id": "ff39b296",
   "metadata": {},
   "outputs": [],
   "source": [
    "#9. Write a Python program to print a specified list after removing the 0th, 4th and 5th elements. Go to the editor\n",
    "string=input(\"Enter the string:-\")\n",
    "word=string.split()\n",
    "print(\"Original list:-\",word)\n",
    "list1=[]\n",
    "for i in word:\n",
    "    list1.append(i)\n",
    "    i==0,4,5\n",
    "    pass\n",
    "print(list1)\n",
    "#not done"
   ]
  },
  {
   "cell_type": "code",
   "execution_count": null,
   "id": "8f24a29c",
   "metadata": {},
   "outputs": [],
   "source": [
    "#10. Sample List : ['Red', 'Green', 'White', 'Black', 'Pink', 'Yellow']\n",
    "#11. Expected Output : ['Green', 'White', 'Black']\n",
    "list1=['Red','Green','White','Black','Pink','Yellow']\n",
    "list2=[]\n",
    "list3=[]\n",
    "for i in list1:\n",
    "    num=len(i)\n",
    "    if num==5:\n",
    "        list2.append(i)\n",
    "print(list2)"
   ]
  },
  {
   "cell_type": "code",
   "execution_count": null,
   "id": "4da0cca2",
   "metadata": {},
   "outputs": [],
   "source": [
    "#12. Write a Python program to print the numbers of a specified list after removing even numbers from it\n",
    "list1=[1,2,3,4,5,6,7,89,11,32,5,4,642,32,15,54,66]\n",
    "list2=[]\n",
    "for i in list1:\n",
    "    if i%2!=0:\n",
    "        list2.append(i)\n",
    "print(list2)"
   ]
  }
 ],
 "metadata": {
  "kernelspec": {
   "display_name": "Python 3 (ipykernel)",
   "language": "python",
   "name": "python3"
  },
  "language_info": {
   "codemirror_mode": {
    "name": "ipython",
    "version": 3
   },
   "file_extension": ".py",
   "mimetype": "text/x-python",
   "name": "python",
   "nbconvert_exporter": "python",
   "pygments_lexer": "ipython3",
   "version": "3.11.0"
  }
 },
 "nbformat": 4,
 "nbformat_minor": 5
}
