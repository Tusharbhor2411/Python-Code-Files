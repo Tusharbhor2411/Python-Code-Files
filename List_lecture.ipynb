{
 "cells": [
  {
   "cell_type": "code",
   "execution_count": null,
   "id": "3c8e418a",
   "metadata": {},
   "outputs": [],
   "source": [
    "l1=[4,5,6,7,8,9,10]\n",
    "l2=[i**2 for i in l1]\n",
    "l2"
   ]
  },
  {
   "cell_type": "code",
   "execution_count": null,
   "id": "ba3a5536",
   "metadata": {},
   "outputs": [],
   "source": [
    "l1=[1,2,3,4,5]\n",
    "l2=[6,7,8,9,10]\n",
    "a=zip(l1,l2)\n",
    "l3=[i+j for (i,j) in a]\n",
    "l3"
   ]
  },
  {
   "cell_type": "code",
   "execution_count": 5,
   "id": "c7cd98d8",
   "metadata": {},
   "outputs": [
    {
     "name": "stdout",
     "output_type": "stream",
     "text": [
      "[7, 7, 8, 7, 8, 9, 7, 8, 9, 10, 7, 8, 9, 10, 11, 7, 8, 9, 10, 11, 12]\n",
      "Probability is:- 0.5833333333333334\n"
     ]
    }
   ],
   "source": [
    "d1=[1,2,3,4,5,6]\n",
    "d2=[1,2,3,4,5,6]\n",
    "d3=[i+j for i in d1 for j in d2]\n",
    "d4=[]\n",
    "for k in d3:\n",
    "    if k>6:\n",
    "        d4.append(k)\n",
    "print(d4)\n",
    "probability=len(d4)/len(d3)\n",
    "print(\"Probability is:-\",probability)"
   ]
  },
  {
   "cell_type": "code",
   "execution_count": 4,
   "id": "a2910466",
   "metadata": {},
   "outputs": [
    {
     "name": "stdout",
     "output_type": "stream",
     "text": [
      "Probability of H is:- 0.5\n"
     ]
    }
   ],
   "source": [
    "coin1=[\"H\",\"T\"]\n",
    "coin2=[\"H\",\"T\"]\n",
    "h=0\n",
    "coin3=[i+j for i in coin1 for j in coin2]\n",
    "for k in coin3:\n",
    "    a=k.count(\"H\")\n",
    "    b=k.count(\"T\")\n",
    "    if a==1:\n",
    "        h+=1\n",
    "prob=(h/len(coin3))\n",
    "print(\"Probability of H is:-\",prob)"
   ]
  },
  {
   "cell_type": "code",
   "execution_count": null,
   "id": "94f37560",
   "metadata": {},
   "outputs": [],
   "source": [
    "list1=[1,2,3,4,5,6,7,8]\n",
    "print(list1)\n",
    "list1.append(10)\n",
    "print(list1)\n",
    "list1.append([11,12,13,14,15])\n",
    "print(list1)\n",
    "list1.extend([16,17,18,19,20])\n",
    "print(list1)\n",
    "list1.insert(1,21)\n",
    "print(list1)"
   ]
  },
  {
   "cell_type": "code",
   "execution_count": null,
   "id": "64b45977",
   "metadata": {},
   "outputs": [],
   "source": [
    "l1=[1,2,3,4,5]\n",
    "l1.reverse()"
   ]
  },
  {
   "cell_type": "code",
   "execution_count": null,
   "id": "a63e43bc",
   "metadata": {},
   "outputs": [],
   "source": [
    "s1={1,2,3,4,5,6}\n",
    "s2={5,6,7,8,9,0}\n",
    "s1.add(8)\n",
    "s1.update()\n",
    "s1"
   ]
  },
  {
   "cell_type": "code",
   "execution_count": 16,
   "id": "aee86e94",
   "metadata": {},
   "outputs": [
    {
     "name": "stdout",
     "output_type": "stream",
     "text": [
      "2\n",
      "4\n",
      "6\n",
      "8\n",
      "10\n",
      "12\n"
     ]
    }
   ],
   "source": [
    "d1=[1,2,3,4,5,6]\n",
    "d2=[1,2,3,4,5,6]\n",
    "d3=zip(d1,d2)\n",
    "d4=[]\n",
    "for i,j in (d3):\n",
    "    k=i+j\n",
    "    d4.append(k)\n",
    "    print(k)"
   ]
  },
  {
   "cell_type": "code",
   "execution_count": 12,
   "id": "bd52641b",
   "metadata": {},
   "outputs": [
    {
     "name": "stdout",
     "output_type": "stream",
     "text": [
      "2\n",
      "3\n",
      "4\n",
      "5\n",
      "6\n",
      "7\n",
      "3\n",
      "4\n",
      "5\n",
      "6\n",
      "7\n",
      "8\n",
      "4\n",
      "5\n",
      "6\n",
      "7\n",
      "8\n",
      "9\n",
      "5\n",
      "6\n",
      "7\n",
      "8\n",
      "9\n",
      "10\n",
      "6\n",
      "7\n",
      "8\n",
      "9\n",
      "10\n",
      "11\n",
      "7\n",
      "8\n",
      "9\n",
      "10\n",
      "11\n",
      "12\n"
     ]
    }
   ],
   "source": [
    "d1=[1,2,3,4,5,6]\n",
    "d2=[1,2,3,4,5,6]\n",
    "for i in d1:\n",
    "    for j in d2:\n",
    "        k=i+j\n",
    "        print(k)"
   ]
  }
 ],
 "metadata": {
  "kernelspec": {
   "display_name": "Python 3 (ipykernel)",
   "language": "python",
   "name": "python3"
  },
  "language_info": {
   "codemirror_mode": {
    "name": "ipython",
    "version": 3
   },
   "file_extension": ".py",
   "mimetype": "text/x-python",
   "name": "python",
   "nbconvert_exporter": "python",
   "pygments_lexer": "ipython3",
   "version": "3.11.0"
  }
 },
 "nbformat": 4,
 "nbformat_minor": 5
}
