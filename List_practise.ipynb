{
 "cells": [
  {
   "cell_type": "code",
   "execution_count": null,
   "id": "6c8a62fc",
   "metadata": {},
   "outputs": [],
   "source": [
    "#1.Print the list in reverse order [::-1][start:stop:step]\n",
    "list1=[1,3,5,7,8,9,2,4,6]\n",
    "print(list1)\n",
    "print(list1[::-1])"
   ]
  },
  {
   "cell_type": "code",
   "execution_count": null,
   "id": "bf0155ec",
   "metadata": {},
   "outputs": [],
   "source": [
    "#2.Print the odd numbers from thw list[::] odd index\n",
    "list1=[1,2,4,5,6,7,8,6,543,2354,6543,56654,3234,664,76,44]\n",
    "print(list1[::2])"
   ]
  },
  {
   "cell_type": "code",
   "execution_count": null,
   "id": "c963f956",
   "metadata": {},
   "outputs": [],
   "source": [
    "#3.Print the even numbers from list[::] even index\n",
    "list1=[1,2,4,5,6,7,8,6,543,2354,6543,56654,3234,664,76,44]\n",
    "print(list1[1::2])"
   ]
  },
  {
   "cell_type": "code",
   "execution_count": null,
   "id": "e0f21676",
   "metadata": {},
   "outputs": [],
   "source": [
    "#4.Print the first item of the list\n",
    "list1=[1,4,7]\n",
    "print(list1[0])"
   ]
  },
  {
   "cell_type": "code",
   "execution_count": 1,
   "id": "aa587052",
   "metadata": {},
   "outputs": [
    {
     "name": "stdout",
     "output_type": "stream",
     "text": [
      "9\n"
     ]
    }
   ],
   "source": [
    "#5.Print the last item of the list\n",
    "list1=[1,3,5,2,4,6,7,8,9]\n",
    "print(list1[-1])"
   ]
  },
  {
   "cell_type": "code",
   "execution_count": 9,
   "id": "442e2e28",
   "metadata": {},
   "outputs": [
    {
     "name": "stdout",
     "output_type": "stream",
     "text": [
      "['tushar', 'amar', 'vaibhav', 'bhau', 'suyash', 'amit']\n",
      "['tushar', 'amar', 'vaibhav', 'bhau', 'aniket', 'suyash', 'amit']\n",
      "['tushar', 'amar', 'vaibhav', 'bhau', 'aniket', 'amit']\n"
     ]
    }
   ],
   "source": [
    "#6.Print student details--> create a list of students, add students, remove students\n",
    "details=[\"tushar\",\"amar\",\"vaibhav\",\"bhau\",\"suyash\",\"amit\"]\n",
    "print(details)\n",
    "details.insert(4,\"aniket\")\n",
    "print(details)\n",
    "details.remove(\"suyash\")\n",
    "print(details)"
   ]
  },
  {
   "cell_type": "code",
   "execution_count": null,
   "id": "17bd3c0c",
   "metadata": {},
   "outputs": [],
   "source": [
    "#7.Create a list of course--> append, insert, remove, del and pop\n",
    "#Create a list of faculty\n",
    "#List of departments\n",
    "#perform operations--> add elements(append), add elements at a position, delete element using del, pop, remove,\n",
    "#clear the list using clear(), slice the list\n",
    "#student=[\"Virat\",20,\"Pune\",\"Computers\",87]"
   ]
  }
 ],
 "metadata": {
  "kernelspec": {
   "display_name": "Python 3 (ipykernel)",
   "language": "python",
   "name": "python3"
  },
  "language_info": {
   "codemirror_mode": {
    "name": "ipython",
    "version": 3
   },
   "file_extension": ".py",
   "mimetype": "text/x-python",
   "name": "python",
   "nbconvert_exporter": "python",
   "pygments_lexer": "ipython3",
   "version": "3.11.0"
  }
 },
 "nbformat": 4,
 "nbformat_minor": 5
}
