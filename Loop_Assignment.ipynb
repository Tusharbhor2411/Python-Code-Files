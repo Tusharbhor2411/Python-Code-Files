{
 "cells": [
  {
   "cell_type": "code",
   "execution_count": null,
   "id": "4ab1a61d",
   "metadata": {},
   "outputs": [],
   "source": [
    "#1. WAP to print even numbers from 121 to 229 using for loop.\n",
    "for i in range(121,230):\n",
    "    if i%2==0:\n",
    "        print(i)"
   ]
  },
  {
   "cell_type": "code",
   "execution_count": null,
   "id": "0089076f",
   "metadata": {},
   "outputs": [],
   "source": [
    "#2. WAP to print odd numbers from 521 to 229 using while loop.\n",
    "n=521\n",
    "while n>=229:\n",
    "    if n%2!=0:\n",
    "        print(n)\n",
    "    n=n-1"
   ]
  },
  {
   "cell_type": "code",
   "execution_count": null,
   "id": "2817d7a6",
   "metadata": {},
   "outputs": [],
   "source": [
    "#3. WAP to show the use of break statement ( in for loop).\n",
    "for i in range(0,11):\n",
    "    i=i+1\n",
    "    if i%2==0 and i%3==0:\n",
    "        break\n",
    "    else:\n",
    "        print(i)"
   ]
  },
  {
   "cell_type": "code",
   "execution_count": null,
   "id": "4e8f0a6b",
   "metadata": {},
   "outputs": [],
   "source": [
    "#4. WAP to find GCD and LCM of given number.\n",
    "num1=int(input(\"Enter the number:- \"))\n",
    "num2=int(input(\"Enter the number:- \"))\n",
    "i=1\n",
    "while i<=num1 and i<=num2:\n",
    "    if num1%i==0 and num2%i==0:\n",
    "        gcd=i\n",
    "    else:\n",
    "        i=i+1\n",
    "print(\"The G.C.D. of\",num1,\"and\",num2,\"is\",gcd)"
   ]
  },
  {
   "cell_type": "code",
   "execution_count": null,
   "id": "6d4fcd24",
   "metadata": {},
   "outputs": [],
   "source": [
    "num1=int(input(\"Enter the number:- \"))\n",
    "num2=int(input(\"Enter the number:- \"))\n",
    "j=max(num1,num2)\n",
    "while True:\n",
    "    if j%num1==0 and j%num2==0:\n",
    "        lcm=j\n",
    "    else:\n",
    "        j=j+1\n",
    "print(\"The L.C.M. of\",num1,\"and\",num2,\"is\",lcm)"
   ]
  },
  {
   "cell_type": "code",
   "execution_count": null,
   "id": "5cf70ba2",
   "metadata": {},
   "outputs": [],
   "source": [
    "#5. Write a Python program to print all alphabets from a to z using for loop.\n",
    "import string\n",
    "print(\"Alphabets from a-z->\")\n",
    "for i in string.ascii_lowercase:\n",
    "    print(i,end=\" \")"
   ]
  },
  {
   "cell_type": "code",
   "execution_count": null,
   "id": "d93f9789",
   "metadata": {},
   "outputs": [],
   "source": [
    "#6. Write a Python program to find sum of all even numbers between 1 to n.\n",
    "n=int(input(\"Enter the range:- \"))\n",
    "sum=0\n",
    "for i in range(n):\n",
    "    if i%2==0:\n",
    "        sum=sum+i\n",
    "print(\"Sum of 1 to\",n,\"even numbers is:-\",sum)"
   ]
  },
  {
   "cell_type": "code",
   "execution_count": null,
   "id": "e949026a",
   "metadata": {},
   "outputs": [],
   "source": [
    "#7. Write a Python program to find sum of all odd numbers between 1 to n.\n",
    "n=int(input(\"Enter the range:- \"))\n",
    "sum=0\n",
    "for i in range(n):\n",
    "    if i%2!=0:\n",
    "        sum=sum+i\n",
    "print(\"Sum of 1 to\",n,\"odd numbers is:-\",sum)"
   ]
  },
  {
   "cell_type": "code",
   "execution_count": null,
   "id": "7545671f",
   "metadata": {},
   "outputs": [],
   "source": [
    "#8. Write a Python program to count number of digits in any number.\n",
    "num=int(input(\"Enter the number:- \"))\n",
    "count=0\n",
    "while num>0:\n",
    "    n=num%10\n",
    "    num=num//10\n",
    "    count+=1\n",
    "print(\"Total count of digits in given no.:- \",count)"
   ]
  },
  {
   "cell_type": "code",
   "execution_count": null,
   "id": "9d1cffb3",
   "metadata": {},
   "outputs": [],
   "source": [
    "#9. Write a Python program to calculate product of digits of any number.\n",
    "num=int(input(\"Enter the number:- \"))\n",
    "prod=1\n",
    "while num>0:\n",
    "    n=num%10\n",
    "    num=num//10\n",
    "    prod=prod*n\n",
    "print(\"Total product of digits in given no.:- \",prod)"
   ]
  },
  {
   "cell_type": "code",
   "execution_count": null,
   "id": "636de72a",
   "metadata": {},
   "outputs": [],
   "source": [
    "#10. Write a Python program to find frequency of each digit in a given integer.\n",
    "num=input(\"Enter the number:- \")\n",
    "a=len(num)\n",
    "num=int(num)\n",
    "print(\"Digit\\tFrequency\")\n",
    "for i in range(0,10):\n",
    "    count=0;\n",
    "    temp=num;\n",
    "    while temp>0:\n",
    "        digit=temp%10\n",
    "        if digit==i:\n",
    "            count+=1\n",
    "        temp=temp//10;\n",
    "    if count>0:\n",
    "        count=(count/a)\n",
    "        print(i,\"\\t\",count)"
   ]
  },
  {
   "cell_type": "code",
   "execution_count": null,
   "id": "ab6a93cb",
   "metadata": {},
   "outputs": [],
   "source": [
    "#11. Find all prime number between 400 to 300.\n",
    "for i in range(400,300,-1):\n",
    "    j=2\n",
    "    flag=1\n",
    "    while j<i:\n",
    "        if i%j==0:\n",
    "            flag=0\n",
    "            break\n",
    "        j=j+1\n",
    "    if flag==1:\n",
    "        print(i,\"is prime number\")"
   ]
  },
  {
   "cell_type": "code",
   "execution_count": null,
   "id": "a9e14139",
   "metadata": {},
   "outputs": [],
   "source": [
    "#12. WAP to print table of given no.\n",
    "num=int(input(\"Enter the no:- \"))\n",
    "for i in range(1,11):\n",
    "    print(num*i)"
   ]
  },
  {
   "cell_type": "code",
   "execution_count": null,
   "id": "260794e4",
   "metadata": {},
   "outputs": [],
   "source": [
    "#13. WAP to print squares from 1 to 20.\n",
    "print(\"No --> Square\")\n",
    "for i in range(1,21):\n",
    "    print(i,\"-->\",i**i)"
   ]
  },
  {
   "cell_type": "code",
   "execution_count": null,
   "id": "05f31c63",
   "metadata": {},
   "outputs": [],
   "source": [
    "#14. WAP to accept base and index from user and calculates power.\n",
    "base=int(input(\"Enter the base:- \"))\n",
    "index=int(input(\"Enter the index:- \"))\n",
    "power=base**index\n",
    "print(power)"
   ]
  },
  {
   "cell_type": "code",
   "execution_count": null,
   "id": "5442abc4",
   "metadata": {},
   "outputs": [],
   "source": [
    "# 15. 1!+2!+3!.........+n! find s.\n",
    "sum=1\n",
    "i=1\n",
    "num=int(input(\"Enter the no:- \"))\n",
    "while i<=num:\n",
    "    sum=sum*i\n",
    "    i=i+1\n",
    "print(\"Sum of factorials of 1 to\",num,\"numbers is :-:\",sum)"
   ]
  },
  {
   "cell_type": "code",
   "execution_count": null,
   "id": "83dc10e3",
   "metadata": {},
   "outputs": [],
   "source": [
    "#15.WAP to check given no is armstrong or not.\n",
    "rem=0\n",
    "sum=0\n",
    "num=input(\"Enter the no:-\")\n",
    "a=len(num)\n",
    "num=int(num)\n",
    "temp=num\n",
    "while num>0:\n",
    "    rem=num%10\n",
    "    sum=sum+(rem**a)\n",
    "    num=num//10\n",
    "print(sum)\n",
    "if sum==temp:\n",
    "    print(\"The given number is armstrong\")\n",
    "else:\n",
    "    print(\"The given number is not armstrong\")"
   ]
  },
  {
   "cell_type": "code",
   "execution_count": null,
   "id": "cb60d516",
   "metadata": {},
   "outputs": [],
   "source": [
    "#17. WAP to check given no is palindrome or not. Original =Reverse\n",
    "num=int(input(\"Enter the number:-\"))\n",
    "temp=num\n",
    "rev=0\n",
    "while num>0:\n",
    "    dig=num%10\n",
    "    rev=rev*10+dig\n",
    "    num=num//10\n",
    "if temp==rev:\n",
    "    print(\"The given number is palindrome\")\n",
    "else:\n",
    "    print(\"The given number is not palindrome\")"
   ]
  },
  {
   "cell_type": "code",
   "execution_count": null,
   "id": "40716652",
   "metadata": {},
   "outputs": [],
   "source": [
    "#18. WAP to check given no is automorphic or not\n",
    "#input n=25 output Automorphic as 25*25=625\n",
    "num=int(input(\"Enter the number:- \"))\n",
    "digits=len(str(num))\n",
    "square=num**2\n",
    "last_digits=square%pow(10,digits)\n",
    "if last_digits==num:\n",
    "    print(\"The\",num,\"is automorphic number\")\n",
    "else:\n",
    "    print(\"The\",num,\"is not automorphic number\")"
   ]
  },
  {
   "cell_type": "code",
   "execution_count": null,
   "id": "9ec7a852",
   "metadata": {},
   "outputs": [],
   "source": [
    "#19. WAP to find given number is Harshad/Niven number or not\n",
    "#An harshad number is an integer number divisible by sum of its digit\n",
    "#Eg 18 sum=9 and 18 is divisible by 9\n",
    "num=int(input(\"Enter the number:-\"))\n",
    "temp=num\n",
    "digit=sum=0\n",
    "while temp>0:\n",
    "    digit=temp%10\n",
    "    sum=sum+digit\n",
    "    temp=temp//10\n",
    "if num%sum==0:\n",
    "    print(num,\"is harshad number\")\n",
    "else:\n",
    "    print(num,\"is not harshad number\")"
   ]
  },
  {
   "cell_type": "code",
   "execution_count": null,
   "id": "b736ad3f",
   "metadata": {},
   "outputs": [],
   "source": [
    "#20. Print all palindrome numbers from 100 to 500.\n",
    "for num in range(100,501,1):\n",
    "    temp=num\n",
    "    rev=0\n",
    "    while temp>0:\n",
    "        dig=temp%10\n",
    "        rev=rev*10+dig\n",
    "        temp=temp//10\n",
    "    if num==rev:\n",
    "        print(num,\"is palindrome number\")"
   ]
  }
 ],
 "metadata": {
  "kernelspec": {
   "display_name": "Python 3 (ipykernel)",
   "language": "python",
   "name": "python3"
  },
  "language_info": {
   "codemirror_mode": {
    "name": "ipython",
    "version": 3
   },
   "file_extension": ".py",
   "mimetype": "text/x-python",
   "name": "python",
   "nbconvert_exporter": "python",
   "pygments_lexer": "ipython3",
   "version": "3.11.0"
  }
 },
 "nbformat": 4,
 "nbformat_minor": 5
}
