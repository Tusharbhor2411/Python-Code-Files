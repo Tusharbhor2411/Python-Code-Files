{
 "cells": [
  {
   "cell_type": "code",
   "execution_count": 6,
   "id": "bc22a673",
   "metadata": {},
   "outputs": [
    {
     "name": "stdout",
     "output_type": "stream",
     "text": [
      "No of doors:  2 \tArea:  1000 sq.ft\n",
      "No of doors:  4 \tArea:  3000 sq.ft\n"
     ]
    }
   ],
   "source": [
    "class Home:\n",
    "    def __init__(self,no_of_doors,area):\n",
    "        self.no_of_doors=no_of_doors\n",
    "        self.area=area\n",
    "        \n",
    "    def display_attributes(self):\n",
    "        print(\"No of doors: \",self.no_of_doors,\"\\tArea: \",self.area)\n",
    "        \n",
    "class ResidetialHome(Home):\n",
    "    def __init__(self,no_of_doors,area,windows):\n",
    "        Home.__init__(self,no_of_doors,area)\n",
    "        self.windows=windows\n",
    "        \n",
    "    def display_atttributes(self):\n",
    "        #print(\"No of doors: \",self.no_of_doors,\"\\tArea: \",self.area,\"\\tNo of windows: \",self.windows)\n",
    "        super().display_attributes()\n",
    "        \n",
    "def main():\n",
    "    home=Home(2,\"1000 sq.ft\")\n",
    "    home.display_attributes()\n",
    "    resident=ResidetialHome(4,\"3000 sq.ft\",8)\n",
    "    resident.display_attributes()\n",
    "    \n",
    "main()"
   ]
  },
  {
   "cell_type": "code",
   "execution_count": null,
   "id": "a2e2d0f5",
   "metadata": {},
   "outputs": [],
   "source": [
    "from abc import ABC,abstractmethod\n",
    "class A(abc):\n",
    "    def show(self):\n",
    "        print(\"Hii\")\n",
    "\n",
    "class B(A):\n",
    "    def show(self):\n",
    "        print(\"\")"
   ]
  },
  {
   "cell_type": "code",
   "execution_count": 8,
   "id": "475eb427",
   "metadata": {},
   "outputs": [
    {
     "name": "stdout",
     "output_type": "stream",
     "text": [
      "['Prajwal', 'Vaibhav', 'Shubham', 'Harshal']\n"
     ]
    }
   ],
   "source": [
    "str1=['Tushar','Prajwal','Vaibhav','Shubham','Harshal']\n",
    "print(list(filter(lambda x: len(x)>6,str1)))"
   ]
  },
  {
   "cell_type": "code",
   "execution_count": 22,
   "id": "c68ab10a",
   "metadata": {},
   "outputs": [
    {
     "name": "stdout",
     "output_type": "stream",
     "text": [
      "[1, 6, 2, 7, 3, 8, 4, 9, 5, 1]\n"
     ]
    }
   ],
   "source": [
    "a1=[1,2,3,4,5]\n",
    "a2=[6,7,8,9,1]\n",
    "\n",
    "a3=[]\n",
    "#1,6 2,7 3,8 4,9,5,1\n",
    "for (i,j) in zip(a1,a2):\n",
    "    a3.append(i)\n",
    "    a3.append(j)\n",
    "    \n",
    "print(a3)"
   ]
  }
 ],
 "metadata": {
  "kernelspec": {
   "display_name": "Python 3 (ipykernel)",
   "language": "python",
   "name": "python3"
  },
  "language_info": {
   "codemirror_mode": {
    "name": "ipython",
    "version": 3
   },
   "file_extension": ".py",
   "mimetype": "text/x-python",
   "name": "python",
   "nbconvert_exporter": "python",
   "pygments_lexer": "ipython3",
   "version": "3.11.0"
  }
 },
 "nbformat": 4,
 "nbformat_minor": 5
}
