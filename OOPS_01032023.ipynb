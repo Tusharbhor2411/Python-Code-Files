{
 "cells": [
  {
   "cell_type": "code",
   "execution_count": 8,
   "id": "1eb6003a",
   "metadata": {},
   "outputs": [
    {
     "name": "stdout",
     "output_type": "stream",
     "text": [
      "This shape is Square\n",
      "4\n",
      "100\n",
      "This shape is Triangle\n",
      "3\n"
     ]
    }
   ],
   "source": [
    "#Inheritance method overriding\n",
    "class Shape:\n",
    "    def __init__(self,sides):\n",
    "        self.sides=sides\n",
    "        \n",
    "    def print_shape(self):\n",
    "        print(\"This shape is not defined\")\n",
    "        \n",
    "    def print_sides(self):\n",
    "        print(self.sides)\n",
    "        \n",
    "class Square(Shape):\n",
    "    def __init__(self,sides):\n",
    "        super().__init__(sides)\n",
    "        \n",
    "    def print_shape(self):\n",
    "        print(\"This shape is Square\")\n",
    "        \n",
    "class Circle(Square):\n",
    "    def __init__(self,sides):\n",
    "        self.sides=sides\n",
    "        \n",
    "    def print_shape(self):\n",
    "        print(\"This shape is Circle\")\n",
    "        \n",
    "    def print_sides(self):\n",
    "        print(self.sides)\n",
    "        \n",
    "class Triangle(Square):\n",
    "    def __init__(self,sides):\n",
    "        super().__init__(sides)\n",
    "    \n",
    "    def print_shape(self):\n",
    "        print(\"This shape is Triangle\")\n",
    "        \n",
    "    def print_sides(self):\n",
    "        print(self.sides)\n",
    "        \n",
    "def main():\n",
    "    circle=Circle(100)\n",
    "    square= Square(4)\n",
    "    square.print_shape()\n",
    "    square.print_sides()\n",
    "    circle.print_sides()\n",
    "    triangle=Triangle(3)\n",
    "    triangle.print_shape()\n",
    "    triangle.print_sides()\n",
    "    \n",
    "if __name__==\"__main__\":\n",
    "    main()"
   ]
  },
  {
   "cell_type": "code",
   "execution_count": 6,
   "id": "a2ff5d79",
   "metadata": {},
   "outputs": [
    {
     "name": "stdout",
     "output_type": "stream",
     "text": [
      "This shape is not defined\n",
      "This shape is Square default_arg\n",
      "This shape is Triangle default_arg_triangle\n"
     ]
    }
   ],
   "source": [
    "#Inheritance method overriding LSP(Liskov Substitution Principle)\n",
    "class Shape:\n",
    "    def __init__(self,sides):\n",
    "        self.sides=sides\n",
    "        \n",
    "    def print_shape(self):\n",
    "        print(\"This shape is not defined\")\n",
    "        \n",
    "class Square(Shape):\n",
    "    def __init__(self,sides):\n",
    "        super().__init__(sides)\n",
    "        \n",
    "    def print_shape(self,arg='default_arg'):\n",
    "        print(\"This shape is Square\",arg)\n",
    "        \n",
    "class Triangle(Square):\n",
    "    def __init__(self,sides):\n",
    "        super().__init__(sides)\n",
    "    \n",
    "    def print_shape(self,arg='default_arg_triangle'):\n",
    "        print(\"This shape is Triangle\",arg)\n",
    "        \n",
    "def main():\n",
    "    shape=Shape(4)\n",
    "    square=Square(5)\n",
    "    triangle=Triangle(3)\n",
    "    shape_list=[shape,square,triangle]\n",
    "    for shape_obj in shape_list:\n",
    "        print_shape_wrapper(shape_obj)\n",
    "        \n",
    "def print_shape_wrapper(obj):\n",
    "    obj.print_shape()\n",
    "    \n",
    "if __name__=='__main__':\n",
    "    main()"
   ]
  },
  {
   "cell_type": "code",
   "execution_count": 2,
   "id": "04baed08",
   "metadata": {},
   "outputs": [
    {
     "name": "stdout",
     "output_type": "stream",
     "text": [
      "Woof\n",
      "4\n",
      "Woof\n",
      "True\n",
      "4\n",
      "4\n"
     ]
    }
   ],
   "source": [
    "#inheritance super()\n",
    "class Animal:\n",
    "    def __init__(self,no_of_legs,sound):\n",
    "        self.no_of_legs=no_of_legs\n",
    "        self.sound=sound\n",
    "        \n",
    "    def print_no_of_legs(self):\n",
    "        print(self.no_of_legs)\n",
    "        \n",
    "    def print_sound(self):\n",
    "        print(self.sound)\n",
    "        \n",
    "class Dog(Animal):\n",
    "    def __init__(self,no_of_legs,sound,collar):\n",
    "        super().__init__(no_of_legs,sound)\n",
    "        self.collar=collar\n",
    "        \n",
    "    def print_sound(self):\n",
    "        super().print_sound()\n",
    "        print(self.collar)\n",
    "        super().print_no_of_legs()\n",
    "        \n",
    "def main():\n",
    "    a1=Animal(4,'Woof')\n",
    "    a1.print_sound()\n",
    "    a1.print_no_of_legs()\n",
    "    d1=Dog(4,'Woof',True)\n",
    "    d1.print_sound()\n",
    "    d1.print_no_of_legs()\n",
    "    \n",
    "if __name__=='__main__':\n",
    "    main()"
   ]
  },
  {
   "cell_type": "markdown",
   "id": "bc445960",
   "metadata": {},
   "source": [
    "# Practise"
   ]
  },
  {
   "cell_type": "code",
   "execution_count": 19,
   "id": "e61f5252",
   "metadata": {},
   "outputs": [
    {
     "name": "stdout",
     "output_type": "stream",
     "text": [
      "Class:- 8 \tNo.of students:- A\n",
      "Class:- 8 \tNo.of students:- B\n",
      "Roll no:- 1 name:- Ram Class:- 8 \tNo.of students:- B\n"
     ]
    }
   ],
   "source": [
    "#1.Write any class of your choice and create a child class of it using single inheritance\n",
    "class Class:\n",
    "    def __init__(self,standard,division):\n",
    "        self.standard=standard\n",
    "        self.division=division\n",
    "        \n",
    "    def print_class_details(self):\n",
    "        print(\"Class:-\",self.standard,\"\\tNo.of students:-\",self.division)\n",
    "        \n",
    "class Student(Class):\n",
    "    def __init__(self,roll_no,name,standard,division):\n",
    "        super().__init__(standard,division)\n",
    "        self.roll_no=roll_no\n",
    "        self.name=name\n",
    "        \n",
    "    def print_student_details(self):\n",
    "        print(\"Roll no:-\",self.roll_no,\"name:-\",self.name,\"Class:-\",self.standard,\"\\tNo.of students:-\",self.division)\n",
    "        \n",
    "def main():\n",
    "    c1=Class(8,'A')\n",
    "    c1.print_class_details()\n",
    "    s1=Student(1,'Ram',8,'B')\n",
    "    s1.print_class_details()\n",
    "    s1.print_student_details()\n",
    "    \n",
    "if __name__=='__main__':\n",
    "    main()"
   ]
  },
  {
   "cell_type": "code",
   "execution_count": 26,
   "id": "3faec6fd",
   "metadata": {},
   "outputs": [
    {
     "name": "stdout",
     "output_type": "stream",
     "text": [
      "\n",
      "School name:- New English School \tCity:- Pune\n",
      "\n",
      "School name:- English School \tCity:- Pune\n",
      "Class:- 8 \tNo.of students:- A \tSchool name:- English School \tCity:- Pune\n",
      "\n",
      "School name:- Ganesh Vidya Mandir \tCity:- Pune\n",
      "Class:- 8 \tNo.of students:- B \tSchool name:- Ganesh Vidya Mandir \tCity:- Pune\n",
      "Roll no:- 1 \tname:- Ram \tClass:- 8 \tNo.of students:- B \tSchool name:- Ganesh Vidya Mandir \tCity:- Pune\n"
     ]
    }
   ],
   "source": [
    "#2.Write any 3 classes of your choice to showcase multilevel inheritance.\n",
    "class School:\n",
    "    def __init__(self,school_name,city):\n",
    "        self.school_name=school_name\n",
    "        self.city=city\n",
    "        \n",
    "    def print_school_details(self):\n",
    "        print(\"\\nSchool name:-\",self.school_name,\"\\tCity:-\",self.city)\n",
    "        \n",
    "class Class(School):\n",
    "    def __init__(self,standard,division,school_name,city):\n",
    "        super().__init__(school_name,city)\n",
    "        self.standard=standard\n",
    "        self.division=division\n",
    "        \n",
    "    def print_class_details(self):\n",
    "        print(\"Class:-\",self.standard,\"\\tNo.of students:-\",self.division,\"\\tSchool name:-\",self.school_name,\"\\tCity:-\",self.city)\n",
    "        \n",
    "class Student(Class):\n",
    "    def __init__(self,roll_no,name,standard,division,school_name,city):\n",
    "        super().__init__(standard,division,school_name,city)\n",
    "        self.roll_no=roll_no\n",
    "        self.name=name\n",
    "        \n",
    "    def print_student_details(self):\n",
    "        print(\"Roll no:-\",self.roll_no,\"\\tname:-\",self.name,\"\\tClass:-\",self.standard,\"\\tNo.of students:-\",self.division,\"\\tSchool name:-\",self.school_name,\"\\tCity:-\",self.city)\n",
    "        \n",
    "def main():\n",
    "    sc1=School('New English School','Pune')\n",
    "    sc1.print_school_details()\n",
    "    c1=Class(8,'A','English School','Pune')\n",
    "    c1.print_school_details()\n",
    "    c1.print_class_details()\n",
    "    s1=Student(1,'Ram',8,'B','Ganesh Vidya Mandir','Pune')\n",
    "    s1.print_school_details()\n",
    "    s1.print_class_details()\n",
    "    s1.print_student_details()\n",
    "    \n",
    "if __name__=='__main__':\n",
    "    main()"
   ]
  },
  {
   "cell_type": "code",
   "execution_count": 48,
   "id": "8d54a818",
   "metadata": {},
   "outputs": [
    {
     "name": "stdout",
     "output_type": "stream",
     "text": [
      "Rank:- 2 \tCompany name:- Oneplus\n",
      "Rank:- 3 \tCompany name:- Samsung \tModel name:- A51 \tPrice:- 45000\n",
      "Rank:- 3 \tCompany name:- Samsung\n",
      "Rank:- 1 \tCompany name:- Apple \tModel name:- 14 Pro \tPrice:- 145000\n",
      "Rank:- 1 \tCompany name:- Apple\n",
      "Rank:- 4 \tCompany name:- Redmi \tModel name:- Note 12 \tPrice:- 25000\n",
      "Rank:- 4 \tCompany name:- Redmi\n"
     ]
    }
   ],
   "source": [
    "#3.Create any class of your choice and then create 3 child classes of it to exhibit hierarchical inheritance\n",
    "class Mobile:\n",
    "    def __init__(self,rank,company_name):\n",
    "        self.rank=rank\n",
    "        self.company_name=company_name\n",
    "        \n",
    "    def print_mobile_details(self):\n",
    "        print(\"Rank:-\",self.rank,\"\\tCompany name:-\",self.company_name)\n",
    "        \n",
    "class Samsung(Mobile):\n",
    "    def __init__(self,rank,company_name,model,price):\n",
    "        super().__init__(rank,company_name)\n",
    "        self.model=model\n",
    "        self.price=price\n",
    "        \n",
    "    def print_samsung_details(self):\n",
    "        print(\"Rank:-\",self.rank,\"\\tCompany name:-\",self.company_name,\"\\tModel name:-\",self.model,\"\\tPrice:-\",self.price)\n",
    "        \n",
    "class Apple(Mobile):\n",
    "    def __init__(self,rank,company_name,model,price):\n",
    "        super().__init__(rank,company_name)\n",
    "        self.model=model\n",
    "        self.price=price\n",
    "        \n",
    "    def print_apple_details(self):\n",
    "        print(\"Rank:-\",self.rank,\"\\tCompany name:-\",self.company_name,\"\\tModel name:-\",self.model,\"\\tPrice:-\",self.price)\n",
    "        \n",
    "class Redmi(Mobile):\n",
    "    def __init__(self,rank,company_name,model,price):\n",
    "        super().__init__(rank,company_name)\n",
    "        self.model=model\n",
    "        self.price=price\n",
    "        \n",
    "    def print_redmi_details(self):\n",
    "        print(\"Rank:-\",self.rank,\"\\tCompany name:-\",self.company_name,\"\\tModel name:-\",self.model,\"\\tPrice:-\",self.price)\n",
    "        \n",
    "def main():\n",
    "    m1=Mobile(2,'Oneplus')\n",
    "    m1.print_mobile_details()\n",
    "    s1=Samsung(3,'Samsung','A51',45000)\n",
    "    s1.print_samsung_details()\n",
    "    s1.print_mobile_details()\n",
    "    a1=Apple(1,'Apple','14 Pro',145000)\n",
    "    a1.print_apple_details()\n",
    "    a1.print_mobile_details()\n",
    "    r1=Redmi(4,'Redmi','Note 12',25000)\n",
    "    r1.print_redmi_details()\n",
    "    r1.print_mobile_details()\n",
    "    \n",
    "if __name__==\"__main__\":\n",
    "    main()"
   ]
  },
  {
   "cell_type": "code",
   "execution_count": 38,
   "id": "1e0f0947",
   "metadata": {},
   "outputs": [
    {
     "ename": "AttributeError",
     "evalue": "type object 'Company' has no attribute 'change_company_name'",
     "output_type": "error",
     "traceback": [
      "\u001b[1;31m---------------------------------------------------------------------------\u001b[0m",
      "\u001b[1;31mAttributeError\u001b[0m                            Traceback (most recent call last)",
      "Cell \u001b[1;32mIn[38], line 18\u001b[0m\n\u001b[0;32m     15\u001b[0m     Company\u001b[38;5;241m.\u001b[39mchange_company_name(\u001b[38;5;124m'\u001b[39m\u001b[38;5;124mInfoys\u001b[39m\u001b[38;5;124m'\u001b[39m)\n\u001b[0;32m     17\u001b[0m \u001b[38;5;28;01mif\u001b[39;00m \u001b[38;5;18m__name__\u001b[39m\u001b[38;5;241m==\u001b[39m\u001b[38;5;124m'\u001b[39m\u001b[38;5;124m__main__\u001b[39m\u001b[38;5;124m'\u001b[39m:\n\u001b[1;32m---> 18\u001b[0m     \u001b[43mmain\u001b[49m\u001b[43m(\u001b[49m\u001b[43m)\u001b[49m\n",
      "Cell \u001b[1;32mIn[38], line 15\u001b[0m, in \u001b[0;36mmain\u001b[1;34m()\u001b[0m\n\u001b[0;32m     12\u001b[0m \u001b[38;5;28;01mdef\u001b[39;00m \u001b[38;5;21mmain\u001b[39m():\n\u001b[0;32m     13\u001b[0m     \u001b[38;5;66;03m#del Company.change_company_name\u001b[39;00m\n\u001b[0;32m     14\u001b[0m     \u001b[38;5;28mdelattr\u001b[39m(Company,\u001b[38;5;124m'\u001b[39m\u001b[38;5;124mchange_company_name\u001b[39m\u001b[38;5;124m'\u001b[39m)\n\u001b[1;32m---> 15\u001b[0m     \u001b[43mCompany\u001b[49m\u001b[38;5;241;43m.\u001b[39;49m\u001b[43mchange_company_name\u001b[49m(\u001b[38;5;124m'\u001b[39m\u001b[38;5;124mInfoys\u001b[39m\u001b[38;5;124m'\u001b[39m)\n",
      "\u001b[1;31mAttributeError\u001b[0m: type object 'Company' has no attribute 'change_company_name'"
     ]
    }
   ],
   "source": [
    "#4.Create any class with a classmethod and then delete it using the del keyword and using the delattr keyword\n",
    "class Company:\n",
    "    school_name='Capgemini'\n",
    "    \n",
    "    def __init__(self,name):\n",
    "        self.name=name\n",
    "        \n",
    "    @classmethod\n",
    "    def change_company_name(cls,company_name):\n",
    "        cls.company_name=company_name\n",
    "        \n",
    "def main():\n",
    "    #del Company.change_company_name\n",
    "    delattr(Company,'change_company_name')\n",
    "    Company.change_company_name('Infoys')\n",
    "    \n",
    "if __name__=='__main__':\n",
    "    main()"
   ]
  }
 ],
 "metadata": {
  "kernelspec": {
   "display_name": "Python 3 (ipykernel)",
   "language": "python",
   "name": "python3"
  },
  "language_info": {
   "codemirror_mode": {
    "name": "ipython",
    "version": 3
   },
   "file_extension": ".py",
   "mimetype": "text/x-python",
   "name": "python",
   "nbconvert_exporter": "python",
   "pygments_lexer": "ipython3",
   "version": "3.11.0"
  }
 },
 "nbformat": 4,
 "nbformat_minor": 5
}
