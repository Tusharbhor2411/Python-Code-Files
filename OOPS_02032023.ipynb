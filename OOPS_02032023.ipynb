{
 "cells": [
  {
   "cell_type": "code",
   "execution_count": 14,
   "id": "3edd56c1",
   "metadata": {},
   "outputs": [
    {
     "name": "stdout",
     "output_type": "stream",
     "text": [
      "Area is:- 50\n",
      "Area is:- 100\n"
     ]
    }
   ],
   "source": [
    "#Inheritance LSP\n",
    "class Rectangle:\n",
    "    def __init__(self,length,breadth):\n",
    "        self.length=length\n",
    "        self.breadth=breadth\n",
    "        \n",
    "    def set_length(self,length):\n",
    "        self.length=length\n",
    "        \n",
    "    def set_breadth(self,breadth):\n",
    "        self.breadth=breadth\n",
    "        \n",
    "class Square(Rectangle):\n",
    "    def __init__(self,length):\n",
    "        super().__init__(length,length)\n",
    "        \n",
    "    def set_length(self,length):\n",
    "        self.length=self.breadth=length\n",
    "    \n",
    "    def set_breadth(self,breadth):\n",
    "        self.length=self.breadth=breadth\n",
    "        \n",
    "def calculate_area(obj):\n",
    "    obj.set_length(10)\n",
    "    return \"Area is:- \" + str(10*obj.breadth)\n",
    "\n",
    "def main():\n",
    "    r1=Rectangle(4,5)\n",
    "    s1=Square(4)\n",
    "    print(calculate_area(r1))\n",
    "    print(calculate_area(s1))\n",
    "    \n",
    "if __name__==\"__main__\":\n",
    "    main()"
   ]
  },
  {
   "cell_type": "code",
   "execution_count": 15,
   "id": "71a05ddc",
   "metadata": {},
   "outputs": [
    {
     "name": "stdout",
     "output_type": "stream",
     "text": [
      "ABC School\n",
      "FGH School\n"
     ]
    }
   ],
   "source": [
    "#Inheritance Class method\n",
    "class Student:\n",
    "    school_name='ABC School'\n",
    "    def __init__(self,name):\n",
    "        self.name=name\n",
    "        \n",
    "    @classmethod\n",
    "    def change_school_name(cls,school_name):\n",
    "        cls.school_name=school_name\n",
    "        \n",
    "class CollegeStudent(Student):\n",
    "    college_name='DEF College'\n",
    "    def __init__(self,college_id,name):\n",
    "        super().__init__(name)\n",
    "        self.college_id=college_id\n",
    "        \n",
    "def main():\n",
    "    s1=Student('Ram')\n",
    "    c1=CollegeStudent(1234,'Shyam')\n",
    "    print(CollegeStudent.school_name)\n",
    "    CollegeStudent.change_school_name('FGH School')\n",
    "    print(CollegeStudent.school_name)\n",
    "    \n",
    "if __name__=='__main__':\n",
    "    main()"
   ]
  },
  {
   "cell_type": "code",
   "execution_count": 16,
   "id": "2af6bdcc",
   "metadata": {},
   "outputs": [
    {
     "name": "stdout",
     "output_type": "stream",
     "text": [
      "ABC School\n",
      "Shyam 1234 Some String\n"
     ]
    }
   ],
   "source": [
    "#Inheritance access modifier\n",
    "class Student:\n",
    "    school_name='ABC School'\n",
    "    def __init__(self,name,student_id):\n",
    "        self.name=name\n",
    "        self.student_id=student_id\n",
    "        \n",
    "    @classmethod\n",
    "    def change_school_name(cls,school_name):\n",
    "        cls.school_name=school_name\n",
    "        \n",
    "    def __print_student_details(self):\n",
    "        print(self.name)\n",
    "        \n",
    "class CollegeStudent(Student):\n",
    "    college_name='DEF College'\n",
    "    def __init__(self,college_id,student_id,name):\n",
    "        super().__init__(name,student_id)\n",
    "        self.college_id=college_id\n",
    "        \n",
    "    def __print_student_details(self,some_str):\n",
    "        print(self.name,self.college_id,some_str)\n",
    "        \n",
    "def main():\n",
    "    s1=Student('Ram',2345)\n",
    "    c1=CollegeStudent(1234,2345,'Shyam')\n",
    "    print(CollegeStudent.school_name)\n",
    "    c1._CollegeStudent__print_student_details('Some String')\n",
    "    \n",
    "if __name__=='__main__':\n",
    "    main()"
   ]
  },
  {
   "cell_type": "code",
   "execution_count": 2,
   "id": "54bb74ce",
   "metadata": {},
   "outputs": [
    {
     "name": "stdout",
     "output_type": "stream",
     "text": [
      "Student:  Ram\n",
      "College Student:  Shyam\n"
     ]
    }
   ],
   "source": [
    "#Inheritance Polymorphism\n",
    "class Student:\n",
    "    def __init__(self,name):\n",
    "        self.name=name\n",
    "        \n",
    "    def print_name(self):\n",
    "        print(\"Student: \",self.name)\n",
    "        \n",
    "class CollegeStudent(Student):\n",
    "    def __init__(self,name):\n",
    "        super().__init__(name)\n",
    "        \n",
    "    def print_name(self):\n",
    "        print(\"College Student: \",self.name)\n",
    "        \n",
    "def main():\n",
    "    s1=Student('Ram')\n",
    "    c1=CollegeStudent('Shyam')\n",
    "    s1.print_name()\n",
    "    c1.print_name()\n",
    "    \n",
    "if __name__=='__main__':\n",
    "    main()"
   ]
  },
  {
   "cell_type": "markdown",
   "id": "53a5a187",
   "metadata": {},
   "source": [
    "# Practise"
   ]
  },
  {
   "cell_type": "code",
   "execution_count": 6,
   "id": "1a5f74c7",
   "metadata": {},
   "outputs": [
    {
     "name": "stdout",
     "output_type": "stream",
     "text": [
      "Height:  4 \tWidth:  4 \tShape name:  Square\n",
      "Number of sides:4\n",
      "Height:  4 \tWidth:  5 \tShape name:  Rectangle\n",
      "Number of sides:4\n"
     ]
    }
   ],
   "source": [
    "#1.Write a parent and child class Shape and Rectangle. Create 3 instance attributes in the constructor for Shape \n",
    "#(height, width, shape_name). Create methods in Shape for display_attributes and number_of_sides override it in Rectangle\n",
    "class Shape:\n",
    "    def __init__(self,height,width,shape_name):\n",
    "        self.height=height\n",
    "        self.width=width\n",
    "        self.shape_name=shape_name\n",
    "        \n",
    "    def display_attributes(self):\n",
    "        print(\"Height: \",self.height,\"\\tWidth: \",self.width,\"\\tShape name: \",self.shape_name)\n",
    "        \n",
    "    def no_of_sides(self):\n",
    "        print(\"Number of sides:\"+'4')\n",
    "        \n",
    "class Rectangle(Shape):\n",
    "    def __init__(self,height,width,shape_name):\n",
    "        super().__init__(height,width,shape_name)\n",
    "        \n",
    "    def display_attributes(self):\n",
    "        print(\"Height: \",self.height,\"\\tWidth: \",self.width,\"\\tShape name: \",self.shape_name)\n",
    "        \n",
    "    def no_of_sides(self):\n",
    "        print(\"Number of sides:\"+'4')\n",
    "        \n",
    "def main():\n",
    "    s1=Shape(4,4,'Square')\n",
    "    s1.display_attributes()\n",
    "    s1.no_of_sides()\n",
    "    r1=Rectangle(4,5,'Rectangle')\n",
    "    r1.display_attributes()\n",
    "    r1.no_of_sides()\n",
    "    \n",
    "if __name__==\"__main__\":\n",
    "    main()"
   ]
  },
  {
   "cell_type": "code",
   "execution_count": 16,
   "id": "39c74659",
   "metadata": {},
   "outputs": [
    {
     "name": "stdout",
     "output_type": "stream",
     "text": [
      "40\n",
      "24\n"
     ]
    }
   ],
   "source": [
    "#2.Create a method calculate_area in Shape class and override it in Rectangle & use the super keyword to help calculate the area\n",
    "class Shape:\n",
    "    def __init__(self,length,breadth):\n",
    "        self.length=length\n",
    "        self.breadth=breadth\n",
    "        \n",
    "    def calculate_area(self):\n",
    "        return (2*self.length*self.breadth)\n",
    "    \n",
    "class Rectangle(Shape):\n",
    "    def __init__(self,length,breadth):\n",
    "        super().__init__(length,breadth)\n",
    "        \n",
    "    def calculate_area(self):\n",
    "        return super().calculate_area()\n",
    "    \n",
    "def main():\n",
    "    s1=Shape(4,5)\n",
    "    print(s1.calculate_area())\n",
    "    r1=Rectangle(3,4)\n",
    "    print(r1.calculate_area())\n",
    "    \n",
    "if __name__==\"__main__\":\n",
    "    main()"
   ]
  },
  {
   "cell_type": "code",
   "execution_count": 20,
   "id": "6db598df",
   "metadata": {},
   "outputs": [
    {
     "name": "stdout",
     "output_type": "stream",
     "text": [
      "18\n",
      "14\n"
     ]
    }
   ],
   "source": [
    "#3.Create a method calculatePerimeter and override it in Rectangle\n",
    "class Shape:\n",
    "    def __init__(self,length,breadth):\n",
    "        self.length=length\n",
    "        self.breadth=breadth\n",
    "        \n",
    "    def calculate_perimeter(self):\n",
    "        print(2*(self.length+self.breadth))\n",
    "    \n",
    "class Rectangle(Shape):\n",
    "    def __init__(self,length,breadth):\n",
    "        super().__init__(length,breadth)\n",
    "        \n",
    "    def calculate_perimeter(self):\n",
    "        return super().calculate_perimeter()\n",
    "    \n",
    "def main():\n",
    "    s1=Shape(4,5)\n",
    "    s1.calculate_perimeter()\n",
    "    r1=Rectangle(3,4)\n",
    "    r1.calculate_perimeter()\n",
    "    \n",
    "if __name__==\"__main__\":\n",
    "    main()"
   ]
  },
  {
   "cell_type": "code",
   "execution_count": 23,
   "id": "932dd530",
   "metadata": {},
   "outputs": [
    {
     "name": "stdout",
     "output_type": "stream",
     "text": [
      "Height:  4 \tWidth:  4 \tShape name:  Square\n",
      "Number of sides:4\n",
      "Radius: 3 \tShape name:  Circle\n",
      "Number of sides:1\n"
     ]
    }
   ],
   "source": [
    "#4.Do the same steps from 1 to 3 for Circle instead of Rectangle\n",
    "#1\n",
    "class Shape:\n",
    "    def __init__(self,height,width,shape_name):\n",
    "        self.height=height\n",
    "        self.width=width\n",
    "        self.shape_name=shape_name\n",
    "        \n",
    "    def display_attributes(self):\n",
    "        print(\"Height: \",self.height,\"\\tWidth: \",self.width,\"\\tShape name: \",self.shape_name)\n",
    "        \n",
    "    def no_of_sides(self):\n",
    "        print(\"Number of sides:\"+'4')\n",
    "        \n",
    "class Circle(Shape):\n",
    "    def __init__(self,radius):\n",
    "        super().__init__(radius,radius)\n",
    "        self.radius=radius\n",
    "        \n",
    "    def display_attributes(self):\n",
    "        print(\"Radius:\",self.radius,\"\\tShape name: \",self.shape_name)\n",
    "        \n",
    "    def no_of_sides(self):\n",
    "        print(\"Number of sides:\"+'1')\n",
    "        \n",
    "def main():\n",
    "    s1=Shape(4,4,'Square')\n",
    "    s1.display_attributes()\n",
    "    s1.no_of_sides()\n",
    "    c1=Circle(4,5,'Circle',3)\n",
    "    c1.display_attributes()\n",
    "    c1.no_of_sides()\n",
    "    \n",
    "if __name__==\"__main__\":\n",
    "    main()"
   ]
  },
  {
   "cell_type": "code",
   "execution_count": 24,
   "id": "a7b7ca82",
   "metadata": {},
   "outputs": [
    {
     "name": "stdout",
     "output_type": "stream",
     "text": [
      "40\n",
      "28.259999999999998\n"
     ]
    }
   ],
   "source": [
    "#2.\n",
    "class Shape:\n",
    "    def __init__(self,length,breadth):\n",
    "        self.length=length\n",
    "        self.breadth=breadth\n",
    "        \n",
    "    def calculate_area(self):\n",
    "        return (2*self.length*self.breadth)\n",
    "    \n",
    "class Circle(Shape):\n",
    "    def __init__(self,radius):\n",
    "        super().__init__(radius,radius)\n",
    "        self.radius=radius\n",
    "        \n",
    "    def calculate_area(self):\n",
    "        return 3.14*self.radius*self.radius\n",
    "    \n",
    "def main():\n",
    "    s1=Shape(4,5)\n",
    "    print(s1.calculate_area())\n",
    "    r1=Circle(3)\n",
    "    print(r1.calculate_area())\n",
    "    \n",
    "if __name__==\"__main__\":\n",
    "    main()"
   ]
  },
  {
   "cell_type": "code",
   "execution_count": 26,
   "id": "2f1237cd",
   "metadata": {},
   "outputs": [
    {
     "name": "stdout",
     "output_type": "stream",
     "text": [
      "18\n",
      "12\n"
     ]
    }
   ],
   "source": [
    "#3.\n",
    "class Shape:\n",
    "    def __init__(self,length,breadth):\n",
    "        self.length=length\n",
    "        self.breadth=breadth\n",
    "        \n",
    "    def calculate_perimeter(self):\n",
    "        print(2*(self.length+self.breadth))\n",
    "    \n",
    "class Circle(Shape):\n",
    "    def __init__(self,radius):\n",
    "        super().__init__(radius,radius)\n",
    "        self.radius=radius\n",
    "        \n",
    "    def calculate_area(self):\n",
    "        return 2*3.14*self.radius\n",
    "    \n",
    "def main():\n",
    "    s1=Shape(4,5)\n",
    "    s1.calculate_perimeter()\n",
    "    r1=Circle(3)\n",
    "    r1.calculate_perimeter()\n",
    "    \n",
    "if __name__==\"__main__\":\n",
    "    main()"
   ]
  }
 ],
 "metadata": {
  "kernelspec": {
   "display_name": "Python 3 (ipykernel)",
   "language": "python",
   "name": "python3"
  },
  "language_info": {
   "codemirror_mode": {
    "name": "ipython",
    "version": 3
   },
   "file_extension": ".py",
   "mimetype": "text/x-python",
   "name": "python",
   "nbconvert_exporter": "python",
   "pygments_lexer": "ipython3",
   "version": "3.11.0"
  }
 },
 "nbformat": 4,
 "nbformat_minor": 5
}
