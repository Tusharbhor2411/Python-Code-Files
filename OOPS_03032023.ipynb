{
 "cells": [
  {
   "cell_type": "code",
   "execution_count": 10,
   "id": "06ffaa14",
   "metadata": {},
   "outputs": [
    {
     "name": "stdout",
     "output_type": "stream",
     "text": [
      "Mammal attributes are:  Mammal \t 2 \t Omni\n",
      "Human attributes are:  True \t Post Graduate\n",
      "True\n",
      "True\n"
     ]
    }
   ],
   "source": [
    "#Inheritance multiple\n",
    "class Mammal:\n",
    "    def __init__(self,species_type,no_of_legs,food_type):\n",
    "        self.species_type=species_type\n",
    "        self.no_of_legs=no_of_legs\n",
    "        self.food_type=food_type\n",
    "        \n",
    "    def describe_mammal(self):\n",
    "        print(\"Mammal attributes are: \",self.species_type,\"\\t\",self.no_of_legs,\"\\t\",self.food_type)\n",
    "        \n",
    "    def can_walk(self):\n",
    "        return True\n",
    "    \n",
    "class Human:\n",
    "    def __init__(self,can_think,qualifications):\n",
    "        self.can_think=can_think\n",
    "        self.qualifications=qualifications\n",
    "        \n",
    "    def describe_human(self):\n",
    "        print(\"Human attributes are: \",self.can_think,\"\\t\",self.qualifications)\n",
    "        \n",
    "    def can_speak(self):\n",
    "        return True\n",
    "    \n",
    "class Student(Mammal,Human):\n",
    "    def __init__(self,species_type,no_of_legs,food_type,can_think,qualifications):\n",
    "        Mammal.__init__(self,species_type,no_of_legs,food_type)\n",
    "        Human.__init__(self,can_think,qualifications)\n",
    "        \n",
    "def main():\n",
    "    s1=Student('Mammal',2,'Omni',True,\"Post Graduate\")\n",
    "    s1.describe_mammal()\n",
    "    s1.describe_human()\n",
    "    print(s1.can_walk())\n",
    "    print(s1.can_speak())\n",
    "    \n",
    "if __name__==\"__main__\":\n",
    "    main()"
   ]
  },
  {
   "cell_type": "code",
   "execution_count": 11,
   "id": "76fff1ee",
   "metadata": {},
   "outputs": [
    {
     "name": "stdout",
     "output_type": "stream",
     "text": [
      "This is D\n"
     ]
    }
   ],
   "source": [
    "#Inheritance Hybrid\n",
    "class A:\n",
    "    def print_method(self):\n",
    "        print(\"This is A\")\n",
    "        \n",
    "class B(A):\n",
    "    def print_method(self):\n",
    "        print(\"This is B\")\n",
    "        \n",
    "class C(A):\n",
    "    def print_method(self):\n",
    "        print(\"This is C\")\n",
    "        \n",
    "class D(B,C):\n",
    "    def print_method(self):\n",
    "        print(\"This is D\")\n",
    "        \n",
    "def main():\n",
    "    d1=D()\n",
    "    d1.print_method()\n",
    "    \n",
    "if __name__==\"__main__\":\n",
    "    main()"
   ]
  },
  {
   "cell_type": "code",
   "execution_count": 1,
   "id": "8b85320b",
   "metadata": {},
   "outputs": [
    {
     "name": "stdout",
     "output_type": "stream",
     "text": [
      "This is D\n",
      "[<class '__main__.D'>, <class '__main__.C'>, <class '__main__.B'>, <class '__main__.A'>, <class 'object'>]\n"
     ]
    }
   ],
   "source": [
    "#Inheritance MRO\n",
    "class A:\n",
    "    def print_method(self):\n",
    "        print(\"This is A\")\n",
    "        \n",
    "class B(A):\n",
    "    def print_method(self):\n",
    "        print(\"This is B\")\n",
    "        \n",
    "class C(B):\n",
    "    def print_method(self):\n",
    "        print(\"This is C\")\n",
    "        \n",
    "class D(C,B):\n",
    "    def print_method(self):\n",
    "        print(\"This is D\")\n",
    "        \n",
    "def main():\n",
    "    d1=D()\n",
    "    d1.print_method()\n",
    "    print(D.mro())\n",
    "    \n",
    "if __name__==\"__main__\":\n",
    "    main()"
   ]
  },
  {
   "cell_type": "code",
   "execution_count": 2,
   "id": "3d9790b5",
   "metadata": {},
   "outputs": [
    {
     "ename": "TypeError",
     "evalue": "Cannot create a consistent method resolution\norder (MRO) for bases A, B",
     "output_type": "error",
     "traceback": [
      "\u001b[1;31m---------------------------------------------------------------------------\u001b[0m",
      "\u001b[1;31mTypeError\u001b[0m                                 Traceback (most recent call last)",
      "Cell \u001b[1;32mIn[2], line 10\u001b[0m\n\u001b[0;32m      7\u001b[0m     \u001b[38;5;28;01mdef\u001b[39;00m \u001b[38;5;21mprint_method\u001b[39m(\u001b[38;5;28mself\u001b[39m):\n\u001b[0;32m      8\u001b[0m         \u001b[38;5;28mprint\u001b[39m(\u001b[38;5;124m\"\u001b[39m\u001b[38;5;124mThis is B\u001b[39m\u001b[38;5;124m\"\u001b[39m)\n\u001b[1;32m---> 10\u001b[0m \u001b[38;5;28;43;01mclass\u001b[39;49;00m\u001b[43m \u001b[49m\u001b[38;5;21;43;01mC\u001b[39;49;00m\u001b[43m(\u001b[49m\u001b[43mA\u001b[49m\u001b[43m,\u001b[49m\u001b[43mB\u001b[49m\u001b[43m)\u001b[49m\u001b[43m:\u001b[49m\n\u001b[0;32m     11\u001b[0m \u001b[43m    \u001b[49m\u001b[38;5;28;43;01mdef\u001b[39;49;00m\u001b[43m \u001b[49m\u001b[38;5;21;43mprint_method\u001b[39;49m\u001b[43m(\u001b[49m\u001b[38;5;28;43mself\u001b[39;49m\u001b[43m)\u001b[49m\u001b[43m:\u001b[49m\n\u001b[0;32m     12\u001b[0m \u001b[43m        \u001b[49m\u001b[38;5;28;43mprint\u001b[39;49m\u001b[43m(\u001b[49m\u001b[38;5;124;43m\"\u001b[39;49m\u001b[38;5;124;43mThis is C\u001b[39;49m\u001b[38;5;124;43m\"\u001b[39;49m\u001b[43m)\u001b[49m\n",
      "\u001b[1;31mTypeError\u001b[0m: Cannot create a consistent method resolution\norder (MRO) for bases A, B"
     ]
    }
   ],
   "source": [
    "#Inheritance MRO error\n",
    "class A:\n",
    "    def print_method(self):\n",
    "        print(\"This is A\")\n",
    "        \n",
    "class B(A):\n",
    "    def print_method(self):\n",
    "        print(\"This is B\")\n",
    "                \n",
    "class C(A,B):\n",
    "    def print_method(self):\n",
    "        print(\"This is C\")\n",
    "        \n",
    "def main():\n",
    "    c1=C()\n",
    "    c1.print_method()\n",
    "    print(C.mro())\n",
    "    \n",
    "if __name__==\"__main__\":\n",
    "    main()"
   ]
  },
  {
   "cell_type": "markdown",
   "id": "50a3ccc4",
   "metadata": {},
   "source": [
    "# Practise"
   ]
  },
  {
   "cell_type": "code",
   "execution_count": 46,
   "id": "1e3f856f",
   "metadata": {},
   "outputs": [
    {
     "name": "stdout",
     "output_type": "stream",
     "text": [
      "\n",
      " Pune University \t Pune\n",
      "\n",
      " Pune University \t Mumbai\n",
      "ABC College \t 123 \t Mumbai\n",
      "\n",
      " Pune University \t Pune\n",
      "ABC College \t 1234 \t Pune\n",
      "\n",
      " Mumbai University \t Pune\n"
     ]
    }
   ],
   "source": [
    "#1.Implement Multilevel Inheritance with any classes of your choice & show how does inheritance in classmethods work with an eg.\n",
    "class University:\n",
    "    university_name=\"Pune University\"\n",
    "    def __init__(self,region):\n",
    "        self.region=region\n",
    "        \n",
    "    @classmethod\n",
    "    def change_university_name(cls,university_name):\n",
    "        cls.university_name=university_name\n",
    "        \n",
    "    def print_university_details(self):\n",
    "        print(\"\\n\",self.university_name,\"\\t\",self.region)\n",
    "        \n",
    "class College(University):\n",
    "    college_name='ABC College'\n",
    "    def __init__(self,region,college_id):\n",
    "        University.__init__(self,region)\n",
    "        self.college_id=college_id\n",
    "        \n",
    "    def print_college_details(self):\n",
    "        print(self.college_name,\"\\t\",self.college_id,\"\\t\",self.region)\n",
    "        \n",
    "class Student(College):\n",
    "    def __init__(self,region,college_id,name):\n",
    "        super().__init__(region,college_id)\n",
    "        self.name=name\n",
    "        \n",
    "def main():\n",
    "    u1=University('Pune')\n",
    "    c1=College(\"Mumbai\",123)\n",
    "    s1=Student(\"Pune\",1234,\"Tushar\")\n",
    "    u1.print_university_details()\n",
    "    c1.print_university_details()\n",
    "    c1.print_college_details()\n",
    "    s1.print_university_details()\n",
    "    s1.print_college_details()\n",
    "    s1.change_university_name(\"Mumbai University\")\n",
    "    s1.print_university_details()\n",
    "    \n",
    "if __name__=='__main__':\n",
    "    main()"
   ]
  },
  {
   "cell_type": "code",
   "execution_count": 68,
   "id": "9ee500e8",
   "metadata": {},
   "outputs": [
    {
     "name": "stdout",
     "output_type": "stream",
     "text": [
      "\n",
      " Pune University \t Pune\n",
      "\n",
      " Pune University \t Mumbai\n",
      "ABC College \t 123 \t Mumbai\n",
      "Tushar \t Pune\n"
     ]
    }
   ],
   "source": [
    "#2.Implement Hierarchical Inheritance with 3 classes and show how do protected & private variables and methods behave with an eg.\n",
    "class University:\n",
    "    university_name=\"Pune University\"\n",
    "    def __init__(self,region):\n",
    "        self._region=region\n",
    "        \n",
    "    @classmethod\n",
    "    def change_university_name(cls,university_name):\n",
    "        cls.university_name=university_name\n",
    "        \n",
    "    def __print_university_details(self):\n",
    "        print(\"\\n\",self.university_name,\"\\t\",self._region)\n",
    "        \n",
    "class College(University):\n",
    "    college_name='ABC College'\n",
    "    def __init__(self,region,college_id):\n",
    "        University.__init__(self,region)\n",
    "        self.__college_id=college_id\n",
    "        \n",
    "    def print_college_details(self):\n",
    "        print(self.college_name,\"\\t\",self.__college_id,\"\\t\",self._region)\n",
    "        \n",
    "class Student(University):\n",
    "    def __init__(self,region,name):\n",
    "        super().__init__(region)\n",
    "        self.name=name\n",
    "        \n",
    "    def print_student_details(self):\n",
    "        print(self.name,\"\\t\",self._region)\n",
    "        \n",
    "def main():\n",
    "    u1=University('Pune')\n",
    "    c1=College(\"Mumbai\",123)\n",
    "    s1=Student(\"Pune\",\"Tushar\")\n",
    "    u1._University__print_university_details()\n",
    "    c1._University__print_university_details()\n",
    "    c1.print_college_details()\n",
    "    s1.print_student_details()\n",
    "    #s1._University__print_university_details()\n",
    "    s1.change_university_name(\"Mumbai University\")\n",
    "    #s1._University__print_university_details()\n",
    "    \n",
    "if __name__=='__main__':\n",
    "    main()"
   ]
  },
  {
   "cell_type": "code",
   "execution_count": 74,
   "id": "f8ccca0a",
   "metadata": {},
   "outputs": [
    {
     "name": "stdout",
     "output_type": "stream",
     "text": [
      "Animal Attributes:  4 \t Meow \t Red \t Cat\n",
      "Color:  Red\n",
      "Animal type:  Cat\n",
      "None\n",
      "\n",
      "Animal Attributes:  4 \t bark \t White \t Dog\n",
      "Color:  White\n",
      "Animal type:  Dog\n",
      "None\n"
     ]
    }
   ],
   "source": [
    "#3.Create classes Animal and Dog with the following methods print_attributes, make_sound, display_colour, display_animal_type \n",
    "#and write a method which takes in any object(Animal or Dog) and call all of the above methods\n",
    "class Animal:\n",
    "    def __init__(self,no_of_legs,sound,color,animal_type):\n",
    "        self.no_of_legs=no_of_legs\n",
    "        self.sound=sound\n",
    "        self.color=color\n",
    "        self.animal_type=animal_type\n",
    "        \n",
    "    def print_attributes(self):\n",
    "        print(\"Animal Attributes: \",self.no_of_legs,\"\\t\",self.sound,\"\\t\",self.color,\"\\t\",self.animal_type)\n",
    "        \n",
    "    def make_sound(self):\n",
    "        return True\n",
    "    \n",
    "    def display_color(self):\n",
    "        print(\"Color: \",self.color)\n",
    "        \n",
    "    def display_animal_type(self):\n",
    "        print(\"Animal type: \",self.animal_type)\n",
    "        \n",
    "class Dog(Animal):\n",
    "    def __init__(self,no_of_legs,sound,color,animal_type,nickname):\n",
    "        super().__init__(no_of_legs,sound,color,animal_type)\n",
    "        self.nickname=nickname\n",
    "        \n",
    "    def print_attributes(self):\n",
    "        print(\"\\nAnimal Attributes: \",self.no_of_legs,\"\\t\",self.sound,\"\\t\",self.color,\"\\t\",self.animal_type)\n",
    "        \n",
    "    def make_sound(self):\n",
    "        return True\n",
    "    \n",
    "    def display_color(self):\n",
    "        print(\"Color: \",self.color)\n",
    "        \n",
    "    def display_animal_type(self):\n",
    "        print(\"Animal type: \",self.animal_type)\n",
    "        \n",
    "def show(obj):\n",
    "    obj.print_attributes()\n",
    "    obj.make_sound()\n",
    "    obj.display_color()\n",
    "    obj.display_animal_type()\n",
    "    \n",
    "def main():\n",
    "    a1=Animal(4,'Meow','Red','Cat')\n",
    "    print(show(a1))\n",
    "    d1=Dog(4,\"bark\",\"White\",\"Dog\",\"Tommy\")\n",
    "    print(show(d1))\n",
    "    \n",
    "if __name__==\"__main__\":\n",
    "    main()"
   ]
  },
  {
   "cell_type": "code",
   "execution_count": 79,
   "id": "fa5147b2",
   "metadata": {},
   "outputs": [
    {
     "name": "stdout",
     "output_type": "stream",
     "text": [
      "[1]\n",
      "[1, 2]\n",
      "[1, 2, 4]\n",
      "[1, 2, 4, 10]\n",
      "[1, 2, 4]\n",
      "[1, 2]\n"
     ]
    }
   ],
   "source": [
    "#Create a class Stack and implement the push() and pop() and size() methods. #Example stack:\n",
    "#stack = [] #push(1)-->[1] #push(2)-->[1,2] #push(4)-->[1,2,4] #push(10)-->[1,2,4,10] #pop()-->[1,2,4] #pop()-->[1,2]\n",
    "class Stack:\n",
    "    def __init__(self):\n",
    "        self.__stack_list=[]\n",
    "        \n",
    "    def push(self,num):\n",
    "        self.__stack_list.append(num)\n",
    "        \n",
    "    def pop(self):\n",
    "        return self.__stack_list.pop()\n",
    "    \n",
    "    def display_elements(self):\n",
    "        print(self.__stack_list)\n",
    "        \n",
    "stack=Stack()\n",
    "stack.push(1)\n",
    "stack.display_elements()\n",
    "stack.push(2)\n",
    "stack.display_elements()\n",
    "stack.push(4)\n",
    "stack.display_elements()\n",
    "stack.push(10)\n",
    "stack.display_elements()\n",
    "stack.pop()\n",
    "stack.display_elements()\n",
    "stack.pop()\n",
    "stack.display_elements()"
   ]
  }
 ],
 "metadata": {
  "kernelspec": {
   "display_name": "Python 3 (ipykernel)",
   "language": "python",
   "name": "python3"
  },
  "language_info": {
   "codemirror_mode": {
    "name": "ipython",
    "version": 3
   },
   "file_extension": ".py",
   "mimetype": "text/x-python",
   "name": "python",
   "nbconvert_exporter": "python",
   "pygments_lexer": "ipython3",
   "version": "3.11.0"
  }
 },
 "nbformat": 4,
 "nbformat_minor": 5
}
