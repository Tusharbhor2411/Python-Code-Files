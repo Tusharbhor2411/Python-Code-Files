{
 "cells": [
  {
   "cell_type": "code",
   "execution_count": 9,
   "id": "ec244634",
   "metadata": {},
   "outputs": [
    {
     "name": "stdout",
     "output_type": "stream",
     "text": [
      "The shape is circle\n",
      "Area of circle is:-  28.259999999999998\n",
      "The shape is rectangle\n",
      "The area of rectangle is:  12\n"
     ]
    }
   ],
   "source": [
    "#Abstract class ABC\n",
    "from abc import ABC, abstractmethod\n",
    "class Shape(ABC):\n",
    "    @abstractmethod\n",
    "    def has_shape(self):\n",
    "        pass\n",
    "    \n",
    "    @abstractmethod\n",
    "    def calculate_area(self):\n",
    "        pass\n",
    "    \n",
    "class Circle(Shape):\n",
    "    def __init__(self,radius):\n",
    "        self.radius=radius\n",
    "        \n",
    "    def has_shape(self):\n",
    "        print(\"The shape is circle\")\n",
    "        \n",
    "    def calculate_area(self):\n",
    "        print(\"Area of circle is:- \",3.14*self.radius*self.radius)\n",
    "        \n",
    "class Rectangle(Shape):\n",
    "    def __init__(self,length,breadth):\n",
    "        self.length=length\n",
    "        self.breadth=breadth\n",
    "        \n",
    "    def has_shape(self):\n",
    "        print(\"The shape is rectangle\")\n",
    "        \n",
    "    def calculate_area(self):\n",
    "        print(\"The area of rectangle is: \",self.length*self.breadth)\n",
    "def main():\n",
    "    c1=Circle(3)\n",
    "    c1.has_shape()\n",
    "    c1.calculate_area()\n",
    "    r1=Rectangle(3,4)\n",
    "    r1.has_shape()\n",
    "    r1.calculate_area()\n",
    "    \n",
    "if __name__==\"__main__\":\n",
    "    main()"
   ]
  },
  {
   "cell_type": "code",
   "execution_count": 14,
   "id": "142fa882",
   "metadata": {},
   "outputs": [
    {
     "name": "stdout",
     "output_type": "stream",
     "text": [
      "False\n",
      "True\n",
      "True\n",
      "True\n",
      "False\n",
      "True\n",
      "False\n",
      "True\n",
      "False\n",
      "True\n",
      "True\n",
      "True\n",
      "False\n",
      "<class 'int'>\n"
     ]
    }
   ],
   "source": [
    "#isinstance keyword\n",
    "#int,float,complex,list,inside class\n",
    "class Animal:\n",
    "    def __init__(self,animal_type,sound):\n",
    "        self.animal_type=animal_type\n",
    "        self.sound=sound\n",
    "        \n",
    "class Dog(Animal):\n",
    "    def __init__(self,animal_type,sound,breed):\n",
    "        super().__init__(animal_type,sound)\n",
    "        self.breed=breed\n",
    "        \n",
    "def main():\n",
    "    d1=Dog(\"Dog\",\"Bark\",\"Husky\")\n",
    "    a1=Animal(\"Cat\",\"Meow\")\n",
    "    print(isinstance(a1,Dog))\n",
    "    print(isinstance(a1,Animal))\n",
    "    print(isinstance(d1,Dog))\n",
    "    print(isinstance(d1,Animal))\n",
    "    print(isinstance(a1,list))\n",
    "    \n",
    "    num=10\n",
    "    float_num=2.3\n",
    "    my_list=['a','b','c',1,1.5]\n",
    "    my_string=\"Random String\"\n",
    "    complex_num=complex(3,4)\n",
    "    print(isinstance(num,int))\n",
    "    print(isinstance(num,float))\n",
    "    print(isinstance(float_num,float))\n",
    "    print(isinstance(float_num,list))\n",
    "    print(isinstance(my_list,list))\n",
    "    print(isinstance(my_string,str))\n",
    "    print(isinstance(complex_num,complex))\n",
    "    print(isinstance(complex_num,int))\n",
    "    print(type(num))\n",
    "    \n",
    "if __name__==\"__main__\":\n",
    "    main()"
   ]
  },
  {
   "cell_type": "code",
   "execution_count": 21,
   "id": "ef03369e",
   "metadata": {},
   "outputs": [
    {
     "name": "stdout",
     "output_type": "stream",
     "text": [
      "True\n",
      "True\n",
      "False\n",
      "False\n",
      "False\n"
     ]
    }
   ],
   "source": [
    "#issubclass method\n",
    "class Animal:\n",
    "    def __init__(self,animal_type,sound):\n",
    "        self.animal_type=animal_type\n",
    "        self.sound=sound\n",
    "        \n",
    "class Dog(Animal):\n",
    "    def __init__(self,animal_type,sound,breed):\n",
    "        super().__init__(animal_type,sound)\n",
    "        self.breed=breed\n",
    "        \n",
    "class StreetDog(Dog):\n",
    "    def __init__(self,animal_type,sound,breed):\n",
    "        super().__init__(animal_type,sound,breed)\n",
    "        \n",
    "class Person:\n",
    "    def __init__(self,name,age):\n",
    "        self.name=name\n",
    "        self.age=age\n",
    "        \n",
    "def main():\n",
    "    d1=Dog(\"Dog\",\"Bark\",\"Husky\")\n",
    "    a1=Animal(\"Cat\",\"Meow\")\n",
    "    p1=Person(\"Ram\",24)\n",
    "    print(issubclass(Dog,Animal))\n",
    "    print(issubclass(StreetDog,Animal))\n",
    "    print(issubclass(Animal,Dog))\n",
    "    print(issubclass(Dog,Person))\n",
    "    print(issubclass(Animal,Person))\n",
    "    #print(issubclass(d1,a1))\n",
    "    \n",
    "if __name__==\"__main__\":\n",
    "    main()"
   ]
  },
  {
   "cell_type": "code",
   "execution_count": 30,
   "id": "e4ef07e7",
   "metadata": {},
   "outputs": [
    {
     "name": "stdout",
     "output_type": "stream",
     "text": [
      "2284499292560\n",
      "2284529027216\n",
      "2284529027216\n",
      "['__class__', '__delattr__', '__dict__', '__dir__', '__doc__', '__eq__', '__format__', '__ge__', '__getattribute__', '__getstate__', '__gt__', '__hash__', '__init__', '__init_subclass__', '__le__', '__lt__', '__module__', '__ne__', '__new__', '__reduce__', '__reduce_ex__', '__repr__', '__setattr__', '__sizeof__', '__str__', '__subclasshook__', '__weakref__', 'animal_type', 'print_animal_attributes', 'sound']\n",
      "30\n",
      "None\n",
      "Animal\n",
      "True\n",
      "Bark\n",
      "Bark\n",
      "Animal attributes:  Dog Bark\n"
     ]
    }
   ],
   "source": [
    "#introspection\n",
    "class Animal:\n",
    "    def __init__(self,animal_type,sound):\n",
    "        self.animal_type=animal_type\n",
    "        self.sound=sound\n",
    "        \n",
    "    def print_animal_attributes(self):\n",
    "        print(\"Animal attributes: \",self.animal_type,self.sound)\n",
    "        \n",
    "    def __repr__(self):\n",
    "        return \"Animal attributes: \",self.animal_type,self.sound\n",
    "    \n",
    "def main():\n",
    "    a1=Animal(\"Dog\",\"Bark\")\n",
    "    a2=Animal(\"Cat\",\"Meow\")\n",
    "    a3=a2\n",
    "    print(id(a1))\n",
    "    print(id(a2))\n",
    "    print(id(a3))\n",
    "    print(dir(a1))\n",
    "    print(len(dir(a1)))\n",
    "    num=5\n",
    "    #print(dir(num))\n",
    "    my_string=\"Super Class\"\n",
    "    '''\n",
    "    print(len(dir(my_string)))\n",
    "    print(my_string.__contains__(\"MIni\"))\n",
    "    print(my_string.__eq__(\"Max\"))\n",
    "    print(my_string.__len__())\n",
    "    print(type(my_string))\n",
    "    print(type(a1))\n",
    "    '''\n",
    "    print(Animal.__doc__)\n",
    "    print(Animal.__name__)\n",
    "    print(hasattr(a1,\"print_animal_attributes\"))\n",
    "    print(getattr(a1,\"sound\"))\n",
    "    print(a1.sound)\n",
    "    #print(repr(a1))\n",
    "    #print(a1)\n",
    "    a1.print_animal_attributes()\n",
    "\n",
    "if __name__==\"__main__\":\n",
    "    main()"
   ]
  },
  {
   "cell_type": "markdown",
   "id": "89f93136",
   "metadata": {},
   "source": [
    "# Practise"
   ]
  },
  {
   "cell_type": "code",
   "execution_count": 33,
   "id": "1b907f67",
   "metadata": {},
   "outputs": [
    {
     "name": "stdout",
     "output_type": "stream",
     "text": [
      "This is circle which is having a one radius\n",
      "This is Square which having a 4 equal sides\n",
      "This is the Rectangle which having 2 same sides means length and another 2 sides are also same means breadth\n",
      "Welcome to the Shape World\n"
     ]
    }
   ],
   "source": [
    "#1.Implement Hybrid Inheritance using any class of your choice (examples: Shape, Animal etc)\n",
    "class Shape:\n",
    "    def print_method(self):\n",
    "        print(\"Welcome to the Shape World\")\n",
    "        \n",
    "class Rectangle(Shape):\n",
    "    def print_method(self):\n",
    "        print(\"This is the Rectangle which having 2 same sides means length and another 2 sides are also same means breadth\")\n",
    "        \n",
    "class Square(Shape):\n",
    "    def print_method(self):\n",
    "        print(\"This is Square which having a 4 equal sides\")\n",
    "        \n",
    "class Circle(Rectangle,Square):\n",
    "    def print_method(self):\n",
    "        print(\"This is circle which is having a one radius\")\n",
    "        \n",
    "def main():\n",
    "    c1=Circle()\n",
    "    c1.print_method()\n",
    "    s1=Square()\n",
    "    s1.print_method()\n",
    "    r1=Rectangle()\n",
    "    r1.print_method()\n",
    "    sh1=Shape()\n",
    "    sh1.print_method()\n",
    "    \n",
    "if __name__==\"__main__\":\n",
    "    main()"
   ]
  },
  {
   "cell_type": "code",
   "execution_count": 48,
   "id": "ed0d2c81",
   "metadata": {},
   "outputs": [
    {
     "name": "stdout",
     "output_type": "stream",
     "text": [
      "This is circle which is having a one radius\n",
      "[<class '__main__.Circle'>, <class '__main__.Rectangle'>, <class '__main__.Square'>, <class '__main__.Shape'>, <class 'object'>]\n"
     ]
    }
   ],
   "source": [
    "#2.Write classes linked through multiple inheritance and print their MRO \n",
    "class Shape:\n",
    "    def print_method(self):\n",
    "        print(\"Welcome to the Shape World\")\n",
    "        \n",
    "class Rectangle(Shape):\n",
    "    def print_method(self):\n",
    "        print(\"This is the Rectangle which having 2 same sides means length and another 2 sides are also same means breadth\")\n",
    "        \n",
    "class Square(Shape):\n",
    "    def print_method(self):\n",
    "        print(\"This is Square which having a 4 equal sides\")\n",
    "        \n",
    "class Circle(Rectangle,Square):\n",
    "    def print_method(self):\n",
    "        print(\"This is circle which is having a one radius\")\n",
    "        \n",
    "def main():\n",
    "    c1=Circle()\n",
    "    c1.print_method()\n",
    "    print(Circle.mro())\n",
    "    \n",
    "if __name__==\"__main__\":\n",
    "    main()"
   ]
  },
  {
   "cell_type": "code",
   "execution_count": 49,
   "id": "d886cb25",
   "metadata": {},
   "outputs": [
    {
     "ename": "TypeError",
     "evalue": "Cannot create a consistent method resolution\norder (MRO) for bases Rectangle, Square",
     "output_type": "error",
     "traceback": [
      "\u001b[1;31m---------------------------------------------------------------------------\u001b[0m",
      "\u001b[1;31mTypeError\u001b[0m                                 Traceback (most recent call last)",
      "Cell \u001b[1;32mIn[49], line 14\u001b[0m\n\u001b[0;32m     11\u001b[0m     \u001b[38;5;28;01mdef\u001b[39;00m \u001b[38;5;21mprint_method\u001b[39m(\u001b[38;5;28mself\u001b[39m):\n\u001b[0;32m     12\u001b[0m         \u001b[38;5;28mprint\u001b[39m(\u001b[38;5;124m\"\u001b[39m\u001b[38;5;124mThis is Square which having a 4 equal sides\u001b[39m\u001b[38;5;124m\"\u001b[39m)\n\u001b[1;32m---> 14\u001b[0m \u001b[38;5;28;43;01mclass\u001b[39;49;00m\u001b[43m \u001b[49m\u001b[38;5;21;43;01mCircle\u001b[39;49;00m\u001b[43m(\u001b[49m\u001b[43mRectangle\u001b[49m\u001b[43m,\u001b[49m\u001b[43mSquare\u001b[49m\u001b[43m)\u001b[49m\u001b[43m:\u001b[49m\n\u001b[0;32m     15\u001b[0m \u001b[43m    \u001b[49m\u001b[38;5;28;43;01mdef\u001b[39;49;00m\u001b[43m \u001b[49m\u001b[38;5;21;43mprint_method\u001b[39;49m\u001b[43m(\u001b[49m\u001b[38;5;28;43mself\u001b[39;49m\u001b[43m)\u001b[49m\u001b[43m:\u001b[49m\n\u001b[0;32m     16\u001b[0m \u001b[43m        \u001b[49m\u001b[38;5;28;43mprint\u001b[39;49m\u001b[43m(\u001b[49m\u001b[38;5;124;43m\"\u001b[39;49m\u001b[38;5;124;43mThis is circle which is having a one radius\u001b[39;49m\u001b[38;5;124;43m\"\u001b[39;49m\u001b[43m)\u001b[49m\n",
      "\u001b[1;31mTypeError\u001b[0m: Cannot create a consistent method resolution\norder (MRO) for bases Rectangle, Square"
     ]
    }
   ],
   "source": [
    "#3.Write classes linked through multiple inheritance but make sure their MRO throws an error\n",
    "class Shape:\n",
    "    def print_method(self):\n",
    "        print(\"Welcome to the Shape World\")\n",
    "        \n",
    "class Rectangle(Shape):\n",
    "    def print_method(self):\n",
    "        print(\"This is the Rectangle which having 2 same sides means length and another 2 sides are also same means breadth\")\n",
    "        \n",
    "class Square(Rectangle):\n",
    "    def print_method(self):\n",
    "        print(\"This is Square which having a 4 equal sides\")\n",
    "        \n",
    "class Circle(Rectangle,Square):\n",
    "    def print_method(self):\n",
    "        print(\"This is circle which is having a one radius\")\n",
    "        \n",
    "        \n",
    "def main():\n",
    "    c1=Circle()\n",
    "    c1.print_method()\n",
    "    print(Circle.mro())\n",
    "    \n",
    "if __name__==\"__main__\":\n",
    "    main()"
   ]
  },
  {
   "cell_type": "code",
   "execution_count": 50,
   "id": "c50cda59",
   "metadata": {},
   "outputs": [
    {
     "name": "stdout",
     "output_type": "stream",
     "text": [
      "This is circle which is having a one radius\n",
      "[<class '__main__.Circle'>, <class '__main__.Square'>, <class '__main__.Rectangle'>, <class '__main__.Shape'>, <class 'object'>]\n"
     ]
    }
   ],
   "source": [
    "#4.Try to correct the MRO that threw an error in the previous step and print it\n",
    "class Shape:\n",
    "    def print_method(self):\n",
    "        print(\"Welcome to the Shape World\")\n",
    "        \n",
    "class Rectangle(Shape):\n",
    "    def print_method(self):\n",
    "        print(\"This is the Rectangle which having 2 same sides means length and another 2 sides are also same means breadth\")\n",
    "        \n",
    "class Square(Rectangle):\n",
    "    def print_method(self):\n",
    "        print(\"This is Square which having a 4 equal sides\")\n",
    "        \n",
    "class Circle(Square,Rectangle):\n",
    "    def print_method(self):\n",
    "        print(\"This is circle which is having a one radius\")\n",
    "        \n",
    "        \n",
    "def main():\n",
    "    c1=Circle()\n",
    "    c1.print_method()\n",
    "    print(Circle.mro())\n",
    "    \n",
    "if __name__==\"__main__\":\n",
    "    main()"
   ]
  },
  {
   "cell_type": "code",
   "execution_count": 78,
   "id": "a7d2c095",
   "metadata": {},
   "outputs": [
    {
     "name": "stdout",
     "output_type": "stream",
     "text": [
      "[1]\n",
      "[1, 2]\n",
      "[1, 2, 3]\n",
      "[2, 3]\n",
      "[3]\n",
      "[]\n"
     ]
    }
   ],
   "source": [
    "#5.Implement a Queue class in Python which you add elements at the end and remove from the front.\n",
    "class Queue:\n",
    "    def __init__(self):\n",
    "        self.__queue=[]\n",
    "        \n",
    "    def push(self,num):\n",
    "        self.__queue.append(num)\n",
    "        \n",
    "    def remove(self):\n",
    "        return self.__queue.pop(0)\n",
    "    \n",
    "    def display_elements(self):\n",
    "        print(self.__queue)\n",
    "        \n",
    "q1=Queue()\n",
    "q1.push(1)\n",
    "q1.display_elements()\n",
    "q1.push(2)\n",
    "q1.display_elements()\n",
    "q1.push(3)\n",
    "q1.display_elements()\n",
    "q1.remove()\n",
    "q1.display_elements()\n",
    "q1.remove()\n",
    "q1.display_elements()\n",
    "q1.remove()\n",
    "q1.display_elements()"
   ]
  }
 ],
 "metadata": {
  "kernelspec": {
   "display_name": "Python 3 (ipykernel)",
   "language": "python",
   "name": "python3"
  },
  "language_info": {
   "codemirror_mode": {
    "name": "ipython",
    "version": 3
   },
   "file_extension": ".py",
   "mimetype": "text/x-python",
   "name": "python",
   "nbconvert_exporter": "python",
   "pygments_lexer": "ipython3",
   "version": "3.11.0"
  }
 },
 "nbformat": 4,
 "nbformat_minor": 5
}
