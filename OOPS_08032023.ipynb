{
 "cells": [
  {
   "cell_type": "code",
   "execution_count": 2,
   "id": "65ce55a4",
   "metadata": {},
   "outputs": [
    {
     "name": "stdout",
     "output_type": "stream",
     "text": [
      "[1, 2, 3, 4, 5]\n",
      "Inside if:  47\n",
      "The num divisible by 47 is:  47\n",
      "i:  470\n",
      "Inside if:  517\n",
      "num:  517\n",
      "The num divisible by 47 is:  517\n",
      "i:  5170\n",
      "Inside if:  5217\n",
      "num:  5217\n",
      "The num divisible by 47 is:  5217\n",
      "i:  52170\n",
      "Inside if:  52217\n",
      "num:  52217\n"
     ]
    }
   ],
   "source": [
    "#Generators\n",
    "import sys\n",
    "import cProfile\n",
    "\n",
    "def inf_seq():\n",
    "    num=1\n",
    "    while True:\n",
    "        if num%47==0:\n",
    "            print(\"Inside if: \",num)\n",
    "            i=(yield num)\n",
    "            if i is not None:\n",
    "                print(\"i: \",i)\n",
    "                num=i\n",
    "            else:\n",
    "                print(\"i:none\")\n",
    "        num=num+1\n",
    "        #print(num)\n",
    "        \n",
    "def finite_seq():\n",
    "    num=1\n",
    "    while True:\n",
    "        return num\n",
    "        num=num+1\n",
    "        \n",
    "def yield_example():\n",
    "    str1=\"This is first yield\"\n",
    "    yield str1\n",
    "    str2=\"This is second yield\"\n",
    "    yield str2\n",
    "    str3=\"This is third yield\"\n",
    "    yield str3\n",
    "    \n",
    "def main():\n",
    "    my_list=[i for i in range(1,6)]\n",
    "    print(my_list)\n",
    "    \n",
    "    #print(finite_seq())\n",
    "    \"\"\"\n",
    "    for num in inf_seq():\n",
    "        print(num)\n",
    "        \n",
    "    gen_obj=inf_seq()\n",
    "    print(next(gen_obj))\n",
    "    print(next(gen_obj))\n",
    "    print(next(gen_obj))\n",
    "    print(next(gen_obj))\n",
    "    print(next(gen_obj))\n",
    "    \n",
    "    list_comp=[i for i in range(1,10000)]\n",
    "    gen_comp=[i for i in range(1,10000)]\n",
    "    \n",
    "    print(sys.getsizeof(list_comp))\n",
    "    print(sys.getsizeof(gen_comp))\n",
    "    \n",
    "    cProfile.run(\"sum([i for i in range(1,10000)])\")\n",
    "    cProfile.run(\"sum((i for i in range(1,10000))\")\n",
    "    \n",
    "    gen_obj=yield_example()\n",
    "    print(next(gen_obj))\n",
    "    print(next(gen_obj))\n",
    "    print(next(gen_obj))\n",
    "    print(next(gen_obj))\n",
    "    \"\"\"\n",
    "    \n",
    "    inf_obj=inf_seq()\n",
    "    num=inf_obj.send(None)\n",
    "    while True:\n",
    "        print(\"The num divisible by 47 is: \",num)\n",
    "        num=inf_obj.send(num*10)\n",
    "        print(\"num: \",num)\n",
    "        if num>10000:\n",
    "            inf_obj.close()\n",
    "            break\n",
    "            \n",
    "if __name__==\"__main__\":\n",
    "    main()"
   ]
  },
  {
   "cell_type": "code",
   "execution_count": 17,
   "id": "7aecc21b",
   "metadata": {},
   "outputs": [
    {
     "name": "stdout",
     "output_type": "stream",
     "text": [
      "['HELLO', 'TO', 'THE', 'WORLD']\n"
     ]
    }
   ],
   "source": [
    "#Decorators\n",
    "def fuction_one():\n",
    "    return \"This is fuction one\"\n",
    "\n",
    "def fuction_two():\n",
    "    def fuction_three():\n",
    "        return \"This is fuction three\"\n",
    "    return function_three\n",
    "\n",
    "def fuction_four():\n",
    "    string=\"This is function four\"\n",
    "    def fuction_five():\n",
    "        return string +\" \"+\"and fuction five\"\n",
    "    return function_five\n",
    "\n",
    "def convert_to_upper(function):\n",
    "    def inner_logic():\n",
    "        func=function()\n",
    "        updated_func_val=func.upper()\n",
    "        return updated_func_val\n",
    "    return inner_logic\n",
    "\n",
    "def split_the_string(function):\n",
    "    def inner_logic():\n",
    "        func=function()\n",
    "        updated_func_val=func.split()\n",
    "        return updated_func_val\n",
    "    return inner_logic\n",
    "\n",
    "@split_the_string\n",
    "@convert_to_upper\n",
    "def hello_world():\n",
    "    return \"Hello to the world\"\n",
    "\n",
    "def main():\n",
    "    \"\"\"\n",
    "    f1=function_one\n",
    "    print(f1())\n",
    "    f2=function_two\n",
    "    print(f2())\n",
    "    f4=function_four\n",
    "    print(f4())\n",
    "    \"\"\"\n",
    "    print(hello_world())\n",
    "    \n",
    "if __name__==\"__main__\":\n",
    "    main()"
   ]
  },
  {
   "cell_type": "markdown",
   "id": "16a692a1",
   "metadata": {},
   "source": [
    "# Practise"
   ]
  },
  {
   "cell_type": "code",
   "execution_count": 19,
   "id": "01060945",
   "metadata": {},
   "outputs": [
    {
     "name": "stdout",
     "output_type": "stream",
     "text": [
      "[18.922, 37.088, 10.562, 95.453, 4.666, 78.854, 21.068]\n",
      "['olumide', 'josiah', 'omoseun']\n",
      "24840\n"
     ]
    }
   ],
   "source": [
    "from functools import reduce\n",
    "\n",
    "\n",
    "# Use map to print the square of each numbers rounded\n",
    "# to three decimal places\n",
    "my_floats = [4.35, 6.09, 3.25, 9.77, 2.16, 8.88, 4.59]\n",
    "\n",
    "\n",
    "# Use filter to print only the names that are less than\n",
    "# or equal to seven letters\n",
    "my_names = [\"olumide\", \"akinremi\", \"josiah\", \"temidayo\", \"omoseun\"]\n",
    "\n",
    "\n",
    "# Use reduce to print the product of these numbers\n",
    "my_numbers = [4, 6, 9, 23, 5]\n",
    "\n",
    "\n",
    "# Fix all three respectively.\n",
    "map_result = list(map(lambda x: round(x**2,3), my_floats))\n",
    "filter_result = list(filter(lambda name: len(name)<=7, my_names))\n",
    "reduce_result = reduce(lambda num1, num2: num1 * num2, my_numbers)\n",
    "\n",
    "\n",
    "print(map_result)\n",
    "print(filter_result)\n",
    "print(reduce_result)\n"
   ]
  },
  {
   "cell_type": "code",
   "execution_count": 18,
   "id": "674e51e9",
   "metadata": {},
   "outputs": [
    {
     "name": "stdout",
     "output_type": "stream",
     "text": [
      "[3, 6, 9, 12, 15, 18, 21, 24, 27]\n"
     ]
    }
   ],
   "source": [
    "#1.Write a Python program to triple all numbers in a given list of integers, use map.\n",
    "list1=[1,2,3,4,5,6,7,8,9]\n",
    "print(list(map(lambda x: x*3,list1)))"
   ]
  },
  {
   "cell_type": "code",
   "execution_count": 20,
   "id": "ff09ad94",
   "metadata": {},
   "outputs": [
    {
     "name": "stdout",
     "output_type": "stream",
     "text": [
      "[12, 15, 18]\n"
     ]
    }
   ],
   "source": [
    "#2.Write a Python program to add three given lists using Python map and lambda\n",
    "list1=[1,2,3]\n",
    "list2=[4,5,6]\n",
    "list3=[7,8,9]\n",
    "print(list(map(lambda x1,x2,x3:x1+x2+x3,list1,list2,list3)))"
   ]
  },
  {
   "cell_type": "code",
   "execution_count": 33,
   "id": "fbda63c9",
   "metadata": {},
   "outputs": [
    {
     "name": "stdout",
     "output_type": "stream",
     "text": [
      "['1', '2', '3', '4', '5', '6', '7', '8', '9']\n",
      "['1', '2', '3', '4', '5', '6', '7', '8', '9']\n"
     ]
    }
   ],
   "source": [
    "#3.Write a Python program to convert a given list of integers into a list of strings. Use map and lambda\n",
    "list1=[1,2,3,4,5,6,7,8,9]\n",
    "print(list(map(lambda x:str(x),list1)))\n",
    "print(list(map(str,list1)))"
   ]
  },
  {
   "cell_type": "code",
   "execution_count": 38,
   "id": "f404a793",
   "metadata": {},
   "outputs": [
    {
     "data": {
      "text/plain": [
       "[1, 3, 5, 7, 9]"
      ]
     },
     "execution_count": 38,
     "metadata": {},
     "output_type": "execute_result"
    }
   ],
   "source": [
    "#4.Using the filter function, filter the even numbers so that only odd numbers are passed to the new list.\n",
    "list1=[1,2,3,4,5,6,7,8,9]\n",
    "print(list(filter(lambda x: x%2!=0,list1)))"
   ]
  },
  {
   "cell_type": "code",
   "execution_count": 40,
   "id": "41cbdebc",
   "metadata": {},
   "outputs": [
    {
     "name": "stdout",
     "output_type": "stream",
     "text": [
      "[-1, -3, -5, -6, -9]\n"
     ]
    }
   ],
   "source": [
    "#5.Using filter() function filter the list so that only negative numbers are left.\n",
    "list1=[-1,2,-3,4,-5,-6,7,8,-9]\n",
    "print(list(filter(lambda x: x<0,list1)))"
   ]
  },
  {
   "cell_type": "code",
   "execution_count": 44,
   "id": "924c47b9",
   "metadata": {},
   "outputs": [
    {
     "name": "stdout",
     "output_type": "stream",
     "text": [
      "['i', 'e', 'O', 'i', 'i', 'i', 'a', 'e', 'a', 'e', 'i', 'e', 'i', 'i', 'i', 'a']\n"
     ]
    }
   ],
   "source": [
    "#6.Using filter() and list() functions and .lower() method filter all the vowels in a given string \n",
    "#str = \"Winter Olympics in 2022 will take place in Beijing China”\n",
    "string = \"Winter Olympics in 2022 will take place in Beijing China\"\n",
    "print(list(filter(lambda x: x.lower() in 'aeiou',string)))"
   ]
  },
  {
   "cell_type": "code",
   "execution_count": 61,
   "id": "9132b0cc",
   "metadata": {},
   "outputs": [
    {
     "name": "stdout",
     "output_type": "stream",
     "text": [
      "[3000, 2500, 2600, 2700, 7000]\n"
     ]
    }
   ],
   "source": [
    "#7.Using map() and filter() functions add 2000 to the values below 8000 for lst1 = [1000, 500, 600, 700, 5000, 90000, 17500]\n",
    "list1 = [1000, 500, 600, 700, 5000, 90000, 17500]\n",
    "print(list(map(lambda x:x+2000,filter(lambda x: x<8000,list1))))"
   ]
  },
  {
   "cell_type": "code",
   "execution_count": 67,
   "id": "0255a7bb",
   "metadata": {},
   "outputs": [
    {
     "name": "stdout",
     "output_type": "stream",
     "text": [
      "5.4\n"
     ]
    }
   ],
   "source": [
    "#8.Use reduce to find the average of all numbers in a list\n",
    "list1=[1,2,3,4,5,6,7,8,9,9]\n",
    "print(reduce(lambda x,y:x+y,list1)/len(list1))"
   ]
  },
  {
   "cell_type": "code",
   "execution_count": 71,
   "id": "1e989e5e",
   "metadata": {},
   "outputs": [
    {
     "name": "stdout",
     "output_type": "stream",
     "text": [
      "9\n"
     ]
    }
   ],
   "source": [
    "#9.Find the max number in a list using reduce\n",
    "list1=[1,2,3,4,5,6,7,8,9,9]\n",
    "print(reduce(max,list1))"
   ]
  },
  {
   "cell_type": "code",
   "execution_count": 74,
   "id": "fc255734",
   "metadata": {},
   "outputs": [
    {
     "name": "stdout",
     "output_type": "stream",
     "text": [
      "[-4, -3, -2, -1, 0]\n"
     ]
    }
   ],
   "source": [
    "#10.Filter only negative and zero in the list using list comprehension numbers = [-4, -3, -2, -1, 0, 2, 4, 6]\n",
    "numbers = [-4, -3, -2, -1, 0, 2, 4, 6]\n",
    "filter_no=[i for i in numbers if i<=0]\n",
    "print(filter_no)"
   ]
  },
  {
   "cell_type": "code",
   "execution_count": 4,
   "id": "2986e89e",
   "metadata": {},
   "outputs": [
    {
     "name": "stdout",
     "output_type": "stream",
     "text": [
      "[1, 2, 3, 4, 5, 6, 7, 8, 9]\n"
     ]
    }
   ],
   "source": [
    "#11.Flatten the following list of lists of lists to a one dimensional list :\n",
    "#list_of_lists =[[[1, 2, 3]], [[4, 5, 6]], [[7, 8, 9]]] output: [1, 2, 3, 4, 5, 6, 7, 8, 9]\n",
    "list_of_lists =[[[1, 2, 3]], [[4, 5, 6]], [[7, 8, 9]]]\n",
    "x=[k for i in list_of_lists for j in i for k in j]\n",
    "print(x)"
   ]
  }
 ],
 "metadata": {
  "kernelspec": {
   "display_name": "Python 3 (ipykernel)",
   "language": "python",
   "name": "python3"
  },
  "language_info": {
   "codemirror_mode": {
    "name": "ipython",
    "version": 3
   },
   "file_extension": ".py",
   "mimetype": "text/x-python",
   "name": "python",
   "nbconvert_exporter": "python",
   "pygments_lexer": "ipython3",
   "version": "3.11.0"
  }
 },
 "nbformat": 4,
 "nbformat_minor": 5
}
