{
 "cells": [
  {
   "cell_type": "code",
   "execution_count": null,
   "id": "7fef6820",
   "metadata": {},
   "outputs": [],
   "source": [
    "#constructor overloading\n",
    "class Student:\n",
    "    def __init__(self,name,age):\n",
    "        self.name=name\n",
    "        self.age=age\n",
    "        \n",
    "    def __init__(self):\n",
    "        self.name='Name'\n",
    "        \n",
    "def main():\n",
    "    s1=Student()\n",
    "    print('Object Created')\n",
    "    \n",
    "if __name__=='__main__':\n",
    "    main()"
   ]
  },
  {
   "cell_type": "code",
   "execution_count": null,
   "id": "51eef720",
   "metadata": {},
   "outputs": [],
   "source": [
    "#delete object\n",
    "class Student:\n",
    "    def __init__(self,name,age):\n",
    "        self.name=name\n",
    "        self.age=age\n",
    "        \n",
    "    def get_age(self):\n",
    "        return self.age\n",
    "    \n",
    "def main():\n",
    "    s1=Student('Ram',24)\n",
    "    s2=Student('Shyam',25)\n",
    "    print(s1.age)\n",
    "    del s1.age\n",
    "    print(s1.name)\n",
    "    print(s2.name,s2.age)\n",
    "    \n",
    "if __name__=='__main__':\n",
    "    main()"
   ]
  },
  {
   "cell_type": "code",
   "execution_count": null,
   "id": "73fda7ca",
   "metadata": {},
   "outputs": [],
   "source": [
    "#encapsulation\n",
    "class Student:\n",
    "    def __init__(self,name,age=22):\n",
    "        self.name=name\n",
    "        self.age=age\n",
    "        \n",
    "    def print_student_info(self):\n",
    "        print('Name:-',self.name,'\\tAge:-',self.age)\n",
    "        \n",
    "def main():\n",
    "    s1=Student('Ram',24)\n",
    "    s2=Student('Shyam')\n",
    "    s1.print_student_info()\n",
    "    s2.print_student_info()\n",
    "    \n",
    "if __name__=='__main__':\n",
    "    main()"
   ]
  },
  {
   "cell_type": "code",
   "execution_count": null,
   "id": "548b4e70",
   "metadata": {},
   "outputs": [],
   "source": [
    "#protected variable\n",
    "class Animal:\n",
    "    def __init__(self,name,species,nickname):\n",
    "        self.name=name\n",
    "        self._species=species\n",
    "        self.__nickname=nickname\n",
    "        \n",
    "    def get_species(self):\n",
    "        return self._species\n",
    "    \n",
    "class Dog(Animal):\n",
    "    def __init__(self,name,species,nickname):\n",
    "        super(Dog,self).__init__(name,species,nickname)\n",
    "        \n",
    "    def get_dog_species(self):\n",
    "        \n",
    "        return self.__nickname\n",
    "    \n",
    "def main():\n",
    "    a1=Animal('Ceaser','Cat','Cathy')\n",
    "    print(a1.name,a1._species,a1.get_species())\n",
    "    d1=Dog('Tiger','Dog','Jimmy')\n",
    "    print(d1.name,d1._species,d1.get_dog_species())\n",
    "    \n",
    "if __name__=='__main__':\n",
    "    main()"
   ]
  },
  {
   "cell_type": "code",
   "execution_count": null,
   "id": "b8e7318f",
   "metadata": {},
   "outputs": [],
   "source": [
    "#polymorphism\n",
    "class ShoppingBag:\n",
    "    def __init__(self,shoes,clothes,socks):\n",
    "        self.shoes=shoes\n",
    "        self.clothes=clothes\n",
    "        self.socks=socks\n",
    "        \n",
    "    def __len__(self):\n",
    "        return self.shoes*2+self.clothes+self.socks*2\n",
    "        \n",
    "    def __add__(self,other):\n",
    "        return (self.shoes*2+self.clothes+self.socks*2) + (other.shoes*2+other.clothes+other.socks*2)\n",
    "    \n",
    "    def __mul__(self,other):\n",
    "        return (self.shoes*2+self.clothes+self.socks*2) * (other.shoes*2+other.clothes+other.socks*2)\n",
    "    \n",
    "def main():\n",
    "    bag1=ShoppingBag(4,4,4)\n",
    "    bag2=ShoppingBag(5,5,5)\n",
    "    print(len(bag1))\n",
    "    print(len(bag2))\n",
    "    print(bag1+bag2)\n",
    "    print(bag1*bag2)\n",
    "    \n",
    "if __name__=='__main__':\n",
    "    main()"
   ]
  },
  {
   "cell_type": "markdown",
   "id": "243f9c65",
   "metadata": {},
   "source": [
    "# Practise "
   ]
  },
  {
   "cell_type": "code",
   "execution_count": 53,
   "id": "ee03a089",
   "metadata": {},
   "outputs": [
    {
     "name": "stdout",
     "output_type": "stream",
     "text": [
      "Black \t Bike \t 2011 \t 4 \t 4\n",
      "Black \t Bike \t 2011 \t 4 \t 4\n",
      "\tBraking\n",
      "Black \t Bike \t 2011 \t 4 \t 4\n",
      "\tStarting\n",
      "White \t Car \t 2010 \t 4 \t 4\n",
      "\tColor changed\n",
      "White \t Car \t 2010 \t 4 \t 4\n",
      "\tBraking\n",
      "White \t Car \t 2010 \t 4 \t 4\n",
      "\tStarting\n"
     ]
    }
   ],
   "source": [
    "#1. Create a Vehicle class which has the following instance attributes: color(string), type_of_vehicle(string), \n",
    "#year_of_market_release(int) and the following class attributes: wheels(int) , no_of_doors(int) and \n",
    "#the following methods: changeColor, describeVehicle(print all the attributes), \n",
    "#brakeCar(print the attributes along with “braking”) and startCar (print the attributes along with “starting”)\n",
    "class Vehicle:\n",
    "    wheels = 4\n",
    "    no_of_doors = 4\n",
    "    def __init__(self, color, type_of_vehicle, year_of_market_release):\n",
    "        self.color = color\n",
    "        self.type_of_vehicle = type_of_vehicle\n",
    "        self.year_of_market_release = year_of_market_release\n",
    "        \n",
    "        \n",
    "    def get_color(self):\n",
    "        return self.color\n",
    "    \n",
    "    def set_color(self, color):\n",
    "        if color == 'White':\n",
    "            self.color=color\n",
    "            print('\\tColor changed')\n",
    "        else:\n",
    "            print('\\tNot allowed')\n",
    "            \n",
    "    def describeVehicle(self):\n",
    "        print(self.color,'\\t', self.type_of_vehicle,'\\t', self.year_of_market_release, '\\t', self.wheels, '\\t', self.no_of_doors)\n",
    "\n",
    "    def brakeCar(self):\n",
    "        self.describeVehicle()\n",
    "        print('\\tBraking')\n",
    "        \n",
    "    def startCar(self):\n",
    "        self.describeVehicle()\n",
    "        print('\\tStarting')\n",
    "        \n",
    "    \n",
    "def main():\n",
    "    veh1=Vehicle('Black','Bike',2011)\n",
    "    veh1.describeVehicle()\n",
    "    veh1.brakeCar()\n",
    "    veh1.startCar()\n",
    "    veh2=Vehicle('White','Car',2010)\n",
    "    veh2.describeVehicle()\n",
    "    veh2.set_color('White')\n",
    "    veh2.brakeCar()\n",
    "    veh2.startCar()\n",
    "\n",
    "if __name__=='__main__':\n",
    "    main()"
   ]
  },
  {
   "cell_type": "code",
   "execution_count": 52,
   "id": "7d82af18",
   "metadata": {},
   "outputs": [
    {
     "name": "stdout",
     "output_type": "stream",
     "text": [
      "2010\n",
      "2012\n",
      "2011\n",
      "2011\n",
      "2013\n",
      "\t 2010\n",
      "\t\t Merc\n",
      "\t 2012\n",
      "\t\t Audi\n",
      "\t 2011\n",
      "\t\t Merc\n",
      "\t\t Ferrari\n",
      "\t 2013\n",
      "\t\t BMW\n"
     ]
    }
   ],
   "source": [
    "#2.Create a dictionary for Vehicle objects in which the objects having the same value for “year_of_market_release” are grouped \n",
    "#together with the key being the year_of_market_release and the value being the list of objects having the attribute \n",
    "#year_of_market_release equal\n",
    "class Vehicle:\n",
    "    wheels = 4\n",
    "    no_of_doors = 4\n",
    "    def __init__(self, color, type_of_vehicle, year_of_market_release):\n",
    "        self.color = color\n",
    "        self.type_of_vehicle = type_of_vehicle\n",
    "        self.year_of_market_release = year_of_market_release\n",
    "        \n",
    "def main():\n",
    "    v1=Vehicle('Red','Merc',2010)\n",
    "    v2=Vehicle('White','Audi',2012)\n",
    "    v3=Vehicle('Blue','Merc',2011)\n",
    "    v4=Vehicle('Yellow','Ferrari',2011)\n",
    "    v5=Vehicle('Black','BMW',2013)\n",
    "    list1=[v1,v2,v3,v4,v5]\n",
    "    dict1={}\n",
    "    for i in list1:\n",
    "        print(i.year_of_market_release)\n",
    "        if (i.year_of_market_release) in dict1.keys():\n",
    "            dict1[i.year_of_market_release].append(i)\n",
    "        else:\n",
    "            dict1[i.year_of_market_release]=[i]\n",
    "            \n",
    "    for key,value in dict1.items():\n",
    "        print('\\t',key)\n",
    "        for item in value:\n",
    "            print('\\t\\t',item.type_of_vehicle)\n",
    "\n",
    "if __name__=='__main__':\n",
    "    main()"
   ]
  },
  {
   "cell_type": "code",
   "execution_count": 65,
   "id": "1995e375",
   "metadata": {},
   "outputs": [
    {
     "name": "stdout",
     "output_type": "stream",
     "text": [
      "['Paneer']\n",
      "[]\n"
     ]
    }
   ],
   "source": [
    "#3.Create a class Plate that has a method called add_to_plate(), remove_from_plate() and display_items_on_plate(). \n",
    "#The Plate object will initially be empty and have an attribute called items_on_plate which should be a list and \n",
    "#whenever add_to_plate() is called with an item argument which is a string, add that item to the items_on_plate, \n",
    "#similarly if remove_from_plate() is called with an item, if that item is present in items_on_plate remove it, \n",
    "#else print “Item not on plate” and whenever display_items_on_plate() is called, print the list items_on_plate.\n",
    "class Plate:\n",
    "    def __init__(self):\n",
    "        self.items_on_plate=[]\n",
    "        \n",
    "    def add_to_plate(self,item):\n",
    "        self.items_on_plate.append(item)\n",
    "        \n",
    "    def remove_from_plate(self,item):\n",
    "        self.items_on_plate.remove(item)\n",
    "        \n",
    "    def display_items_on_plate(self):\n",
    "        print(self.items_on_plate)\n",
    "        \n",
    "p=Plate()\n",
    "p.add_to_plate(\"Paneer\")\n",
    "p.display_items_on_plate()\n",
    "p.remove_from_plate('Paneer')\n",
    "p.display_items_on_plate()"
   ]
  },
  {
   "cell_type": "code",
   "execution_count": 67,
   "id": "ffcfe783",
   "metadata": {},
   "outputs": [
    {
     "name": "stdout",
     "output_type": "stream",
     "text": [
      "[[1, 1], [2, 1], [9, 1], [2, 3], [4, 3], [7, 5], [5, 6]]\n"
     ]
    }
   ],
   "source": [
    "l1=[[5,6],[2,3],[7,5],[1,1],[4,3],[9,1],[2,1]]\n",
    "l1.sort(key=lambda x: (x[-1],x[0]))\n",
    "print(l1)"
   ]
  }
 ],
 "metadata": {
  "kernelspec": {
   "display_name": "Python 3 (ipykernel)",
   "language": "python",
   "name": "python3"
  },
  "language_info": {
   "codemirror_mode": {
    "name": "ipython",
    "version": 3
   },
   "file_extension": ".py",
   "mimetype": "text/x-python",
   "name": "python",
   "nbconvert_exporter": "python",
   "pygments_lexer": "ipython3",
   "version": "3.11.0"
  }
 },
 "nbformat": 4,
 "nbformat_minor": 5
}
