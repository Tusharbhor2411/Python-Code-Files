{
 "cells": [
  {
   "cell_type": "code",
   "execution_count": 27,
   "id": "1fcca8b9",
   "metadata": {},
   "outputs": [
    {
     "name": "stdout",
     "output_type": "stream",
     "text": [
      "4\n",
      "2\n",
      "2\n"
     ]
    }
   ],
   "source": [
    "#inheritance\n",
    "class Shape:\n",
    "    def __init__(self,sides):\n",
    "        self.sides=sides\n",
    "        \n",
    "    def print_sides(self):\n",
    "        print(self.sides)\n",
    "        \n",
    "class Rectangle(Shape):\n",
    "    def __init__(self,sides,length,breadth):\n",
    "        super().__init__(sides)\n",
    "        self.length=length\n",
    "        self.breadth=breadth\n",
    "        \n",
    "    def print_length(self):\n",
    "        print(self.length)\n",
    "        \n",
    "    def print_breadth(self):\n",
    "        print(self.breadth)\n",
    "        \n",
    "def main():\n",
    "    rect=Rectangle(4,2,2)\n",
    "    #print(rect.sides)\n",
    "    rect.print_sides()\n",
    "    rect.print_length()\n",
    "    rect.print_breadth()\n",
    "    \n",
    "if __name__=='__main__':\n",
    "    main()"
   ]
  },
  {
   "cell_type": "code",
   "execution_count": 12,
   "id": "a828555c",
   "metadata": {},
   "outputs": [
    {
     "name": "stdout",
     "output_type": "stream",
     "text": [
      "Student ID is  1234\n",
      "Person name is  Ram\n",
      "Person age is  17\n"
     ]
    }
   ],
   "source": [
    "#Single inheritance\n",
    "class Person:\n",
    "    def __init__(self,name,age):\n",
    "        self.name=name\n",
    "        self.age=age\n",
    "        \n",
    "    def print_name(self):\n",
    "        print(\"Person name is \", self.name)\n",
    "        \n",
    "class Student(Person):\n",
    "    def __init__(self,name,age,student_id):\n",
    "        super().__init__(name,age)\n",
    "        self.student_id=student_id\n",
    "    \n",
    "    def print_student_id(self):\n",
    "        print(\"Student ID is \",self.student_id)\n",
    "        \n",
    "    def print_age(self):\n",
    "        print(\"Person age is \",self.age)\n",
    "        \n",
    "def main():\n",
    "    student=Student(\"Ram\",17,1234)\n",
    "    student.print_student_id()\n",
    "    student.print_name()\n",
    "    student.print_age()\n",
    "    \n",
    "if __name__==\"__main__\":\n",
    "    main()"
   ]
  },
  {
   "cell_type": "code",
   "execution_count": 19,
   "id": "9f340106",
   "metadata": {},
   "outputs": [
    {
     "name": "stdout",
     "output_type": "stream",
     "text": [
      "Car attributes:  4 1200 SUV Red\n",
      "Vehicle attributes:  4 1600 F1\n",
      "Car attributes:  4 1600 F1 Blue\n",
      "Sports car attributes:  4 1600 F1 Blue 4\n"
     ]
    }
   ],
   "source": [
    "#Multilevel Inheritance\n",
    "class Vehicle:\n",
    "    def __init__(self,num_of_wheels,engine_power,vehicle_type):\n",
    "        self.num_of_wheels=num_of_wheels\n",
    "        self.engine_power=engine_power\n",
    "        self.vehicle_type=vehicle_type\n",
    "        \n",
    "    def print_vehicle_attributes(self):\n",
    "        print(\"Vehicle attributes: \",self.num_of_wheels,self.engine_power,self.vehicle_type)\n",
    "        \n",
    "class Car(Vehicle):\n",
    "    def __init__(self,num_of_wheels,engine_power,vehicle_type,color):\n",
    "        super().__init__(num_of_wheels,engine_power,vehicle_type)\n",
    "        self.color=color\n",
    "        \n",
    "    def print_car_attributes(self):\n",
    "        print(\"Car attributes: \",self.num_of_wheels,self.engine_power,self.vehicle_type,self.color)\n",
    "        \n",
    "class SportsCar(Car):\n",
    "    def __init__(self,num_of_wheels,engine_power,vehicle_type,color,turbo_acc):\n",
    "        super().__init__(num_of_wheels,engine_power,vehicle_type,color)\n",
    "        self.turbo_acc=turbo_acc\n",
    "        \n",
    "    def print_sports_car_attributes(self):\n",
    "        print(\"Sports car attributes: \",self.num_of_wheels,self.engine_power,self.vehicle_type,self.color,self.turbo_acc)\n",
    "        \n",
    "def main():\n",
    "    car=Car(4,1200,\"SUV\",\"Red\")\n",
    "    sports_car=SportsCar(4,1600,\"F1\",\"Blue\",4)\n",
    "    car.print_car_attributes()\n",
    "    sports_car.print_vehicle_attributes()\n",
    "    sports_car.print_car_attributes()\n",
    "    sports_car.print_sports_car_attributes()\n",
    "    \n",
    "if __name__==\"__main__\":\n",
    "    main()"
   ]
  },
  {
   "cell_type": "code",
   "execution_count": 26,
   "id": "934d9ab7",
   "metadata": {},
   "outputs": [
    {
     "name": "stdout",
     "output_type": "stream",
     "text": [
      "Car attributes:  4 1200 SUV Red\n",
      "Vehicle attributes:  4 1200 SUV\n",
      "Truck attributes:  4 2000 Eicher 25000 tonnes\n",
      "Vehicle attributes:  4 2000 Eicher\n"
     ]
    }
   ],
   "source": [
    "#Hierarchical Inheritance\n",
    "class Vehicle:\n",
    "    def __init__(self,num_of_wheels,engine_power,vehicle_type):\n",
    "        self.num_of_wheels=num_of_wheels\n",
    "        self.engine_power=engine_power\n",
    "        self.vehicle_type=vehicle_type\n",
    "        \n",
    "    def print_vehicle_attributes(self):\n",
    "        print(\"Vehicle attributes: \",self.num_of_wheels,self.engine_power,self.vehicle_type)\n",
    "        \n",
    "class Car(Vehicle):\n",
    "    def __init__(self,num_of_wheels,engine_power,vehicle_type,color):\n",
    "        super().__init__(num_of_wheels,engine_power,vehicle_type)\n",
    "        self.color=color\n",
    "        \n",
    "    def print_car_attributes(self):\n",
    "        print(\"Car attributes: \",self.num_of_wheels,self.engine_power,self.vehicle_type,self.color)\n",
    "        \n",
    "class Truck(Vehicle):\n",
    "    def __init__(self,num_of_wheels,engine_power,vehicle_type,load_capacity):\n",
    "        super().__init__(num_of_wheels,engine_power,vehicle_type)\n",
    "        self.load_capacity=load_capacity\n",
    "        \n",
    "    def print_truck_attributes(self):\n",
    "        print(\"Truck attributes: \",self.num_of_wheels,self.engine_power,self.vehicle_type,self.load_capacity)\n",
    "        \n",
    "def main():\n",
    "    car=Car(4,1200,\"SUV\",\"Red\")\n",
    "    truck=Truck(4,2000,\"Eicher\",'25000 tonnes')\n",
    "    car.print_car_attributes()\n",
    "    car.print_vehicle_attributes()\n",
    "    truck.print_truck_attributes()\n",
    "    truck.print_vehicle_attributes()\n",
    "    \n",
    "if __name__==\"__main__\":\n",
    "    main()"
   ]
  },
  {
   "cell_type": "markdown",
   "id": "407ee4cb",
   "metadata": {},
   "source": [
    "# Practise"
   ]
  },
  {
   "cell_type": "code",
   "execution_count": 63,
   "id": "59a0d2b3",
   "metadata": {},
   "outputs": [
    {
     "name": "stdout",
     "output_type": "stream",
     "text": [
      "FAIL\n"
     ]
    }
   ],
   "source": [
    "#1.Create 2 classes Student (properties: age, name, subjects[list], marks[list]) and Exams( properties: subjects[list], \n",
    "#pass_marks:[list] ) and override the __mul__ method in Student and Exams such that if the values in each index of  marks \n",
    "#in Student are greater than values in each index of pass_marks in Exams then return Pass else Fail.\n",
    "class Student:\n",
    "    def __init__(self,age,name,subjects=[],marks=[]):\n",
    "        self.age=age\n",
    "        self.name=name\n",
    "        self.subjects=subjects\n",
    "        self.marks=marks\n",
    "        \n",
    "    def print_student_details(self):\n",
    "        print(\"Student details is: \",self.age,self.name,self.subject,self.marks)\n",
    "        \n",
    "    def __mul__(self,other):\n",
    "        if self.marks[0]>other.pass_marks[0] and self.marks[1]>other.pass_marks[1]:\n",
    "            return \"PASS\"\n",
    "        else:\n",
    "            return\"FAIL\"\n",
    "        \n",
    "class Exams(Student):\n",
    "    def __init__(self,age,name,subjects=[],marks=[],pass_marks=[]):\n",
    "        super().__init__(age,name,subjects,marks)\n",
    "        self.pass_marks=pass_marks\n",
    "    \n",
    "    def print_students_exam_details(self):\n",
    "        print(\"Student exam details is: \",self.subject,self.pass_marks)\n",
    "        \n",
    "def main():\n",
    "    s1=Student(21,'Ram',['English','Maths'],[67,38])\n",
    "    e1=Exams(21,'Ram',['English','Maths'],[67,38],[35,40])\n",
    "    print(s1 * e1)\n",
    "    \n",
    "if __name__==\"__main__\":\n",
    "    main()"
   ]
  },
  {
   "cell_type": "code",
   "execution_count": 65,
   "id": "47587676",
   "metadata": {},
   "outputs": [
    {
     "name": "stdout",
     "output_type": "stream",
     "text": [
      "FAIL\n"
     ]
    }
   ],
   "source": [
    "class Student:\n",
    "    def __init__(self,age,name,subjects=[],marks=[]):\n",
    "        self.age=age\n",
    "        self.name=name\n",
    "        self.subjects=subjects\n",
    "        self.marks=marks\n",
    "        \n",
    "    def print_student_details(self):\n",
    "        print(\"Student details is: \",self.age,self.name,self.subject,self.marks)\n",
    "        \n",
    "    def __mul__(self,other):\n",
    "        for idx,subjects in enumerate(self.marks):\n",
    "            if self.marks[idx]>other.pass_marks[idx]:\n",
    "                continue\n",
    "            else:\n",
    "                return\"FAIL\"\n",
    "        return \"PASS\"\n",
    "        \n",
    "class Exams(Student):\n",
    "    def __init__(self,age,name,subjects=[],marks=[],pass_marks=[]):\n",
    "        super().__init__(age,name,subjects,marks)\n",
    "        self.pass_marks=pass_marks\n",
    "    \n",
    "    def print_students_exam_details(self):\n",
    "        print(\"Student exam details is: \",self.subject,self.pass_marks)\n",
    "        \n",
    "def main():\n",
    "    s1=Student(21,'Ram',['English','Maths'],[67,38])\n",
    "    e1=Exams(21,'Ram',['English','Maths'],[67,38],[35,40])\n",
    "    print(s1 * e1)\n",
    "    \n",
    "if __name__==\"__main__\":\n",
    "    main()"
   ]
  },
  {
   "cell_type": "code",
   "execution_count": 60,
   "id": "60203a6b",
   "metadata": {},
   "outputs": [
    {
     "name": "stdout",
     "output_type": "stream",
     "text": [
      "ID:- 1234 \tName:-  Ram \tCompany name:-  Infosys\n",
      "ID:- 1234 \tName:-  Ram \tCompany name:-  Capgemini\n"
     ]
    }
   ],
   "source": [
    "#2.Create any class of your choice and create any function of your choice outside the class and then dynamically add it to the \n",
    "#class using classmethod keyword\n",
    "class Employee:\n",
    "    company_name='Infosys'\n",
    "    \n",
    "    def __init__(self,e_id,name):\n",
    "        self.e_id=e_id\n",
    "        self.name=name\n",
    "        \n",
    "    def print_employee_details(self):\n",
    "        print(\"ID:-\",self.e_id,\"\\tName:- \",self.name,\"\\tCompany name:- \",self.company_name)\n",
    "        \n",
    "        \n",
    "def another_change_company_name(cls,company_name):\n",
    "    cls.company_name=company_name\n",
    "    \n",
    "def main():\n",
    "    e1=Employee(1234,'Ram')\n",
    "    e1.print_employee_details()\n",
    "    Employee.another_change_company_name=classmethod(another_change_company_name)\n",
    "    Employee.another_change_company_name('Capgemini')\n",
    "    e1.print_employee_details()\n",
    "    \n",
    "if __name__=='__main__':\n",
    "    main()"
   ]
  }
 ],
 "metadata": {
  "kernelspec": {
   "display_name": "Python 3 (ipykernel)",
   "language": "python",
   "name": "python3"
  },
  "language_info": {
   "codemirror_mode": {
    "name": "ipython",
    "version": 3
   },
   "file_extension": ".py",
   "mimetype": "text/x-python",
   "name": "python",
   "nbconvert_exporter": "python",
   "pygments_lexer": "ipython3",
   "version": "3.11.0"
  }
 },
 "nbformat": 4,
 "nbformat_minor": 5
}
