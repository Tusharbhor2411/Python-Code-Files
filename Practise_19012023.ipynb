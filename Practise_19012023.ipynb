{
 "cells": [
  {
   "cell_type": "code",
   "execution_count": 2,
   "id": "ab914ea6",
   "metadata": {},
   "outputs": [
    {
     "name": "stdout",
     "output_type": "stream",
     "text": [
      "Enter the number:- 21\n",
      "3\n"
     ]
    }
   ],
   "source": [
    "num=int(input(\"Enter the number:- \"))\n",
    "sum=0\n",
    "while num>0:\n",
    "    n=num%10\n",
    "    num=num//10\n",
    "    sum=sum+n\n",
    "print(\"Total sum of digits in given no.:- \",sum)"
   ]
  },
  {
   "cell_type": "code",
   "execution_count": null,
   "id": "8758957a",
   "metadata": {},
   "outputs": [],
   "source": [
    "str1=input(\"Enter the string:-\")\n",
    "if str1[0]==(\"+\") or str1[0]==(\"-\"):\n",
    "    x=str1[1:]\n",
    "    if x.isdigit():\n",
    "        print(\"string is number\")\n",
    "    else:\n",
    "        print(\"string is not number\")\n",
    "elif str1.isdigit():\n",
    "    print(\"string is number\")\n",
    "else:\n",
    "    print(\"string is not number\")"
   ]
  },
  {
   "cell_type": "code",
   "execution_count": null,
   "id": "b5a78975",
   "metadata": {},
   "outputs": [],
   "source": [
    "username=input(\"Enter the username:- \")#@vaibhav123 len=11\n",
    "alpha=[]\n",
    "digit=[]\n",
    "space=[]\n",
    "special=[]\n",
    "if len(username)>=8: #11>=8\n",
    "    if username[0]==\"@\": \n",
    "        un=username[1:]\n",
    "        for letter in un:\n",
    "            if letter.isalpha():\n",
    "                alpha.append(letter)\n",
    "            elif letter.isdigit():\n",
    "                digit.append(letter)\n",
    "            elif letter.isspace():\n",
    "                space.append(letter)\n",
    "            else:\n",
    "                special.append(letter)\n",
    "\n",
    "if len(username)>=8 and username[0]==\"@\":\n",
    "    if len(alpha)>=1 and len(digit)>=1 and len(space)==0:\n",
    "        print(\"Username is valid\")\n",
    "    else:\n",
    "        print(\"Username is invalid\")\n",
    "        if len(alpha)<1:\n",
    "            print(\"Please enter the alphabets\")\n",
    "        if len(digit)<1:\n",
    "            print(\"Please enter the digits\")\n",
    "        if len(space)>0:\n",
    "            print(\"Please remove the space\")\n",
    "else:\n",
    "    if len(username)<8:\n",
    "        print(\"Please enter more than 8 characters\")\n",
    "    if username[0]!=\"@\":\n",
    "        print(\"Please enter @ at the beginning\")"
   ]
  },
  {
   "cell_type": "code",
   "execution_count": null,
   "id": "e6fe3488",
   "metadata": {},
   "outputs": [],
   "source": [
    "str1=input(\"Enter you want:-\")\n",
    "if str1==str1[::-1]:\n",
    "    print(\"String is pallindrome\")\n",
    "else:\n",
    "    print(\"String is not pallindrome\")# pallindrome=mirror"
   ]
  },
  {
   "cell_type": "code",
   "execution_count": null,
   "id": "a60713f0",
   "metadata": {},
   "outputs": [],
   "source": [
    "name=input(\"Enter you want:-\")\n",
    "print(name)\n",
    "print(name[::-1])"
   ]
  }
 ],
 "metadata": {
  "kernelspec": {
   "display_name": "Python 3 (ipykernel)",
   "language": "python",
   "name": "python3"
  },
  "language_info": {
   "codemirror_mode": {
    "name": "ipython",
    "version": 3
   },
   "file_extension": ".py",
   "mimetype": "text/x-python",
   "name": "python",
   "nbconvert_exporter": "python",
   "pygments_lexer": "ipython3",
   "version": "3.11.0"
  }
 },
 "nbformat": 4,
 "nbformat_minor": 5
}
