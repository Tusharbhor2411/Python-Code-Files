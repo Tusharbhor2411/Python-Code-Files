{
 "cells": [
  {
   "cell_type": "markdown",
   "id": "71c2945f",
   "metadata": {},
   "source": [
    "# String"
   ]
  },
  {
   "cell_type": "code",
   "execution_count": null,
   "id": "d8b4bccf",
   "metadata": {},
   "outputs": [],
   "source": [
    "str1='nashik pune delhi'\n",
    "#1.Print the 10th element of the string\n",
    "print(str1[10])\n",
    "#2.Print the substring starting from 9th element\n",
    "print(str1[9:])\n",
    "#3.Print the substring ending at 20th element\n",
    "print(str1[:20])\n",
    "#4.Check whether Pune is present in the string\n",
    "if \"Pune\" in str1:\n",
    "    print(\"Yes! it is present in the string\")\n",
    "else:\n",
    "    print(\"No! it is not present\")\n",
    "#5.Check if Delhi is not in string\n",
    "if \"Delhi\" not in str1:\n",
    "    print(\"Yes! it is not present in the string\")\n",
    "else:\n",
    "    print(\"No! it is present\")\n",
    "#6.Given a string, find all the duplicates characters which are similar\n",
    "x=[]\n",
    "for i in str1:\n",
    "    if i not in x and str1.count(i)>1:\n",
    "        x.append(i)\n",
    "print(\" \".join(x))"
   ]
  },
  {
   "cell_type": "markdown",
   "id": "5b6e167f",
   "metadata": {},
   "source": [
    "# Function"
   ]
  },
  {
   "cell_type": "code",
   "execution_count": 16,
   "id": "1b3d2178",
   "metadata": {},
   "outputs": [
    {
     "name": "stdout",
     "output_type": "stream",
     "text": [
      "num1:-2\n",
      "num2:-3\n",
      "5\n"
     ]
    }
   ],
   "source": [
    "#1.Define a function that can receive two integral numbers in string form and compute their sum and then print it in console\n",
    "def add():\n",
    "    num1=input(\"num1:-\")\n",
    "    num2=input(\"num2:-\")\n",
    "    print(int(num1)+int(num2))\n",
    "add()"
   ]
  },
  {
   "cell_type": "code",
   "execution_count": 23,
   "id": "16630c35",
   "metadata": {},
   "outputs": [
    {
     "name": "stdout",
     "output_type": "stream",
     "text": [
      "String1:-tushar\n",
      "String2:- bhor \n",
      "tushar \n",
      "  bhor \n"
     ]
    }
   ],
   "source": [
    "#2.Define a function that can accept two strings as input and print the string with maximum length in console.\n",
    "#If two strings have the same length, then the function should print all strings line by line\n",
    "def string1():\n",
    "    str1=input(\"String1:-\")\n",
    "    str2=input(\"String2:-\")\n",
    "    if len(str1)>len(str2):\n",
    "        print(str1)\n",
    "    elif len(str1)==len(str2):\n",
    "        print(str1,'\\n',str2)\n",
    "    else:\n",
    "        print(str2)\n",
    "string1()"
   ]
  },
  {
   "cell_type": "code",
   "execution_count": 26,
   "id": "f137dd7a",
   "metadata": {},
   "outputs": [
    {
     "name": "stdout",
     "output_type": "stream",
     "text": [
      "Number:-45\n",
      "It is an odd number\n"
     ]
    }
   ],
   "source": [
    "#3.Define a function that can accept an integer number as input and print the \"It is an even number\" if the number is even,\n",
    "#otherwise print \"It is an odd number\".\n",
    "def number():\n",
    "    number=int(input(\"Number:-\"))\n",
    "    if number%2==0:\n",
    "        print(\"It is an even number\")\n",
    "    else:\n",
    "        print(\"It is an odd number\")\n",
    "number()"
   ]
  },
  {
   "cell_type": "code",
   "execution_count": 28,
   "id": "2e4a4977",
   "metadata": {},
   "outputs": [
    {
     "name": "stdout",
     "output_type": "stream",
     "text": [
      "Enter the number:-20\n"
     ]
    },
    {
     "data": {
      "text/plain": [
       "{1: 1,\n",
       " 2: 4,\n",
       " 3: 9,\n",
       " 4: 16,\n",
       " 5: 25,\n",
       " 6: 36,\n",
       " 7: 49,\n",
       " 8: 64,\n",
       " 9: 81,\n",
       " 10: 100,\n",
       " 11: 121,\n",
       " 12: 144,\n",
       " 13: 169,\n",
       " 14: 196,\n",
       " 15: 225,\n",
       " 16: 256,\n",
       " 17: 289,\n",
       " 18: 324,\n",
       " 19: 361,\n",
       " 20: 400}"
      ]
     },
     "execution_count": 28,
     "metadata": {},
     "output_type": "execute_result"
    }
   ],
   "source": [
    "#4.Define a function which can generate a dictionary where the keys are numbers between 1 and 20(both included) amd the values\n",
    "#are square of keys. The function should just print the keys only\n",
    "def dict1(number):\n",
    "    d={}\n",
    "    for i in range(1,number+1):\n",
    "        d[i]=i**2\n",
    "    return d\n",
    "number=int(input(\"Enter the number:-\"))\n",
    "dict1(number)"
   ]
  },
  {
   "cell_type": "code",
   "execution_count": null,
   "id": "a34d1b60",
   "metadata": {},
   "outputs": [],
   "source": [
    "#5.Write a function that has 1 argument which excepts any number of values and print those values in the function.\n",
    "#e.g. func1(val1,val2), func(val1,val2,val3,val4)"
   ]
  }
 ],
 "metadata": {
  "kernelspec": {
   "display_name": "Python 3 (ipykernel)",
   "language": "python",
   "name": "python3"
  },
  "language_info": {
   "codemirror_mode": {
    "name": "ipython",
    "version": 3
   },
   "file_extension": ".py",
   "mimetype": "text/x-python",
   "name": "python",
   "nbconvert_exporter": "python",
   "pygments_lexer": "ipython3",
   "version": "3.11.0"
  }
 },
 "nbformat": 4,
 "nbformat_minor": 5
}
