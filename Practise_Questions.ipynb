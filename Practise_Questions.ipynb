{
 "cells": [
  {
   "cell_type": "code",
   "execution_count": null,
   "id": "037aadab",
   "metadata": {},
   "outputs": [],
   "source": [
    "#1.Write a Python program that accepts a sequence of comma-separated numbers from the user and generates a list and\n",
    "#a tuple of those numbers.Sample data : 3, 5, 7, 23-- Output :List : ['3', ' 5', ' 7', ' 23'],Tuple : ('3', ' 5', ' 7', ' 23')\n",
    "n=input(\"Enter some comma separated values:-\")\n",
    "sample=n.split(\",\")\n",
    "print(\"List of given sequence is:-\",list(sample))\n",
    "print(\"Tuple of given sequence is:-\",tuple(sample))"
   ]
  },
  {
   "cell_type": "code",
   "execution_count": null,
   "id": "8885b9ba",
   "metadata": {},
   "outputs": [],
   "source": [
    "#2.Write a Python program to calculate the difference between a given number and 17. \n",
    "#If the number is greater than 17, return twice the absolute difference.\n",
    "num1=int(input(\"Enter the number:-\"))\n",
    "num2=17\n",
    "diff=num1-num2\n",
    "if num1>num2:\n",
    "    print(\"Absolute difference is:-\",2*diff)\n",
    "else:\n",
    "    print(\"17 is greater than\",num1)"
   ]
  },
  {
   "cell_type": "code",
   "execution_count": null,
   "id": "11acf494",
   "metadata": {},
   "outputs": [],
   "source": [
    "#3.Python program to find the sum of the digits of an integer using a while loop\n",
    "num=int(input(\"Enter the number:-\"))\n",
    "sum=0\n",
    "while num>0:\n",
    "    rem=num%10\n",
    "    sum=sum+rem\n",
    "     num=num%10\n",
    "print(\"Sum of all digit of\",num,\"is:-\",sum)"
   ]
  },
  {
   "cell_type": "code",
   "execution_count": 10,
   "id": "128ad73d",
   "metadata": {},
   "outputs": [
    {
     "name": "stdout",
     "output_type": "stream",
     "text": [
      "Enter the number:-13\n",
      "13 is prime\n"
     ]
    }
   ],
   "source": [
    "#4.Python program to check whether the given integer is a prime number or not\n",
    "num=int(input(\"Enter the number:-\"))\n",
    "if num%i!=0:\n",
    "    print(num,\"is prime\")\n",
    "    i=i+1\n",
    "else:\n",
    "    print(num,\"is not prime\")"
   ]
  },
  {
   "cell_type": "code",
   "execution_count": 14,
   "id": "8666d536",
   "metadata": {},
   "outputs": [
    {
     "name": "stdout",
     "output_type": "stream",
     "text": [
      "Enter the range for generate prime number:-10\n",
      "2\n",
      "3\n",
      "5\n",
      "7\n"
     ]
    }
   ],
   "source": [
    "#5.Python program to generate the prime numbers from 1 to N\n",
    "n=int(input(\"Enter the range for generate prime number:-\"))\n",
    "for num in range(1,n+1):\n",
    "    if num>1:\n",
    "        for i in range(2,num):\n",
    "            if num%i==0:\n",
    "                break\n",
    "        else:\n",
    "            print(num)"
   ]
  },
  {
   "cell_type": "code",
   "execution_count": 38,
   "id": "9cf45086",
   "metadata": {},
   "outputs": [
    {
     "name": "stdout",
     "output_type": "stream",
     "text": [
      "Enter the range:-20\n",
      "20\n",
      "19\n",
      "18\n",
      "17\n",
      "16\n",
      "15\n",
      "14\n",
      "13\n",
      "12\n",
      "11\n",
      "10\n",
      "9\n",
      "8\n",
      "7\n",
      "6\n",
      "5\n",
      "4\n",
      "3\n",
      "2\n",
      "1\n",
      "0\n"
     ]
    }
   ],
   "source": [
    "# 6.Python program to print the numbers from a given number n till 0 using recursion\n",
    "\n",
    "def reverse(num):\n",
    "    print(num)\n",
    "    if num==0:\n",
    "        pass\n",
    "    else:\n",
    "        return reverse(num-1)\n",
    "num=int(input(\"Enter the range:-\"))\n",
    "reverse(num)"
   ]
  },
  {
   "cell_type": "code",
   "execution_count": 46,
   "id": "812e62f9",
   "metadata": {},
   "outputs": [
    {
     "data": {
      "text/plain": [
       "9878"
      ]
     },
     "execution_count": 46,
     "metadata": {},
     "output_type": "execute_result"
    }
   ],
   "source": [
    "#7.Python program to find the largest number in a list without using built-in functions\n",
    "list1=[1,11,23,564,6764,124,865,1234,6541,56,9878]\n",
    "def greater(list1):\n",
    "    large=list1[0]\n",
    "    for i in list1:\n",
    "        if i>large:\n",
    "            large=i\n",
    "    return large\n",
    "greater(list1)"
   ]
  },
  {
   "cell_type": "code",
   "execution_count": 48,
   "id": "b0593084",
   "metadata": {},
   "outputs": [
    {
     "name": "stdout",
     "output_type": "stream",
     "text": [
      "Enter the position:-2\n",
      "Enter the number:-789\n",
      "Original list is:- [1, 11, 23, 564, 6764, 124, 865, 1234, 6541, 56, 9878, 34, 53, 553, 7, 543, 222]\n",
      "List after insert new number:- [1, 11, 789, 23, 564, 6764, 124, 865, 1234, 6541, 56, 9878, 34, 53, 553, 7, 543, 222]\n"
     ]
    }
   ],
   "source": [
    "#8.Python program to insert a number to any position in a list\n",
    "list1=[1,11,23,564,6764,124,865,1234,6541,56,9878,34,53,553,7,543,222]\n",
    "index=int(input(\"Enter the position:-\"))\n",
    "number=int(input(\"Enter the number:-\"))\n",
    "print(\"Original list is:-\",list1)\n",
    "list1.insert(index,number)\n",
    "print(\"List after insert new number:-\",list1)"
   ]
  },
  {
   "cell_type": "code",
   "execution_count": 51,
   "id": "7e9ec611",
   "metadata": {},
   "outputs": [
    {
     "name": "stdout",
     "output_type": "stream",
     "text": [
      "Enter the year:-2024\n",
      "2024 is Leap year\n"
     ]
    }
   ],
   "source": [
    "#9.Python program to check leap year\n",
    "year=int(input(\"Enter the year:-\"))\n",
    "if year%400==0 and year%100==0 or year%4==0:\n",
    "    print(year,\"is Leap year\")\n",
    "else:\n",
    "    print(year,\"is not Leap year\")"
   ]
  },
  {
   "cell_type": "code",
   "execution_count": 52,
   "id": "0941f890",
   "metadata": {},
   "outputs": [
    {
     "name": "stdout",
     "output_type": "stream",
     "text": [
      "Enter the number:-1256\n",
      "Reverse of 1256 is 6521\n"
     ]
    }
   ],
   "source": [
    "#10.Write a Program to extract each digit from an integer in the reverse order\n",
    "num=int(input(\"Enter the number:-\"))\n",
    "temp=num\n",
    "rev=0\n",
    "while temp>0:\n",
    "    rem=temp%10\n",
    "    rev=rev*10+rem\n",
    "    temp=temp//10\n",
    "print(\"Reverse of\",num,\"is\",rev)"
   ]
  },
  {
   "cell_type": "code",
   "execution_count": 61,
   "id": "0cad620d",
   "metadata": {},
   "outputs": [
    {
     "name": "stdout",
     "output_type": "stream",
     "text": [
      "['madam', 'nayan']\n"
     ]
    }
   ],
   "source": [
    "list1=['madam','tushar','nayan','sham','ram','vaibhav','sunny','shubham']\n",
    "def palindrome(str1):\n",
    "    if str1==str1[::-1]:\n",
    "        return True\n",
    "    else:\n",
    "        return False\n",
    "\n",
    "print(list(filter(palindrome,list1)))"
   ]
  },
  {
   "cell_type": "code",
   "execution_count": 66,
   "id": "31ebafe8",
   "metadata": {},
   "outputs": [
    {
     "name": "stdout",
     "output_type": "stream",
     "text": [
      "['Madam', 'Tushar', 'Nayan', 'Sham', 'Ram', 'Vaibhav', 'Sunny', 'Shubham']\n"
     ]
    }
   ],
   "source": [
    "list1=['madam','tushar','nayan','sham','ram','vaibhav','sunny','shubham']\n",
    "def convert(str1):\n",
    "    return str1.title()\n",
    "print(list(map(convert,list1)))"
   ]
  }
 ],
 "metadata": {
  "kernelspec": {
   "display_name": "Python 3 (ipykernel)",
   "language": "python",
   "name": "python3"
  },
  "language_info": {
   "codemirror_mode": {
    "name": "ipython",
    "version": 3
   },
   "file_extension": ".py",
   "mimetype": "text/x-python",
   "name": "python",
   "nbconvert_exporter": "python",
   "pygments_lexer": "ipython3",
   "version": "3.11.0"
  }
 },
 "nbformat": 4,
 "nbformat_minor": 5
}
