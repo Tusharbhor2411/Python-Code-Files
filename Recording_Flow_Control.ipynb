{
 "cells": [
  {
   "cell_type": "code",
   "execution_count": null,
   "id": "4b8d02bc",
   "metadata": {},
   "outputs": [],
   "source": [
    "10+20"
   ]
  },
  {
   "cell_type": "code",
   "execution_count": null,
   "id": "4b569575",
   "metadata": {},
   "outputs": [],
   "source": [
    "a=10\n",
    "type(a)"
   ]
  },
  {
   "cell_type": "code",
   "execution_count": null,
   "id": "85edbc54",
   "metadata": {},
   "outputs": [],
   "source": [
    "#Type conversion int, float, bool, hex(), oct(), bin()\n",
    "height=float(input(\"Enter height:- \"))\n",
    "height"
   ]
  },
  {
   "cell_type": "code",
   "execution_count": null,
   "id": "e9ddb811",
   "metadata": {},
   "outputs": [],
   "source": [
    "bool(0)"
   ]
  },
  {
   "cell_type": "code",
   "execution_count": null,
   "id": "3be1fc92",
   "metadata": {},
   "outputs": [],
   "source": [
    "bool(56)"
   ]
  },
  {
   "cell_type": "code",
   "execution_count": null,
   "id": "7649f47f",
   "metadata": {},
   "outputs": [],
   "source": [
    "bool(\"Tushar\")"
   ]
  },
  {
   "cell_type": "code",
   "execution_count": null,
   "id": "86c2b686",
   "metadata": {},
   "outputs": [],
   "source": [
    "hex(16)"
   ]
  },
  {
   "cell_type": "code",
   "execution_count": null,
   "id": "2374a8dc",
   "metadata": {},
   "outputs": [],
   "source": [
    "bin(2)"
   ]
  },
  {
   "cell_type": "code",
   "execution_count": null,
   "id": "c4611cb1",
   "metadata": {},
   "outputs": [],
   "source": [
    "age=int(input(\"Enter your age:- \"))\n",
    "if age>=18:\n",
    "    print(\"You are eligible to vote...\")\n",
    "    print(\"Good luck\")\n",
    "else:\n",
    "    print(\"You are not eligible to vote...\")\n",
    "print(\"Bye\")"
   ]
  },
  {
   "cell_type": "code",
   "execution_count": null,
   "id": "13eae4e7",
   "metadata": {},
   "outputs": [],
   "source": [
    "percentage=int(input(\"Enter your percentage:- \"))\n",
    "if percentage>=75:\n",
    "    print(\"Distinction\")\n",
    "elif percentage>=60:\n",
    "    print(\"First class\")\n",
    "elif percentage>=50:\n",
    "    print(\"Second class\")\n",
    "else:\n",
    "    print(\"Failed\")\n",
    "print(\"Good luck\")"
   ]
  },
  {
   "cell_type": "code",
   "execution_count": null,
   "id": "4e123e32",
   "metadata": {},
   "outputs": [],
   "source": [
    "#Nested if\n",
    "choice=input(\"Enter Desktop or Laptop:- \")\n",
    "if choice==\"Laptop\":\n",
    "    brand=input(\"Enter brand:- \")\n",
    "    if brand==\"Dell\":\n",
    "        print(\"Dell\")\n",
    "    else:\n",
    "        print(\"Other laptop\")\n",
    "elif choice==\"Desktop\":\n",
    "    print(\"Desktop\")"
   ]
  },
  {
   "cell_type": "code",
   "execution_count": null,
   "id": "52a65ae9",
   "metadata": {},
   "outputs": [],
   "source": [
    "a=int(input(\"Enter 1st no:- \"))\n",
    "b=int(input(\"Enter 2nd no:- \"))\n",
    "maxx= a if a>b else b\n",
    "print(maxx)"
   ]
  },
  {
   "cell_type": "code",
   "execution_count": null,
   "id": "1d91af76",
   "metadata": {},
   "outputs": [],
   "source": [
    "age=int(input(\"Enter your age\"))\n",
    "print(\"Eligible to vote\" if age>=18 else \"Not eligible to vote\")"
   ]
  },
  {
   "cell_type": "code",
   "execution_count": null,
   "id": "69a3f964",
   "metadata": {},
   "outputs": [],
   "source": [
    "for i in range(0,11,2):\n",
    "    print(i)"
   ]
  },
  {
   "cell_type": "code",
   "execution_count": null,
   "id": "b590867b",
   "metadata": {},
   "outputs": [],
   "source": [
    "for i in range(1,11):\n",
    "    print(i,\"-->\",i*i)"
   ]
  },
  {
   "cell_type": "code",
   "execution_count": null,
   "id": "588559e5",
   "metadata": {},
   "outputs": [],
   "source": [
    "for i in range(10,0,-1):\n",
    "    print(i)"
   ]
  },
  {
   "cell_type": "code",
   "execution_count": null,
   "id": "458a5531",
   "metadata": {},
   "outputs": [],
   "source": [
    "i=int(input(\"Enter the start point:- \"))\n",
    "n=int(input(\"Enter the range:- \"))\n",
    "while i<=n:\n",
    "    print(i)\n",
    "    i=i+1"
   ]
  },
  {
   "cell_type": "code",
   "execution_count": null,
   "id": "dee85a16",
   "metadata": {},
   "outputs": [],
   "source": [
    "i=5\n",
    "while i>=1:\n",
    "    print(i)\n",
    "    i=i-1"
   ]
  },
  {
   "cell_type": "code",
   "execution_count": 3,
   "id": "b968452e",
   "metadata": {},
   "outputs": [
    {
     "name": "stdout",
     "output_type": "stream",
     "text": [
      "Enter the no:- 123\n",
      "36\n",
      "Given no is not armstrong number\n"
     ]
    }
   ],
   "source": [
    "#Armstrong number\n",
    "n=int(input(\"Enter the no:- \"))\n",
    "a=n\n",
    "sum=0\n",
    "while n>0:\n",
    "    r=n%10\n",
    "    sum=sum+(r**3)\n",
    "    n=n//10\n",
    "print(sum)\n",
    "if sum==a:\n",
    "    print(\"Given no is armstrong number.\")\n",
    "else:\n",
    "    print(\"Given no is not armstrong number\")"
   ]
  },
  {
   "cell_type": "code",
   "execution_count": null,
   "id": "c62a0ffe",
   "metadata": {},
   "outputs": [],
   "source": [
    "#Jump statements\n",
    "i=1\n",
    "while i<=10:\n",
    "    i=i+1\n",
    "    if i%2==0 and i%3==0:\n",
    "        continue\n",
    "    print(i)\n",
    "    \n",
    "#i=1\n",
    "#while i<=10:\n",
    "#    i=i+1\n",
    "#    if i%2==0 and i%3==0:\n",
    "#        break\n",
    "#    print(i)"
   ]
  },
  {
   "cell_type": "code",
   "execution_count": null,
   "id": "67afc1b4",
   "metadata": {},
   "outputs": [],
   "source": [
    "for i in range(1,11):\n",
    "    if(i%3==0):\n",
    "        break\n",
    "    print(i)\n",
    "    \n",
    "#for i in range(1,11):\n",
    "#    if(i%3==0):\n",
    "#        continue\n",
    "#    print(i)"
   ]
  },
  {
   "cell_type": "code",
   "execution_count": null,
   "id": "e917b0c8",
   "metadata": {},
   "outputs": [],
   "source": [
    "for i in range(1,10):\n",
    "    if(i%2==0):\n",
    "        pass\n",
    "    else:\n",
    "        print(i)"
   ]
  },
  {
   "cell_type": "code",
   "execution_count": null,
   "id": "6d3ce074",
   "metadata": {},
   "outputs": [],
   "source": [
    "for i in range(1,10):\n",
    "    pass"
   ]
  },
  {
   "cell_type": "code",
   "execution_count": 3,
   "id": "8a565700",
   "metadata": {},
   "outputs": [
    {
     "name": "stdout",
     "output_type": "stream",
     "text": [
      "Enter the number:- 2\n",
      "2 is prime number\n"
     ]
    }
   ],
   "source": [
    "n=int(input(\"Enter the number:- \"))\n",
    "i=2\n",
    "flag=1\n",
    "while i<=n//2:\n",
    "    if n%i==0:\n",
    "        flag=0\n",
    "        break\n",
    "    i=i+1\n",
    "if flag==1:\n",
    "    print(n,\"is prime number\")\n",
    "else:\n",
    "    print(n,\"is not prime number\")"
   ]
  },
  {
   "cell_type": "code",
   "execution_count": 6,
   "id": "da8d2d88",
   "metadata": {},
   "outputs": [
    {
     "name": "stdout",
     "output_type": "stream",
     "text": [
      "1\n",
      "2\n",
      "3\n",
      "4\n",
      "5\n",
      "6\n",
      "7\n",
      "8\n"
     ]
    }
   ],
   "source": [
    "for i in range(1,11):\n",
    "    print(i)\n",
    "    if(i==8):\n",
    "        break\n",
    "else:\n",
    "    print(\"Completed successfully\")"
   ]
  },
  {
   "cell_type": "code",
   "execution_count": 12,
   "id": "ceedd643",
   "metadata": {},
   "outputs": [
    {
     "name": "stdout",
     "output_type": "stream",
     "text": [
      "Enter the number:- 31\n",
      "31 is prime number\n"
     ]
    }
   ],
   "source": [
    "n=int(input(\"Enter the number:- \"))\n",
    "i=2\n",
    "while i<=n//2:\n",
    "    if n%i==0:\n",
    "        print(n,\"is not prime number\")\n",
    "        break\n",
    "    i=i+1\n",
    "else:\n",
    "    print(n,\"is prime number\")"
   ]
  }
 ],
 "metadata": {
  "kernelspec": {
   "display_name": "Python 3 (ipykernel)",
   "language": "python",
   "name": "python3"
  },
  "language_info": {
   "codemirror_mode": {
    "name": "ipython",
    "version": 3
   },
   "file_extension": ".py",
   "mimetype": "text/x-python",
   "name": "python",
   "nbconvert_exporter": "python",
   "pygments_lexer": "ipython3",
   "version": "3.11.0"
  }
 },
 "nbformat": 4,
 "nbformat_minor": 5
}
