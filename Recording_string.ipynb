{
 "cells": [
  {
   "cell_type": "code",
   "execution_count": 1,
   "id": "33a53b54",
   "metadata": {},
   "outputs": [
    {
     "name": "stdout",
     "output_type": "stream",
     "text": [
      "I love python\n"
     ]
    }
   ],
   "source": [
    "s=\"I love python\"\n",
    "print(s)"
   ]
  },
  {
   "cell_type": "code",
   "execution_count": 2,
   "id": "14f2e408",
   "metadata": {
    "scrolled": true
   },
   "outputs": [
    {
     "name": "stdout",
     "output_type": "stream",
     "text": [
      "python\n"
     ]
    }
   ],
   "source": [
    "s='python'\n",
    "print(s)"
   ]
  },
  {
   "cell_type": "code",
   "execution_count": 4,
   "id": "4b7a8fc5",
   "metadata": {},
   "outputs": [
    {
     "name": "stdout",
     "output_type": "stream",
     "text": [
      "Hi,\n",
      "I love python.\n",
      "I have basic knowledge of python.\n"
     ]
    }
   ],
   "source": [
    "s='''Hi,\n",
    "I love python.\n",
    "I have basic knowledge of python.'''\n",
    "print(s)"
   ]
  },
  {
   "cell_type": "code",
   "execution_count": 2,
   "id": "82676f3d",
   "metadata": {},
   "outputs": [
    {
     "data": {
      "text/plain": [
       "'Java Python '"
      ]
     },
     "execution_count": 2,
     "metadata": {},
     "output_type": "execute_result"
    }
   ],
   "source": [
    "s1=\"Python \"\n",
    "s2=\"Java \"\n",
    "s2+s1"
   ]
  },
  {
   "cell_type": "code",
   "execution_count": 5,
   "id": "566ef088",
   "metadata": {},
   "outputs": [
    {
     "data": {
      "text/plain": [
       "'Hiii Hiii Hiii '"
      ]
     },
     "execution_count": 5,
     "metadata": {},
     "output_type": "execute_result"
    }
   ],
   "source": [
    "\"Hiii \"*3"
   ]
  },
  {
   "cell_type": "code",
   "execution_count": 9,
   "id": "dde860ba",
   "metadata": {},
   "outputs": [
    {
     "data": {
      "text/plain": [
       "'Hiii Hiii Hiii Hiii Hiii Hiii Hiii Hiii '"
      ]
     },
     "execution_count": 9,
     "metadata": {},
     "output_type": "execute_result"
    }
   ],
   "source": [
    "8*\"Hiii \""
   ]
  },
  {
   "cell_type": "code",
   "execution_count": 8,
   "id": "c8062013",
   "metadata": {},
   "outputs": [
    {
     "name": "stdout",
     "output_type": "stream",
     "text": [
      "t\n",
      "6\n",
      "n\n"
     ]
    }
   ],
   "source": [
    "s=\"Python\"\n",
    "print(s[2])#character\n",
    "print(len(s))#length\n",
    "print(s[-1])#last character\n",
    "#String is immutale."
   ]
  },
  {
   "cell_type": "code",
   "execution_count": 6,
   "id": "c1e6ceb8",
   "metadata": {},
   "outputs": [
    {
     "name": "stdout",
     "output_type": "stream",
     "text": [
      "Enter the name:- tushar\n",
      "0 --> t\n",
      "1 --> u\n",
      "2 --> s\n",
      "3 --> h\n",
      "4 --> a\n",
      "5 --> r\n"
     ]
    }
   ],
   "source": [
    "name=input(\"Enter the name:- \")\n",
    "for i in range(len(name)):\n",
    "    print(i,\"-->\",name[i])"
   ]
  },
  {
   "cell_type": "code",
   "execution_count": 26,
   "id": "93012b86",
   "metadata": {},
   "outputs": [
    {
     "data": {
      "text/plain": [
       "'noht'"
      ]
     },
     "execution_count": 26,
     "metadata": {},
     "output_type": "execute_result"
    }
   ],
   "source": [
    "#slicing\n",
    "s=\"Python\"\n",
    "#s[start(0):stop/end(required):step(1)]\n",
    "#s[2:len(s)]\n",
    "#s[-1:-7:-2]\n",
    "#s[1:len(s):2]\n",
    "#s[::3]\n",
    "#s[-6::2]\n",
    "#s[len(s):-7:-1]\n",
    "#s[::-1]\n",
    "#s[-1:-6:-3]\n",
    "s[7:1:-1]"
   ]
  },
  {
   "cell_type": "code",
   "execution_count": 51,
   "id": "c45d58e4",
   "metadata": {},
   "outputs": [
    {
     "name": "stdout",
     "output_type": "stream",
     "text": [
      "Enter the string:- tushar\n",
      "tushar is not pallindrome\n"
     ]
    }
   ],
   "source": [
    "name=input(\"Enter the string:- \")\n",
    "if name==name[::-1]:\n",
    "    print(name,\"is pallindrome\")\n",
    "else:\n",
    "    print(name,\"is not pallindrome\")"
   ]
  },
  {
   "cell_type": "code",
   "execution_count": 27,
   "id": "0ce65a40",
   "metadata": {},
   "outputs": [
    {
     "name": "stdout",
     "output_type": "stream",
     "text": [
      "Enter the string:- tushar\n",
      "No. of vowels:- 2\n"
     ]
    }
   ],
   "source": [
    "name=input(\"Enter the string:- \")\n",
    "count=0\n",
    "for i in name:\n",
    "    if i in \"aeiou\":\n",
    "        count+=1\n",
    "print(\"No. of vowels:-\",count)"
   ]
  },
  {
   "cell_type": "code",
   "execution_count": 29,
   "id": "4f89215c",
   "metadata": {},
   "outputs": [
    {
     "name": "stdout",
     "output_type": "stream",
     "text": [
      "t\n",
      "u\n",
      "s\n",
      "h\n",
      "a\n",
      "r\n"
     ]
    }
   ],
   "source": [
    "for i in 'tushar':\n",
    "    print(i)"
   ]
  },
  {
   "cell_type": "code",
   "execution_count": 59,
   "id": "1df881cb",
   "metadata": {},
   "outputs": [
    {
     "data": {
      "text/plain": [
       "True"
      ]
     },
     "execution_count": 59,
     "metadata": {},
     "output_type": "execute_result"
    }
   ],
   "source": [
    "#\"a\" in \"tushar\"\n",
    "#'b' in 'tushar'\n",
    "#\"a\" not in \"tushar\"\n",
    "'b' not in 'tushar'"
   ]
  },
  {
   "cell_type": "code",
   "execution_count": 4,
   "id": "d59e6c87",
   "metadata": {},
   "outputs": [
    {
     "data": {
      "text/plain": [
       "'My name is tushar bhor'"
      ]
     },
     "execution_count": 4,
     "metadata": {},
     "output_type": "execute_result"
    }
   ],
   "source": [
    "s='My name is Tushar Bhor'\n",
    "#s.capitalize()#--> convert first letter into capital\n",
    "\n",
    "#s.title()#--> convert first letter of every word into capital\n",
    "#s1=s.upper()#--> convert all letter into uppercase\n",
    "#s1\n",
    "#s2=s1.lower()#--> convert all letter into lowercase\n",
    "#s2\n",
    "#s.swapcase()#--> convert letter into alternative case\n",
    "#s.count(\"a\")#--> return how many occurrence are found\n",
    "#s.find(\"er\")#--> if find occurence then return their position else return -1 \n",
    "#s.find(\"ar\")\n",
    "#s.isupper()#--> use to check string having uppercase or not\n",
    "#s.islower()#--> use to check string having lowercase or not\n",
    "#s.isalnum()#--> use to check string having alphanumeric or not\n",
    "#s.isalpha()#--> use to check string having alphabets or not\n",
    "#s.isdigit()#--> use to check string having digits/numeric or not\n",
    "#s.strip()#--> use to remove spaces from both sides\n",
    "#s.lstrip()#--> use to remove spaces from left side\n",
    "#s.rstrip()#--> use to remove spaces from right side\n",
    "#s.replace(\"My name is\",\"Hello, I am\")#--> use change the words\n",
    "#s3=s.split()#--> convert the string into list of substring\n",
    "#\" \".join(s3)#--> to join the substrings and make a string\n",
    "#\"Hi,\"+\" I\"+\" am\"+\" Tushar\" #--> only string data are concatenate by +\n",
    "#l1=sorted(s)#--> sorting each elements in alphabetical format and return in list\n",
    "#\"\".join(l1)\n",
    "#s[::-1]\n",
    "#list(reversed(s))#--> to return string in reverse format and return in list\n",
    "#sorted(s,reverse=True)#--> sorting each elements in alternative of alphabetical format and return in list\n",
    "#s.ljust(100,\"*\")#--> use to padding after string(right side of the string) upto certain length instead of string\n",
    "#s.rjust(100,\"*\")#--> use to padding before string(left side of the string) upto certain length instead of string"
   ]
  },
  {
   "cell_type": "code",
   "execution_count": 42,
   "id": "0a255358",
   "metadata": {},
   "outputs": [
    {
     "name": "stdout",
     "output_type": "stream",
     "text": [
      "t\n",
      "d\n"
     ]
    },
    {
     "ename": "KeyError",
     "evalue": "'x'",
     "output_type": "error",
     "traceback": [
      "\u001b[1;31m---------------------------------------------------------------------------\u001b[0m",
      "\u001b[1;31mKeyError\u001b[0m                                  Traceback (most recent call last)",
      "Cell \u001b[1;32mIn[42], line 17\u001b[0m\n\u001b[0;32m     15\u001b[0m y\u001b[38;5;241m=\u001b[39m\u001b[38;5;28minput\u001b[39m()\n\u001b[0;32m     16\u001b[0m t \u001b[38;5;241m=\u001b[39m \u001b[38;5;124m\"\u001b[39m\u001b[38;5;124mMy name is \u001b[39m\u001b[38;5;132;01m{x}\u001b[39;00m\u001b[38;5;124m from \u001b[39m\u001b[38;5;132;01m{y}\u001b[39;00m\u001b[38;5;124m\"\u001b[39m\n\u001b[1;32m---> 17\u001b[0m \u001b[43mt\u001b[49m\u001b[38;5;241;43m.\u001b[39;49m\u001b[43mformat\u001b[49m\u001b[43m(\u001b[49m\u001b[43mx\u001b[49m\u001b[43m,\u001b[49m\u001b[43my\u001b[49m\u001b[43m)\u001b[49m\n",
      "\u001b[1;31mKeyError\u001b[0m: 'x'"
     ]
    }
   ],
   "source": [
    "name='    My name is Tushar Bhor    '\n",
    "#print(len(name))\n",
    "#name.capitalize()-->0-position\n",
    "#name.casefold()\n",
    "#name.center(50)\n",
    "#name.encode()\n",
    "#name.endswith(\" \")\n",
    "#name.expandtabs()\n",
    "#name.find(\"h\")\n",
    "#name.index(\"g\")\n",
    "#name.count(\"a\")\n",
    "#str.format()\n",
    "name.format_map()"
   ]
  }
 ],
 "metadata": {
  "kernelspec": {
   "display_name": "Python 3 (ipykernel)",
   "language": "python",
   "name": "python3"
  },
  "language_info": {
   "codemirror_mode": {
    "name": "ipython",
    "version": 3
   },
   "file_extension": ".py",
   "mimetype": "text/x-python",
   "name": "python",
   "nbconvert_exporter": "python",
   "pygments_lexer": "ipython3",
   "version": "3.11.0"
  }
 },
 "nbformat": 4,
 "nbformat_minor": 5
}
