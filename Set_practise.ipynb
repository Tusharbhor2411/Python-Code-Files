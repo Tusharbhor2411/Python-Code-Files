{
 "cells": [
  {
   "cell_type": "code",
   "execution_count": 2,
   "id": "fff45f5c",
   "metadata": {},
   "outputs": [
    {
     "name": "stdout",
     "output_type": "stream",
     "text": [
      "The original set is:-{2, 4, 6, 7, 9}\n",
      "Set after adding elements:-{1, 2, 4, 5, 6, 7, 9, 10}\n"
     ]
    }
   ],
   "source": [
    "#1.Create a set of different products, add some more elements to it and print it.\n",
    "set1={6,4,2,7,9}\n",
    "print(\"The original set is:-\"+str(set1))\n",
    "set2=[1,5,10]\n",
    "set1.update(set2)\n",
    "print(\"Set after adding elements:-\"+str(set1))"
   ]
  },
  {
   "cell_type": "code",
   "execution_count": 17,
   "id": "2ce0036d",
   "metadata": {},
   "outputs": [
    {
     "ename": "TypeError",
     "evalue": "unsupported operand type(s) for +: 'set' and 'set'",
     "output_type": "error",
     "traceback": [
      "\u001b[1;31m---------------------------------------------------------------------------\u001b[0m",
      "\u001b[1;31mTypeError\u001b[0m                                 Traceback (most recent call last)",
      "Cell \u001b[1;32mIn[17], line 4\u001b[0m\n\u001b[0;32m      2\u001b[0m set1\u001b[38;5;241m=\u001b[39m{\u001b[38;5;241m1\u001b[39m,\u001b[38;5;241m2\u001b[39m,\u001b[38;5;241m4\u001b[39m,\u001b[38;5;241m5\u001b[39m,\u001b[38;5;241m6\u001b[39m,\u001b[38;5;241m7\u001b[39m,\u001b[38;5;241m9\u001b[39m,\u001b[38;5;241m10\u001b[39m}\n\u001b[0;32m      3\u001b[0m set2\u001b[38;5;241m=\u001b[39m{\u001b[38;5;241m1\u001b[39m,\u001b[38;5;241m2\u001b[39m,\u001b[38;5;241m3\u001b[39m,\u001b[38;5;241m4\u001b[39m,\u001b[38;5;241m5\u001b[39m,\u001b[38;5;241m6\u001b[39m,\u001b[38;5;241m7\u001b[39m,\u001b[38;5;241m8\u001b[39m}\n\u001b[1;32m----> 4\u001b[0m set3\u001b[38;5;241m=\u001b[39m\u001b[43mset1\u001b[49m\u001b[38;5;241;43m+\u001b[39;49m\u001b[43mset2\u001b[49m\n\u001b[0;32m      5\u001b[0m \u001b[38;5;28;01mfor\u001b[39;00m i,j \u001b[38;5;129;01min\u001b[39;00m set1,set2:\n\u001b[0;32m      6\u001b[0m     \u001b[38;5;28mprint\u001b[39m(i)\n",
      "\u001b[1;31mTypeError\u001b[0m: unsupported operand type(s) for +: 'set' and 'set'"
     ]
    }
   ],
   "source": [
    "#2.Given 2 different sets, access the elements from the set and print all elements from both set\n",
    "set1={1,2,4,5,6,7,9,10}\n",
    "set2={1,2,3,4,5,6,7,8}\n",
    "#print(set1.)\n",
    "#print(set2[6])\n",
    "set3=set1.union(set2)\n",
    "print(set3)"
   ]
  },
  {
   "cell_type": "code",
   "execution_count": 6,
   "id": "4ab7a031",
   "metadata": {},
   "outputs": [
    {
     "name": "stdout",
     "output_type": "stream",
     "text": [
      "{1, 2, 4, 5, 6, 7}\n"
     ]
    }
   ],
   "source": [
    "#3.Given 2 different sets, create a 3rd set which is havinf all common elements from set1 and set2\n",
    "set1={1,2,4,5,6,7,9,10}\n",
    "set2={1,2,3,4,5,6,7,8}\n",
    "set3=set1.intersection(set2)\n",
    "print(set3)"
   ]
  },
  {
   "cell_type": "code",
   "execution_count": 8,
   "id": "145f30f2",
   "metadata": {},
   "outputs": [
    {
     "name": "stdout",
     "output_type": "stream",
     "text": [
      "{9, 10}\n"
     ]
    }
   ],
   "source": [
    "#4.Given 2 different sets, create a 3rd set with elements which are from set1 but not in set2\n",
    "set1={1,2,4,5,6,7,9,10}\n",
    "set2={1,2,3,4,5,6,7,8}\n",
    "set3=set1.difference(set2)\n",
    "print(set3)"
   ]
  },
  {
   "cell_type": "code",
   "execution_count": 15,
   "id": "23b09884",
   "metadata": {},
   "outputs": [
    {
     "name": "stdout",
     "output_type": "stream",
     "text": [
      "frozenset({1, 2, 3, 4, 5, 6, 7, 8, 9, 10})\n"
     ]
    }
   ],
   "source": [
    "#5.Create a immutable set that holds primary key column values from employee table\n",
    "emp_id={101,102,103,104,105,106,107,108,109,110}\n",
    "emp_id_frozen=frozenset(emp_id)\n",
    "print(emp_id_frozen)"
   ]
  },
  {
   "cell_type": "code",
   "execution_count": 14,
   "id": "5e8dd637",
   "metadata": {},
   "outputs": [
    {
     "name": "stdout",
     "output_type": "stream",
     "text": [
      "{1, 2, 3, 4, 5, 6, 7, 8}\n",
      "{1, 2, 3, 4, 5, 6, 7, 8, (1, 2, 3)}\n"
     ]
    }
   ],
   "source": [
    "#6.Given a set with some elements.Add a tuple to this set\n",
    "set1={1,2,3,4,5,6,7,8}\n",
    "print(set1)\n",
    "set1.add((1,2,3,))\n",
    "print(set1)"
   ]
  }
 ],
 "metadata": {
  "kernelspec": {
   "display_name": "Python 3 (ipykernel)",
   "language": "python",
   "name": "python3"
  },
  "language_info": {
   "codemirror_mode": {
    "name": "ipython",
    "version": 3
   },
   "file_extension": ".py",
   "mimetype": "text/x-python",
   "name": "python",
   "nbconvert_exporter": "python",
   "pygments_lexer": "ipython3",
   "version": "3.11.0"
  }
 },
 "nbformat": 4,
 "nbformat_minor": 5
}
