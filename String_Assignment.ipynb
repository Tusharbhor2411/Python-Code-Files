{
 "cells": [
  {
   "cell_type": "code",
   "execution_count": null,
   "id": "7202b425",
   "metadata": {},
   "outputs": [],
   "source": [
    "#1. WAP program to check whether given string is palindrome\n",
    "string=input(\"Enter the string:-\")\n",
    "if string==string[::-1]:\n",
    "    print(\"String is pallindrome\")\n",
    "else:\n",
    "    print(\"String is not pallindrome\")"
   ]
  },
  {
   "cell_type": "code",
   "execution_count": null,
   "id": "12df47a8",
   "metadata": {},
   "outputs": [],
   "source": [
    "#2. WAP program to count number of vowels in given string\n",
    "string=input(\"Enter the string:-\")\n",
    "count=0\n",
    "for i in string:\n",
    "    if i in \"aeiouAEIOU\":\n",
    "        count+=1\n",
    "print(count)"
   ]
  },
  {
   "cell_type": "code",
   "execution_count": null,
   "id": "e3edd4ed",
   "metadata": {},
   "outputs": [],
   "source": [
    "#3. WAP to remove all occurences of given char from String\n",
    "string=input(\"Enter the string:-\")\n",
    "char=input(\"Enter the character:-\")\n",
    "for i in string:\n",
    "    if i != char:\n",
    "        print(\"\".join([i]))"
   ]
  },
  {
   "cell_type": "code",
   "execution_count": null,
   "id": "efaf0e06",
   "metadata": {},
   "outputs": [],
   "source": [
    "#4. WAP to accept 2 string and check whether they are anagram or not eg) MARY ARMY\n",
    "string1=input(\"Enter 1st string:-\")\n",
    "string2=input(\"Enter 2nd string:-\")\n",
    "str1=string1.lower()\n",
    "str2=string2.lower()\n",
    "if len(str1)==len(str2):\n",
    "    sort1=sorted(str1)\n",
    "    sort2=sorted(str2)\n",
    "    if sort1==sort2:\n",
    "        print(string1,\"&\",string2,\"is anagram\")\n",
    "    else:\n",
    "        print(string1,\"&\",string2,\"is not anagram\")\n",
    "else:\n",
    "    print(string1,\"&\",string2,\"is not anagram\")"
   ]
  },
  {
   "cell_type": "code",
   "execution_count": null,
   "id": "a01eac09",
   "metadata": {},
   "outputs": [],
   "source": [
    "#5. WAP to reverse each word in a sentence Python is fun -->nohtyP si nuf\n",
    "string=input(\"Enter your string:-\")\n",
    "str1=string.split(\" \")\n",
    "for i in range(len(str1)):\n",
    "    str1[i]=str1[i][::-1]\n",
    "reverse=\" \".join(str1)\n",
    "print(reverse)"
   ]
  },
  {
   "cell_type": "code",
   "execution_count": null,
   "id": "087847dd",
   "metadata": {},
   "outputs": [],
   "source": [
    "#6. WAP program to find frequency of each character in given String\n",
    "string=input(\"Enter your string:-\")\n",
    "for i in string:\n",
    "    print(i,\":\",string.count(i))"
   ]
  },
  {
   "cell_type": "code",
   "execution_count": null,
   "id": "faa5c210",
   "metadata": {},
   "outputs": [],
   "source": [
    "#7. WAP to extract first alphabet from given sentence to form a new word\n",
    "string=input(\"Enter your string:-\")\n",
    "str1=string.split()\n",
    "word=[]\n",
    "for i in str1:\n",
    "    word.append(i[0])\n",
    "print(word)"
   ]
  },
  {
   "cell_type": "code",
   "execution_count": null,
   "id": "b556e223",
   "metadata": {},
   "outputs": [],
   "source": [
    "#8. star Pattern Programs\n",
    "number=int(input(\"Enter the number:-\"))\n",
    "for i in range(number):\n",
    "    for j in range(i+1):\n",
    "        print(\"*\",end=\"\")\n",
    "    print()\n",
    "    \n",
    "#number=int(input(\"Enter the number:-\"))\n",
    "#for i in range(number,0,-1):\n",
    "#    for j in range(i):\n",
    "#        print(\"*\",end=\"\")\n",
    "#    print()"
   ]
  },
  {
   "cell_type": "code",
   "execution_count": null,
   "id": "3471b1ca",
   "metadata": {},
   "outputs": [],
   "source": [
    "#9. ABCDE\n",
    "#ABCD\n",
    "#ABC\n",
    "#AB\n",
    "#A\n",
    "n=int(input(\"Enter the range:-\"))\n",
    "for i in range(n+65,65,-1):\n",
    "    for j in range(65,i):\n",
    "        print(chr(j),end=\"\")\n",
    "    print()"
   ]
  },
  {
   "cell_type": "code",
   "execution_count": null,
   "id": "eab28e1d",
   "metadata": {},
   "outputs": [],
   "source": [
    "#10. WAP to replace every character by its next subsequent character\n",
    "string=input(\"Enter the string:-\")\n",
    "string=list(string)\n",
    "for i in range(len(string)):\n",
    "    asc=ord(string[i])\n",
    "    string[i]=chr(asc+1)\n",
    "print(''.join(string))"
   ]
  },
  {
   "cell_type": "code",
   "execution_count": null,
   "id": "a550b595",
   "metadata": {},
   "outputs": [],
   "source": [
    "#11. Write a Python program to count the number of characters (character frequency) in a string.\n",
    "string=input(\"Enter your string:-\")\n",
    "for i in string:\n",
    "    print(i,\":\",string.count(i))"
   ]
  },
  {
   "cell_type": "code",
   "execution_count": null,
   "id": "5b879885",
   "metadata": {},
   "outputs": [],
   "source": [
    "#12. Write a Python program to remove the characters which have odd index values of a given string.\n",
    "string=input(\"Enter your string:-\")\n",
    "str1=[]\n",
    "for i in range(len(string)):\n",
    "    asc=ord(string[i])\n",
    "    if asc%2==0:\n",
    "        str1.append(chr(asc))\n",
    "print(\"\".join(str1))"
   ]
  },
  {
   "cell_type": "code",
   "execution_count": null,
   "id": "41ed974e",
   "metadata": {},
   "outputs": [],
   "source": [
    "#13. Write a Python program to count the occurrences of each word in a given sentence.\n",
    "string=input(\"Enter your string:-\")\n",
    "for i in string:\n",
    "    print(i,\":\",string.count(i))"
   ]
  },
  {
   "cell_type": "code",
   "execution_count": null,
   "id": "c197c080",
   "metadata": {},
   "outputs": [],
   "source": [
    "#14. Write a Python program to swap cases or toggle cases of a given string\n",
    "string=input(\"Enter your string:-\")\n",
    "print(string.swapcase())"
   ]
  }
 ],
 "metadata": {
  "kernelspec": {
   "display_name": "Python 3 (ipykernel)",
   "language": "python",
   "name": "python3"
  },
  "language_info": {
   "codemirror_mode": {
    "name": "ipython",
    "version": 3
   },
   "file_extension": ".py",
   "mimetype": "text/x-python",
   "name": "python",
   "nbconvert_exporter": "python",
   "pygments_lexer": "ipython3",
   "version": "3.11.0"
  }
 },
 "nbformat": 4,
 "nbformat_minor": 5
}
