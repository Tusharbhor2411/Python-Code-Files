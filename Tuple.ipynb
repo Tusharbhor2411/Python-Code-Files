{
 "cells": [
  {
   "cell_type": "code",
   "execution_count": 12,
   "id": "16088ad6",
   "metadata": {},
   "outputs": [
    {
     "name": "stdout",
     "output_type": "stream",
     "text": [
      "The original tuple 1:-((3, 4),)\n",
      "The original tuple 2:-((5, 6),)\n",
      "Nested tuple is:-((3, 4), (5, 6))\n"
     ]
    }
   ],
   "source": [
    "#1.WAP to create a nested tuple\n",
    "tuple1=(3,4),\n",
    "tuple2=(5,6),\n",
    "print(\"The original tuple 1:-\"+str(tuple1))\n",
    "print(\"The original tuple 2:-\"+str(tuple2))\n",
    "result=tuple1+tuple2\n",
    "print(\"Nested tuple is:-\"+str(result))"
   ]
  },
  {
   "cell_type": "code",
   "execution_count": null,
   "id": "a41de6d7",
   "metadata": {},
   "outputs": [],
   "source": [
    "#2.Provided a tuple with nested tuple, try to access the elements from the inner tuple\n",
    "tuple1=((3, 4), (5, 6))\n",
    "print(tuple1[0][0])\n",
    "print(tuple1[0][1])\n",
    "print(tuple1[0])\n",
    "print(tuple1[1][0])\n",
    "print(tuple1[1][1])\n",
    "print(tuple1[1])"
   ]
  },
  {
   "cell_type": "code",
   "execution_count": 16,
   "id": "1aff863a",
   "metadata": {},
   "outputs": [
    {
     "name": "stdout",
     "output_type": "stream",
     "text": [
      "3\n",
      "(234, 1223, [1, 2, 10, 4, 5, 6, 7], 1, 4)\n",
      "(234, 1223, [1, 2, 10, 9, 4, 5, 6, 7], 1, 4)\n",
      "(234, 1223, [1, 2, 10, 4, 5, 6, 7], 1, 4)\n"
     ]
    }
   ],
   "source": [
    "#3.Given a tuple with nested list with 5 elements. Try to access the elements of list and modify elements of list.\n",
    "#Add elements to the list and delete  1 element from the inner list\n",
    "tuple1=(234,1223,[1,2,3,4,5,6,7],1,4)\n",
    "print(tuple1[2][2])\n",
    "tuple1[2][2]=10\n",
    "print(tuple1)\n",
    "tuple1[2].insert(3,9)\n",
    "print(tuple1)\n",
    "del tuple1[2][3]\n",
    "print(tuple1)"
   ]
  },
  {
   "cell_type": "code",
   "execution_count": 14,
   "id": "9e59f9bf",
   "metadata": {},
   "outputs": [
    {
     "name": "stdout",
     "output_type": "stream",
     "text": [
      "Second elements of (1, 2, 3) is 2\n",
      "Second elements of (4, 5, 6, 7) is 5\n",
      "Second elements of (8, 9, 10) is 9\n"
     ]
    }
   ],
   "source": [
    "#4.Given a tuple with nested tuples.Iterate through the tuple to print 2nd element from every nested tuple\n",
    "tuple1=((1,2,3),(4,5,6,7),(8,9,10))\n",
    "for i in tuple1:\n",
    "    print(\"Second elements of\",i,\"is\",i[1])"
   ]
  },
  {
   "cell_type": "code",
   "execution_count": 11,
   "id": "906b1fe7",
   "metadata": {},
   "outputs": [
    {
     "data": {
      "text/plain": [
       "2"
      ]
     },
     "execution_count": 11,
     "metadata": {},
     "output_type": "execute_result"
    }
   ],
   "source": [
    "#5.Given a tuple, return the position of element \"x\"\n",
    "tuple1=(1,2,3,4,5,6,7,8,9)\n",
    "tuple1.index(3)"
   ]
  },
  {
   "cell_type": "code",
   "execution_count": null,
   "id": "6bdaee48",
   "metadata": {},
   "outputs": [],
   "source": [
    "#6.Given a tuple, check how many times 'abc' occurs\n",
    "tuple1=(ab,abc,abcd,abcabc,abfabctabcr)\n"
   ]
  }
 ],
 "metadata": {
  "kernelspec": {
   "display_name": "Python 3 (ipykernel)",
   "language": "python",
   "name": "python3"
  },
  "language_info": {
   "codemirror_mode": {
    "name": "ipython",
    "version": 3
   },
   "file_extension": ".py",
   "mimetype": "text/x-python",
   "name": "python",
   "nbconvert_exporter": "python",
   "pygments_lexer": "ipython3",
   "version": "3.11.0"
  }
 },
 "nbformat": 4,
 "nbformat_minor": 5
}
