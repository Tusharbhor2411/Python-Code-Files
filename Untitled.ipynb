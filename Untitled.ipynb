{
 "cells": [
  {
   "cell_type": "code",
   "execution_count": 1,
   "id": "a86e3238",
   "metadata": {},
   "outputs": [
    {
     "name": "stdout",
     "output_type": "stream",
     "text": [
      "Enter the string:-HELLO MY NAME IS JHON\n",
      " OLLEH YM EMAN SI NOHJ\n"
     ]
    }
   ],
   "source": [
    "#1. Given a string of words separated by spaces, write a function to reverse the order of the letters in each words.\n",
    "#\tinput: HELLO MY NAME IS JHON\n",
    "#\toutput: OLLEH YM EMAN SI NOHJ\n",
    "\n",
    "string1=input(\"Enter the string:-\")\n",
    "split_string=[]\n",
    "temp=''\n",
    "for word1 in string1:\n",
    "    if word1==' ':\n",
    "        split_string.append(temp)\n",
    "        temp=''\n",
    "    else:\n",
    "        temp=temp+word1\n",
    "if temp:\n",
    "    split_string.append(temp)\n",
    "\n",
    "string2=[]\n",
    "for word2 in split_string:\n",
    "    string2.append(word2[::-1])\n",
    "\n",
    "string3=''    \n",
    "for word3 in string2:\n",
    "    string3=string3+' '+word3\n",
    "print(string3)"
   ]
  },
  {
   "cell_type": "code",
   "execution_count": null,
   "id": "790cc8b7",
   "metadata": {},
   "outputs": [],
   "source": []
  }
 ],
 "metadata": {
  "kernelspec": {
   "display_name": "Python 3 (ipykernel)",
   "language": "python",
   "name": "python3"
  },
  "language_info": {
   "codemirror_mode": {
    "name": "ipython",
    "version": 3
   },
   "file_extension": ".py",
   "mimetype": "text/x-python",
   "name": "python",
   "nbconvert_exporter": "python",
   "pygments_lexer": "ipython3",
   "version": "3.11.0"
  }
 },
 "nbformat": 4,
 "nbformat_minor": 5
}
