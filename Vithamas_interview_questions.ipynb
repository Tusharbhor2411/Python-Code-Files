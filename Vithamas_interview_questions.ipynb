{
 "cells": [
  {
   "cell_type": "code",
   "execution_count": 1,
   "id": "546587a2",
   "metadata": {},
   "outputs": [
    {
     "name": "stdout",
     "output_type": "stream",
     "text": [
      "Enter the string:-HELLO MY NAME IS TUSHAR BHOR\n",
      " OLLEH YM EMAN SI RAHSUT ROHB\n"
     ]
    }
   ],
   "source": [
    "#1. Given a string of words separated by spaces, write a function to reverse the order of the letters in each words.\n",
    "#\tinput: HELLO MY NAME IS JHON\n",
    "#\toutput: OLLEH YM EMAN SI NOHJ\n",
    "\n",
    "string1=input(\"Enter the string:-\")\n",
    "split_string=[]\n",
    "temp=''\n",
    "for word1 in string1:\n",
    "    if word1==' ':\n",
    "        split_string.append(temp)\n",
    "        temp=''\n",
    "    else:\n",
    "        temp=temp+word1\n",
    "if temp:\n",
    "    split_string.append(temp)\n",
    "\n",
    "string2=[]\n",
    "for word2 in split_string:\n",
    "    string2.append(word2[::-1])\n",
    "\n",
    "string3=''    \n",
    "for word3 in string2:\n",
    "    string3=string3+' '+word3\n",
    "print(string3)"
   ]
  },
  {
   "cell_type": "code",
   "execution_count": 3,
   "id": "86b758c6",
   "metadata": {},
   "outputs": [
    {
     "name": "stdout",
     "output_type": "stream",
     "text": [
      "Enter how many numbers you want:8\n",
      "64\n",
      "56\n",
      "3\n",
      "5\n",
      "12\n",
      "44\n",
      "63\n",
      "65\n",
      "[3, 5, 12, 44, 56, 63, 64, 65]\n",
      "second largest element in the array:- 64\n"
     ]
    }
   ],
   "source": [
    "#2. Given an array of integers, write a function to find the second largest element in the array.\n",
    "#\tinput: [64,56,3,5,12,44,63,65]\n",
    "#\toutput: 64\n",
    "\n",
    "n=int(input('Enter how many numbers you want:'))\n",
    "array1=[]\n",
    "for i in range(n):\n",
    "    ele=int(input())\n",
    "    array1.append(ele)\n",
    "\n",
    "for i in range(n):\n",
    "    for j in range(i+1,n):\n",
    "        if array1[i]>array1[j]:\n",
    "            array1[i],array1[j]=array1[j],array1[i]\n",
    "\n",
    "print(array1)\n",
    "print(\"second largest element in the array:-\",array1[-2])"
   ]
  },
  {
   "cell_type": "code",
   "execution_count": null,
   "id": "8c767706",
   "metadata": {},
   "outputs": [],
   "source": [
    "#3. Write a program to determine whether two matrices are equal\n",
    "#\t\t1 2 3\t    1 2 3\t\n",
    "#   input = 4 5 6\t ,  4 5 6  output: they are equal\n",
    "#\t\t2 5 8     2 5 8\n",
    "#2 5 6\t  1 2 3\n",
    " #   input = 7 8 9\t, 4 5 6  output: they are not equal\n",
    "#\t\t4 5 3   7 8 9"
   ]
  },
  {
   "cell_type": "code",
   "execution_count": 4,
   "id": "bfcad107",
   "metadata": {},
   "outputs": [
    {
     "name": "stdout",
     "output_type": "stream",
     "text": [
      "Enter how many you want in list for sum:- 6\n",
      "101\n",
      "123\n",
      "445\n",
      "27\n",
      "196\n",
      "16\n",
      "[101, 123, 445, 27, 196, 16]\n",
      "17\n",
      "8\n"
     ]
    }
   ],
   "source": [
    "#4. w1.Write a  program to implement a function that takes a list of integers as input and returns the sum untill total should be a single digit number.\n",
    "#\t\tex:input :1,2,3,4,5,6  \n",
    "#\t\t\t     1+2+3+4+5 = 15 \n",
    "#\t\t  output : 1+5 =6\n",
    "\n",
    "def total(num1):\n",
    "    sum=0\n",
    "    total_sum=0\n",
    "    num=0\n",
    "    for i in num1:\n",
    "        sum=sum+i #21\n",
    "    return sum\n",
    "      \n",
    "def Total_sum(sum):\n",
    "    total_sum=0\n",
    "    while(sum>0):\n",
    "        num=sum%10\n",
    "        total_sum=total_sum+num\n",
    "        sum=sum//10\n",
    "    return total_sum\n",
    "    \n",
    "    \n",
    "def main(num1=[]):\n",
    "    n=int(input(\"Enter how many you want in list for sum:- \"))\n",
    "    for i in range(n):\n",
    "        ele=int(input())\n",
    "        num1.append(ele)\n",
    "    print(num1)\n",
    "    sum=total(num1)\n",
    "    \n",
    "    while True:\n",
    "        total_sum=Total_sum(sum)\n",
    "        if total_sum<10:\n",
    "            print(total_sum)\n",
    "            break\n",
    "        else:\n",
    "            sum=total_sum\n",
    "        print(total_sum)\n",
    "main()"
   ]
  },
  {
   "cell_type": "code",
   "execution_count": null,
   "id": "23b13fae",
   "metadata": {},
   "outputs": [],
   "source": [
    "from datetime import datetime\n",
    "from dateutil.relativedelta import relativedelta\n",
    "\n",
    "def calculate_subscription(expiry_date,months_to_buy,monthly_cost):\n",
    "    if months_to_buy==1:\n",
    "        expiry_date_todate=datetime.strptime(expiry_date, \"%d/%m/%Y\")\n",
    "        new_expiry=expiry_date_todate + relativedelta(days=26)  #for 26 days instead of a complete month\n",
    "        cost=round(((monthly_cost/30)*26),2)\n",
    "        print(new_expiry.strftime('%d/%m/%Y'),\",\",cost)\n",
    "    \n",
    "    elif months_to_buy==3:\n",
    "        expiry_date_todate=datetime.strptime(expiry_date, \"%d/%m/%Y\")\n",
    "        day=29+2*round(365/12)                                            #days=29 days + 2 whole months\n",
    "        new_expiry=expiry_date_todate + relativedelta(days=day)\n",
    "        cost=round(((monthly_cost/30)*day),2)\n",
    "        print(new_expiry.strftime('%d/%m/%Y'),\",\",cost)\n",
    "    \n",
    "    else:\n",
    "        print(\"Date is not correct\")\n",
    "\n",
    "    \n",
    "def main():\n",
    "    expiry_date=input(\"Enter the expiry date:- \")\n",
    "    months_to_buy=int(input(\"Enter the months to buy:- \"))\n",
    "    monthly_cost=int(input(\"Enter the monthly cost:- \"))\n",
    "    calculate_subscription(expiry_date,months_to_buy,monthly_cost)\n",
    "\n",
    "main()"
   ]
  }
 ],
 "metadata": {
  "kernelspec": {
   "display_name": "Python 3 (ipykernel)",
   "language": "python",
   "name": "python3"
  },
  "language_info": {
   "codemirror_mode": {
    "name": "ipython",
    "version": 3
   },
   "file_extension": ".py",
   "mimetype": "text/x-python",
   "name": "python",
   "nbconvert_exporter": "python",
   "pygments_lexer": "ipython3",
   "version": "3.11.0"
  }
 },
 "nbformat": 4,
 "nbformat_minor": 5
}
