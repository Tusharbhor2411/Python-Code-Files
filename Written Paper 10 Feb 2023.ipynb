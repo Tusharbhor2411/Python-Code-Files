{
 "cells": [
  {
   "cell_type": "code",
   "execution_count": null,
   "id": "fda7f025",
   "metadata": {},
   "outputs": [],
   "source": [
    "#1) Ram needs to convey his regards to his friends on friendship day he has almost 10 friends. \n",
    "#write a code for the above situation.\n",
    "n=int(input(\"Enter the no. of Friend's:- \"))\n",
    "for i in range (n):\n",
    "    n-=1\n",
    "    n=n+i\n",
    "print(\"Ram needs\",n,\"regards to convey his friends on friendship day!!!\")"
   ]
  },
  {
   "cell_type": "code",
   "execution_count": null,
   "id": "56c6b820",
   "metadata": {},
   "outputs": [],
   "source": [
    "#2) Sita has scored good marks in exam.according the marks secured by sita check what grade she baged.\n",
    "#85+ distinction, 75-85 - first class , 65-75 second class. except the marks from the user\n",
    "marks=int(input(\"Enter Sita's marks:-\"))\n",
    "if marks>=85:\n",
    "    print(\"Sita got distinction!\")\n",
    "elif marks>=75:\n",
    "    print(\"Sita got First class!\")\n",
    "elif marks>=65:\n",
    "    print(\"Sita got Second class\")\n",
    "else:\n",
    "    print(\"Pass class!\")"
   ]
  },
  {
   "cell_type": "code",
   "execution_count": null,
   "id": "fdffd449",
   "metadata": {},
   "outputs": [],
   "source": [
    "#3) Using nested for loop print the pattern\n",
    "#**\n",
    "#***\n",
    "#****\n",
    "#*****\n",
    "#******\n",
    "n=int(input(\"Enter the range:-\"))\n",
    "for i in range(2,n+1):\n",
    "    for j in range(i):\n",
    "        print(\"*\",end=\"\")\n",
    "    print();"
   ]
  },
  {
   "cell_type": "code",
   "execution_count": null,
   "id": "e0c6a0c4",
   "metadata": {},
   "outputs": [],
   "source": [
    "#4) Write a Python program which accepts the user's first and last name and print them in reverse order.\n",
    "firstname=input(\"Enter your First Name:-\")\n",
    "lastname=input(\"Enter your Last Name:-\")\n",
    "print(\"Hello, \"+lastname+\" \"+firstname)"
   ]
  },
  {
   "cell_type": "code",
   "execution_count": null,
   "id": "3f2045c3",
   "metadata": {},
   "outputs": [],
   "source": [
    "#5) Write a Python program to get a new string from a given string where \"Is\" has been added to the front. \n",
    "#If the given string already begins with \"Is\" then return the string unchanged\n",
    "string1=input(\"Enter the string:-\")\n",
    "starts_with=string1.startswith(\"Is\")\n",
    "if starts_with==False:\n",
    "    print(\"Is\",string1)\n",
    "else:\n",
    "    print(string1)"
   ]
  },
  {
   "cell_type": "code",
   "execution_count": null,
   "id": "474eaf07",
   "metadata": {},
   "outputs": [],
   "source": [
    "#6)Display Fibonacci series up to 10 terms\n",
    "num1=0\n",
    "num2=1\n",
    "count=0\n",
    "while count<10:\n",
    "    print(num1)\n",
    "    sum=num1+num2\n",
    "    num1=num2\n",
    "    num2=sum\n",
    "    count=count+1"
   ]
  },
  {
   "cell_type": "code",
   "execution_count": null,
   "id": "8cf8ede5",
   "metadata": {},
   "outputs": [],
   "source": [
    "a={5,6,7}\n",
    "print(a)\n",
    "a.add(5)\n",
    "print(a)"
   ]
  },
  {
   "cell_type": "code",
   "execution_count": null,
   "id": "0083e753",
   "metadata": {},
   "outputs": [],
   "source": [
    "list1=[2,33,222,14,25]\n",
    "list1[-1]"
   ]
  },
  {
   "cell_type": "code",
   "execution_count": null,
   "id": "59d116f4",
   "metadata": {},
   "outputs": [],
   "source": [
    "a=[1,2,3,4,5]\n",
    "for i in range(1,5):\n",
    "    a[i-1]=a[i]\n",
    "for i in range (0,5):\n",
    "    print(a[i],end=\" \")"
   ]
  },
  {
   "cell_type": "code",
   "execution_count": null,
   "id": "012e09ff",
   "metadata": {},
   "outputs": [],
   "source": [
    "t1=(1,2,4,3)\n",
    "t2=(1,2,3,4)\n",
    "t1<t2"
   ]
  },
  {
   "cell_type": "code",
   "execution_count": null,
   "id": "8863de4f",
   "metadata": {},
   "outputs": [],
   "source": [
    "a,b,c=1,2,3\n",
    "a,b,c"
   ]
  },
  {
   "cell_type": "code",
   "execution_count": null,
   "id": "9f6eb0ef",
   "metadata": {},
   "outputs": [],
   "source": [
    "a,b=6,7\n",
    "a,b=b,a\n",
    "a,b"
   ]
  },
  {
   "cell_type": "code",
   "execution_count": null,
   "id": "9f57e2e7",
   "metadata": {},
   "outputs": [],
   "source": [
    "d1={\"a\":40,\"b\":45}\n",
    "d2={\"a\":466,\"b\":45}\n",
    "d1==d2"
   ]
  },
  {
   "cell_type": "code",
   "execution_count": null,
   "id": "ff6f0444",
   "metadata": {},
   "outputs": [],
   "source": [
    "s1={1,2,3,8}\n",
    "s2={3,4,5,6}\n",
    "print(s1|s2)\n",
    "s1.union(s2)"
   ]
  },
  {
   "cell_type": "code",
   "execution_count": null,
   "id": "cd6580a5",
   "metadata": {},
   "outputs": [],
   "source": [
    "a={1:\"A\",2:\"B\",3:\"C\"}\n",
    "del a\n",
    "print(a)"
   ]
  },
  {
   "cell_type": "code",
   "execution_count": null,
   "id": "88c5c937",
   "metadata": {},
   "outputs": [],
   "source": [
    "a=(1,2)\n",
    "b=(3,4)\n",
    "c=a+b\n",
    "c"
   ]
  },
  {
   "cell_type": "code",
   "execution_count": null,
   "id": "6e9de684",
   "metadata": {},
   "outputs": [],
   "source": [
    "n=set([1,1,2,3,3,3,4,4])\n",
    "print(len(n))"
   ]
  },
  {
   "cell_type": "code",
   "execution_count": null,
   "id": "db000878",
   "metadata": {},
   "outputs": [],
   "source": [
    "s=0\n",
    "l=[2,4,6,8,10]\n",
    "for i in range(1,len(l),1):\n",
    "    s=s+l[i]\n",
    "print(s)"
   ]
  },
  {
   "cell_type": "code",
   "execution_count": 1,
   "id": "ec61330d",
   "metadata": {},
   "outputs": [
    {
     "name": "stdout",
     "output_type": "stream",
     "text": [
      "['A', 'B']\n"
     ]
    }
   ],
   "source": [
    "d={\"A\":40,\"B\":45}\n",
    "print(list(d.keys()))"
   ]
  },
  {
   "cell_type": "code",
   "execution_count": 2,
   "id": "f4f17079",
   "metadata": {},
   "outputs": [
    {
     "data": {
      "text/plain": [
       "(2, 4)"
      ]
     },
     "execution_count": 2,
     "metadata": {},
     "output_type": "execute_result"
    }
   ],
   "source": [
    "t=(1,2,4,3)\n",
    "t[1:-1]"
   ]
  }
 ],
 "metadata": {
  "kernelspec": {
   "display_name": "Python 3 (ipykernel)",
   "language": "python",
   "name": "python3"
  },
  "language_info": {
   "codemirror_mode": {
    "name": "ipython",
    "version": 3
   },
   "file_extension": ".py",
   "mimetype": "text/x-python",
   "name": "python",
   "nbconvert_exporter": "python",
   "pygments_lexer": "ipython3",
   "version": "3.11.0"
  }
 },
 "nbformat": 4,
 "nbformat_minor": 5
}
