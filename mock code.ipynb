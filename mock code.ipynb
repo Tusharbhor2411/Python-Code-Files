{
 "cells": [
  {
   "cell_type": "code",
   "execution_count": null,
   "id": "6724fed1",
   "metadata": {},
   "outputs": [],
   "source": [
    "n=int(input(\"How many keys you want?\"))\n",
    "stud=dict()\n",
    "for i in range(n):\n",
    "    key=input(\"Enter key:-\")\n",
    "    val=[]\n",
    "    for j in range(5):\n",
    "        val1=input(\"Enter value:-\")\n",
    "        val.append(val1)\n",
    "    stud[key]=val1\n",
    "    print(stud)\n",
    "print(\"Dictionary of student is:-\")\n",
    "print(stud)"
   ]
  },
  {
   "cell_type": "code",
   "execution_count": null,
   "id": "735ef76e",
   "metadata": {},
   "outputs": [],
   "source": [
    "import operator\n",
    "import functools"
   ]
  },
  {
   "cell_type": "code",
   "execution_count": null,
   "id": "f24fce8b",
   "metadata": {},
   "outputs": [],
   "source": [
    "list1=[1,2,3,4,5,6,7,8,9]\n",
    "print(functools.reduce(operator.add,list1))"
   ]
  },
  {
   "cell_type": "code",
   "execution_count": 4,
   "id": "2cabf160",
   "metadata": {},
   "outputs": [
    {
     "name": "stdout",
     "output_type": "stream",
     "text": [
      "New English School\n",
      "Ram 25\n"
     ]
    }
   ],
   "source": [
    "class School:\n",
    "    def __init__(self,name):\n",
    "        self.name=name\n",
    "school=School(\"New English School\")\n",
    "print(school.name)\n",
    "\n",
    "class Student:\n",
    "    def __init__(self,name,age):\n",
    "        self.name=name\n",
    "        self.age=age\n",
    "s1=Student(\"Ram\",25)\n",
    "print(s1.name,s1.age)   "
   ]
  },
  {
   "cell_type": "code",
   "execution_count": 18,
   "id": "8349cf4b",
   "metadata": {},
   "outputs": [
    {
     "name": "stdout",
     "output_type": "stream",
     "text": [
      "Ram 20\n",
      "18\n",
      "Sunny 21\n"
     ]
    }
   ],
   "source": [
    "class Student:\n",
    "    def __init__(self,name,age):\n",
    "        self.name=name\n",
    "        self.age=age\n",
    "    def get_name(self):\n",
    "        return self.name\n",
    "    def get_age(self):\n",
    "        return self.age\n",
    "    def set_age(self,age):\n",
    "        self.age=age\n",
    "stud1=Student(\"Ram\",20)\n",
    "stud2=Student(\"Sunny\",18)\n",
    "print(stud1.name,stud1.age)\n",
    "print(stud2.get_age())\n",
    "stud2.set_age(21)\n",
    "print(stud2.get_name(),stud2.get_age())"
   ]
  },
  {
   "cell_type": "code",
   "execution_count": 2,
   "id": "ab9cd830",
   "metadata": {},
   "outputs": [
    {
     "name": "stdout",
     "output_type": "stream",
     "text": [
      "New English School\n",
      "Ram 25\n"
     ]
    }
   ],
   "source": [
    "class School:\n",
    "    def __init__(self,name):\n",
    "        self.name=name\n",
    "    def display(self):\n",
    "        print(school.name)\n",
    "school=School(\"New English School\")\n",
    "\n",
    "class Student:\n",
    "    def __init__(self,name,age):\n",
    "        self.name=name\n",
    "        self.age=age\n",
    "    def display(self):\n",
    "        print(s1.name,s1.age)\n",
    "s1=Student(\"Ram\",25)\n",
    "\n",
    "school.display()\n",
    "s1.display()"
   ]
  }
 ],
 "metadata": {
  "kernelspec": {
   "display_name": "Python 3 (ipykernel)",
   "language": "python",
   "name": "python3"
  },
  "language_info": {
   "codemirror_mode": {
    "name": "ipython",
    "version": 3
   },
   "file_extension": ".py",
   "mimetype": "text/x-python",
   "name": "python",
   "nbconvert_exporter": "python",
   "pygments_lexer": "ipython3",
   "version": "3.11.0"
  }
 },
 "nbformat": 4,
 "nbformat_minor": 5
}
