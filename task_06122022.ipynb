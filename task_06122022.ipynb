{
 "cells": [
  {
   "cell_type": "code",
   "execution_count": 16,
   "id": "a973d96a",
   "metadata": {},
   "outputs": [
    {
     "name": "stdout",
     "output_type": "stream",
     "text": [
      "Enter the number:- 1234\n",
      "1234  is even\n"
     ]
    }
   ],
   "source": [
    "a=int(input(\"Enter the number:- \"))\n",
    "if(a%2==0):\n",
    "    print(a,\" is even\")\n",
    "else:\n",
    "    print(a,\" is odd\")"
   ]
  },
  {
   "cell_type": "code",
   "execution_count": 24,
   "id": "25a2c146",
   "metadata": {},
   "outputs": [
    {
     "name": "stdout",
     "output_type": "stream",
     "text": [
      "Enter the no.:- 12345\n",
      "Sum of digits in given no.:-  15\n",
      "Minimun digit in given no.:-  1\n",
      "Total count of digits in given no.:-  5\n"
     ]
    }
   ],
   "source": [
    "num=int(input(\"Enter the no.:- \"))\n",
    "sum=0\n",
    "min=num\n",
    "count=0\n",
    "if(num>0):\n",
    "    while num>0:\n",
    "        n=num%10\n",
    "        num=num//10\n",
    "        sum=sum+n\n",
    "        if(n<min):\n",
    "            min=n\n",
    "        count+=1\n",
    "    print(\"Sum of digits in given no.:- \",sum)\n",
    "    print(\"Minimun digit in given no.:- \",min)\n",
    "    print(\"Total count of digits in given no.:- \",count)\n",
    "else:\n",
    "    print(\"Enter non-zero positive no.\")"
   ]
  },
  {
   "cell_type": "code",
   "execution_count": 26,
   "id": "1ae8569c",
   "metadata": {},
   "outputs": [
    {
     "name": "stdout",
     "output_type": "stream",
     "text": [
      "Enter basic salary amount of employee:- 150000\n",
      "Gross salary amount of employee:-  240000.0\n",
      "Given employee are VP\n"
     ]
    }
   ],
   "source": [
    "sal=int(input(\"Enter basic salary amount of employee:- \"))\n",
    "hra=(sal*0.35)\n",
    "da=(sal*0.25)\n",
    "gross=sal+hra+da\n",
    "print(\"Gross salary amount of employee:- \",gross)\n",
    "\n",
    "if(gross>=200000):\n",
    "    print(\"Given employee are VP\")\n",
    "elif(gross>=100000):\n",
    "    print(\"Given employee are AVP\")\n",
    "elif(gross>=80000):\n",
    "    print(\"Given employee are Manager\")\n",
    "elif(gross>=60000):\n",
    "    print(\"Given employee are Asst. Manager\")\n",
    "else:\n",
    "    print(\"Given employee are Officer\")"
   ]
  },
  {
   "cell_type": "code",
   "execution_count": 7,
   "id": "af8f1ff2",
   "metadata": {},
   "outputs": [
    {
     "name": "stdout",
     "output_type": "stream",
     "text": [
      "Enter the range:- 10\n",
      "0\n",
      "1\n",
      "1\n",
      "2\n",
      "3\n",
      "5\n",
      "8\n",
      "13\n",
      "21\n",
      "34\n"
     ]
    }
   ],
   "source": [
    "r=int(input(\"Enter the range:- \"))\n",
    "count=0\n",
    "n1=0\n",
    "n2=1\n",
    "sum=0\n",
    "while(count<r):\n",
    "    print(sum)\n",
    "    sum=n1+n2\n",
    "    n1=n2\n",
    "    n2=sum\n",
    "    count+=1"
   ]
  },
  {
   "cell_type": "code",
   "execution_count": 33,
   "id": "989822fe",
   "metadata": {},
   "outputs": [
    {
     "name": "stdout",
     "output_type": "stream",
     "text": [
      "Enter the range:- 15\n",
      "0\n",
      "1\n",
      "1\n",
      "2\n",
      "3\n",
      "5\n",
      "8\n",
      "13\n"
     ]
    }
   ],
   "source": [
    "r=int(input(\"Enter the range:- \"))\n",
    "n1=0\n",
    "n2=1\n",
    "n3=0\n",
    "while(n3<r):\n",
    "    print(n3)\n",
    "    n1=n2\n",
    "    n2=n3\n",
    "    n3=n1+n2\n",
    "    "
   ]
  }
 ],
 "metadata": {
  "kernelspec": {
   "display_name": "Python 3 (ipykernel)",
   "language": "python",
   "name": "python3"
  },
  "language_info": {
   "codemirror_mode": {
    "name": "ipython",
    "version": 3
   },
   "file_extension": ".py",
   "mimetype": "text/x-python",
   "name": "python",
   "nbconvert_exporter": "python",
   "pygments_lexer": "ipython3",
   "version": "3.11.0"
  }
 },
 "nbformat": 4,
 "nbformat_minor": 5
}
