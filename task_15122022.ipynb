{
 "cells": [
  {
   "cell_type": "code",
   "execution_count": 3,
   "id": "950fbcd9",
   "metadata": {},
   "outputs": [
    {
     "name": "stdout",
     "output_type": "stream",
     "text": [
      "[1, 5, 0, 2, 0, 8, 9, 0]\n",
      "[0, 0, 0, 1, 2, 5, 8, 9]\n"
     ]
    }
   ],
   "source": [
    "s=[1,5,0,2,0,8,9,0]\n",
    "print(s)\n",
    "print(sorted(s))"
   ]
  },
  {
   "cell_type": "code",
   "execution_count": 11,
   "id": "be615710",
   "metadata": {},
   "outputs": [
    {
     "name": "stdout",
     "output_type": "stream",
     "text": [
      "How many to graize a field by cow:- 48\n",
      "2.0833333333333335\n",
      "23.0 days to graize a half field\n"
     ]
    }
   ],
   "source": [
    "a=float(input(\"How many to graize a field by cow:- \"))\n",
    "b=(100/a)\n",
    "print(b)\n",
    "print(a//b, \"days to graize a half field\")"
   ]
  },
  {
   "cell_type": "code",
   "execution_count": null,
   "id": "567dc75f",
   "metadata": {},
   "outputs": [],
   "source": []
  }
 ],
 "metadata": {
  "kernelspec": {
   "display_name": "Python 3 (ipykernel)",
   "language": "python",
   "name": "python3"
  },
  "language_info": {
   "codemirror_mode": {
    "name": "ipython",
    "version": 3
   },
   "file_extension": ".py",
   "mimetype": "text/x-python",
   "name": "python",
   "nbconvert_exporter": "python",
   "pygments_lexer": "ipython3",
   "version": "3.11.0"
  }
 },
 "nbformat": 4,
 "nbformat_minor": 5
}
