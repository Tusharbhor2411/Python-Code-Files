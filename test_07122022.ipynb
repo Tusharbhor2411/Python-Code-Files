{
 "cells": [
  {
   "cell_type": "code",
   "execution_count": 4,
   "id": "86750978",
   "metadata": {},
   "outputs": [
    {
     "name": "stdout",
     "output_type": "stream",
     "text": [
      "Enter 1st value:- 12\n",
      "Enter 2nd value:- 25\n",
      "Swapped value of a:-  25\n",
      "Swapped value of b:-  12\n"
     ]
    }
   ],
   "source": [
    "#swapping integers without third variable\n",
    "a=int(input(\"Enter 1st value:- \"))\n",
    "b=int(input(\"Enter 2nd value:- \"))\n",
    "a,b=b,a\n",
    "print(\"Swapped value of a:- \",a)\n",
    "print(\"Swapped value of b:- \",b)"
   ]
  },
  {
   "cell_type": "code",
   "execution_count": 3,
   "id": "154e10c6",
   "metadata": {},
   "outputs": [
    {
     "name": "stdout",
     "output_type": "stream",
     "text": [
      "Enter the range:- 4\n"
     ]
    }
   ],
   "source": [
    "n=int(input(\"Enter the range:- \"))\n",
    "\n",
    "for i in range(1,n+1):\n",
    "    for j in range(1,i+1):\n",
    "        print(j%2, end=\" \")\n",
    "    print()"
   ]
  },
  {
   "cell_type": "code",
   "execution_count": 37,
   "id": "a1e3185d",
   "metadata": {},
   "outputs": [
    {
     "name": "stdout",
     "output_type": "stream",
     "text": [
      "Enter the range:- 5\n",
      "* \n",
      "\n",
      "* * \n",
      "\n",
      "* * * \n",
      "\n",
      "* * * * \n",
      "\n",
      "* * * * * \n",
      "\n"
     ]
    }
   ],
   "source": [
    "n=int(input(\"Enter the range:- \"))\n",
    "\n",
    "for i in range(n):\n",
    "    for j in range(i+1):\n",
    "        print(\"* \",end=\"\")\n",
    "    print(\"\\n\")"
   ]
  },
  {
   "cell_type": "code",
   "execution_count": 16,
   "id": "c0350b58",
   "metadata": {},
   "outputs": [
    {
     "name": "stdout",
     "output_type": "stream",
     "text": [
      "Enter the no. of person's in the room:- 10\n",
      "45 Hand shakes possible in room\n"
     ]
    }
   ],
   "source": [
    "n=int(input(\"Enter the no. of person's in the room:- \"))\n",
    "for i in range (n):\n",
    "    n-=1\n",
    "    n=n+i\n",
    "print(n, \"Handshakes possible in room\")"
   ]
  },
  {
   "cell_type": "code",
   "execution_count": 31,
   "id": "e1efd556",
   "metadata": {},
   "outputs": [
    {
     "name": "stdout",
     "output_type": "stream",
     "text": [
      "Enter the name:- sudhir\n",
      "hiR\n"
     ]
    }
   ],
   "source": [
    "test=input(\"Enter the name:- \")\n",
    "t=len(test)\n",
    "test = test[-(t//2):-1] + test[-1].upper()\n",
    "print(test)"
   ]
  },
  {
   "cell_type": "code",
   "execution_count": null,
   "id": "8d9a4464",
   "metadata": {},
   "outputs": [],
   "source": []
  }
 ],
 "metadata": {
  "kernelspec": {
   "display_name": "Python 3 (ipykernel)",
   "language": "python",
   "name": "python3"
  },
  "language_info": {
   "codemirror_mode": {
    "name": "ipython",
    "version": 3
   },
   "file_extension": ".py",
   "mimetype": "text/x-python",
   "name": "python",
   "nbconvert_exporter": "python",
   "pygments_lexer": "ipython3",
   "version": "3.11.0"
  }
 },
 "nbformat": 4,
 "nbformat_minor": 5
}
